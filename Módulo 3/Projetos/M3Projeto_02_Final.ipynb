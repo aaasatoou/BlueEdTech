{
  "nbformat": 4,
  "nbformat_minor": 0,
  "metadata": {
    "colab": {
      "name": "M3Projeto_02_Final.ipynb",
      "provenance": []
    },
    "kernelspec": {
      "name": "python3",
      "display_name": "Python 3"
    },
    "language_info": {
      "name": "python"
    }
  },
  "cells": [
    {
      "cell_type": "markdown",
      "source": [
        "# Projeto 2 - Predição de preços de casas"
      ],
      "metadata": {
        "id": "k8DswG5srPbj"
      }
    },
    {
      "cell_type": "markdown",
      "source": [
        "Peça a um comprador de imóveis para descrever a casa dos seus sonhos e eles provavelmente não começarão com a altura do teto do porão ou a proximidade de uma linha de trem. Mas este conjunto de dados prova que há muitos detalhes que influenciam as negociações de preços do que o número de quartos ou uma cerca branca."
      ],
      "metadata": {
        "id": "qm0tWJvZrRSQ"
      }
    },
    {
      "cell_type": "markdown",
      "source": [
        "# Sobre este projeto\n",
        "Os principais pontos que serão avaliados:\n",
        "*   Levantamento de hipóteses\n",
        "*   Criação e seleção de características\n",
        "*   Manipulação de dados e criação de gráficos simples com o Pandas\n",
        "*   Criar um modelo de predição\n",
        "*   Apresentação dos resultados"
      ],
      "metadata": {
        "id": "25IzTjS0rRPK"
      }
    },
    {
      "cell_type": "markdown",
      "source": [
        "# Preparação do ambiente\n",
        "Para este projeto, acessem o link - https://www.kaggle.com/competitions/house-prices-advanced-regression-techniques e logo abaixo cliquem em \"Download\". Caso voce não tenha uma conta no Kaggle, crie uma e retorne para esse ponto para realizar o download. Descompacte o arquivo."
      ],
      "metadata": {
        "id": "7XUYYzSsrQ-e"
      }
    },
    {
      "cell_type": "code",
      "execution_count": null,
      "metadata": {
        "id": "1xWJAUgyYwwA"
      },
      "outputs": [],
      "source": [
        "import pandas as pd\n",
        "import numpy as np\n",
        "import seaborn as sns\n",
        "import matplotlib.pyplot as plt\n",
        "import math\n",
        "\n",
        "from sklearn.preprocessing import MinMaxScaler\n",
        "from sklearn.model_selection import train_test_split, cross_validate, GridSearchCV\n",
        "from sklearn.linear_model import Ridge, Lasso, SGDRegressor, ElasticNet\n",
        "from sklearn.metrics import r2_score, mean_absolute_error, mean_squared_error, max_error\n",
        "from sklearn.tree import DecisionTreeRegressor\n",
        "from sklearn.ensemble import GradientBoostingRegressor, RandomForestRegressor\n",
        "from sklearn.feature_selection import f_classif, SelectKBest, VarianceThreshold"
      ]
    },
    {
      "cell_type": "code",
      "source": [
        "df = pd.read_csv('/content/train.csv')"
      ],
      "metadata": {
        "id": "HaNLzhtAZBLQ"
      },
      "execution_count": null,
      "outputs": []
    },
    {
      "cell_type": "code",
      "source": [
        "df.head()"
      ],
      "metadata": {
        "colab": {
          "base_uri": "https://localhost:8080/",
          "height": 236
        },
        "id": "7HHWxQShaOMO",
        "outputId": "4547d490-e2a5-4c1a-9842-8546c9068c4b"
      },
      "execution_count": null,
      "outputs": [
        {
          "output_type": "execute_result",
          "data": {
            "text/plain": [
              "   Id  MSSubClass MSZoning  LotFrontage  LotArea Street Alley LotShape  \\\n",
              "0   1          60       RL         65.0     8450   Pave   NaN      Reg   \n",
              "1   2          20       RL         80.0     9600   Pave   NaN      Reg   \n",
              "2   3          60       RL         68.0    11250   Pave   NaN      IR1   \n",
              "3   4          70       RL         60.0     9550   Pave   NaN      IR1   \n",
              "4   5          60       RL         84.0    14260   Pave   NaN      IR1   \n",
              "\n",
              "  LandContour Utilities  ... PoolArea PoolQC Fence MiscFeature MiscVal MoSold  \\\n",
              "0         Lvl    AllPub  ...        0    NaN   NaN         NaN       0      2   \n",
              "1         Lvl    AllPub  ...        0    NaN   NaN         NaN       0      5   \n",
              "2         Lvl    AllPub  ...        0    NaN   NaN         NaN       0      9   \n",
              "3         Lvl    AllPub  ...        0    NaN   NaN         NaN       0      2   \n",
              "4         Lvl    AllPub  ...        0    NaN   NaN         NaN       0     12   \n",
              "\n",
              "  YrSold  SaleType  SaleCondition  SalePrice  \n",
              "0   2008        WD         Normal     208500  \n",
              "1   2007        WD         Normal     181500  \n",
              "2   2008        WD         Normal     223500  \n",
              "3   2006        WD        Abnorml     140000  \n",
              "4   2008        WD         Normal     250000  \n",
              "\n",
              "[5 rows x 81 columns]"
            ],
            "text/html": [
              "\n",
              "  <div id=\"df-a45950c9-efa0-4ff4-b8d6-bd98975b2855\">\n",
              "    <div class=\"colab-df-container\">\n",
              "      <div>\n",
              "<style scoped>\n",
              "    .dataframe tbody tr th:only-of-type {\n",
              "        vertical-align: middle;\n",
              "    }\n",
              "\n",
              "    .dataframe tbody tr th {\n",
              "        vertical-align: top;\n",
              "    }\n",
              "\n",
              "    .dataframe thead th {\n",
              "        text-align: right;\n",
              "    }\n",
              "</style>\n",
              "<table border=\"1\" class=\"dataframe\">\n",
              "  <thead>\n",
              "    <tr style=\"text-align: right;\">\n",
              "      <th></th>\n",
              "      <th>Id</th>\n",
              "      <th>MSSubClass</th>\n",
              "      <th>MSZoning</th>\n",
              "      <th>LotFrontage</th>\n",
              "      <th>LotArea</th>\n",
              "      <th>Street</th>\n",
              "      <th>Alley</th>\n",
              "      <th>LotShape</th>\n",
              "      <th>LandContour</th>\n",
              "      <th>Utilities</th>\n",
              "      <th>...</th>\n",
              "      <th>PoolArea</th>\n",
              "      <th>PoolQC</th>\n",
              "      <th>Fence</th>\n",
              "      <th>MiscFeature</th>\n",
              "      <th>MiscVal</th>\n",
              "      <th>MoSold</th>\n",
              "      <th>YrSold</th>\n",
              "      <th>SaleType</th>\n",
              "      <th>SaleCondition</th>\n",
              "      <th>SalePrice</th>\n",
              "    </tr>\n",
              "  </thead>\n",
              "  <tbody>\n",
              "    <tr>\n",
              "      <th>0</th>\n",
              "      <td>1</td>\n",
              "      <td>60</td>\n",
              "      <td>RL</td>\n",
              "      <td>65.0</td>\n",
              "      <td>8450</td>\n",
              "      <td>Pave</td>\n",
              "      <td>NaN</td>\n",
              "      <td>Reg</td>\n",
              "      <td>Lvl</td>\n",
              "      <td>AllPub</td>\n",
              "      <td>...</td>\n",
              "      <td>0</td>\n",
              "      <td>NaN</td>\n",
              "      <td>NaN</td>\n",
              "      <td>NaN</td>\n",
              "      <td>0</td>\n",
              "      <td>2</td>\n",
              "      <td>2008</td>\n",
              "      <td>WD</td>\n",
              "      <td>Normal</td>\n",
              "      <td>208500</td>\n",
              "    </tr>\n",
              "    <tr>\n",
              "      <th>1</th>\n",
              "      <td>2</td>\n",
              "      <td>20</td>\n",
              "      <td>RL</td>\n",
              "      <td>80.0</td>\n",
              "      <td>9600</td>\n",
              "      <td>Pave</td>\n",
              "      <td>NaN</td>\n",
              "      <td>Reg</td>\n",
              "      <td>Lvl</td>\n",
              "      <td>AllPub</td>\n",
              "      <td>...</td>\n",
              "      <td>0</td>\n",
              "      <td>NaN</td>\n",
              "      <td>NaN</td>\n",
              "      <td>NaN</td>\n",
              "      <td>0</td>\n",
              "      <td>5</td>\n",
              "      <td>2007</td>\n",
              "      <td>WD</td>\n",
              "      <td>Normal</td>\n",
              "      <td>181500</td>\n",
              "    </tr>\n",
              "    <tr>\n",
              "      <th>2</th>\n",
              "      <td>3</td>\n",
              "      <td>60</td>\n",
              "      <td>RL</td>\n",
              "      <td>68.0</td>\n",
              "      <td>11250</td>\n",
              "      <td>Pave</td>\n",
              "      <td>NaN</td>\n",
              "      <td>IR1</td>\n",
              "      <td>Lvl</td>\n",
              "      <td>AllPub</td>\n",
              "      <td>...</td>\n",
              "      <td>0</td>\n",
              "      <td>NaN</td>\n",
              "      <td>NaN</td>\n",
              "      <td>NaN</td>\n",
              "      <td>0</td>\n",
              "      <td>9</td>\n",
              "      <td>2008</td>\n",
              "      <td>WD</td>\n",
              "      <td>Normal</td>\n",
              "      <td>223500</td>\n",
              "    </tr>\n",
              "    <tr>\n",
              "      <th>3</th>\n",
              "      <td>4</td>\n",
              "      <td>70</td>\n",
              "      <td>RL</td>\n",
              "      <td>60.0</td>\n",
              "      <td>9550</td>\n",
              "      <td>Pave</td>\n",
              "      <td>NaN</td>\n",
              "      <td>IR1</td>\n",
              "      <td>Lvl</td>\n",
              "      <td>AllPub</td>\n",
              "      <td>...</td>\n",
              "      <td>0</td>\n",
              "      <td>NaN</td>\n",
              "      <td>NaN</td>\n",
              "      <td>NaN</td>\n",
              "      <td>0</td>\n",
              "      <td>2</td>\n",
              "      <td>2006</td>\n",
              "      <td>WD</td>\n",
              "      <td>Abnorml</td>\n",
              "      <td>140000</td>\n",
              "    </tr>\n",
              "    <tr>\n",
              "      <th>4</th>\n",
              "      <td>5</td>\n",
              "      <td>60</td>\n",
              "      <td>RL</td>\n",
              "      <td>84.0</td>\n",
              "      <td>14260</td>\n",
              "      <td>Pave</td>\n",
              "      <td>NaN</td>\n",
              "      <td>IR1</td>\n",
              "      <td>Lvl</td>\n",
              "      <td>AllPub</td>\n",
              "      <td>...</td>\n",
              "      <td>0</td>\n",
              "      <td>NaN</td>\n",
              "      <td>NaN</td>\n",
              "      <td>NaN</td>\n",
              "      <td>0</td>\n",
              "      <td>12</td>\n",
              "      <td>2008</td>\n",
              "      <td>WD</td>\n",
              "      <td>Normal</td>\n",
              "      <td>250000</td>\n",
              "    </tr>\n",
              "  </tbody>\n",
              "</table>\n",
              "<p>5 rows × 81 columns</p>\n",
              "</div>\n",
              "      <button class=\"colab-df-convert\" onclick=\"convertToInteractive('df-a45950c9-efa0-4ff4-b8d6-bd98975b2855')\"\n",
              "              title=\"Convert this dataframe to an interactive table.\"\n",
              "              style=\"display:none;\">\n",
              "        \n",
              "  <svg xmlns=\"http://www.w3.org/2000/svg\" height=\"24px\"viewBox=\"0 0 24 24\"\n",
              "       width=\"24px\">\n",
              "    <path d=\"M0 0h24v24H0V0z\" fill=\"none\"/>\n",
              "    <path d=\"M18.56 5.44l.94 2.06.94-2.06 2.06-.94-2.06-.94-.94-2.06-.94 2.06-2.06.94zm-11 1L8.5 8.5l.94-2.06 2.06-.94-2.06-.94L8.5 2.5l-.94 2.06-2.06.94zm10 10l.94 2.06.94-2.06 2.06-.94-2.06-.94-.94-2.06-.94 2.06-2.06.94z\"/><path d=\"M17.41 7.96l-1.37-1.37c-.4-.4-.92-.59-1.43-.59-.52 0-1.04.2-1.43.59L10.3 9.45l-7.72 7.72c-.78.78-.78 2.05 0 2.83L4 21.41c.39.39.9.59 1.41.59.51 0 1.02-.2 1.41-.59l7.78-7.78 2.81-2.81c.8-.78.8-2.07 0-2.86zM5.41 20L4 18.59l7.72-7.72 1.47 1.35L5.41 20z\"/>\n",
              "  </svg>\n",
              "      </button>\n",
              "      \n",
              "  <style>\n",
              "    .colab-df-container {\n",
              "      display:flex;\n",
              "      flex-wrap:wrap;\n",
              "      gap: 12px;\n",
              "    }\n",
              "\n",
              "    .colab-df-convert {\n",
              "      background-color: #E8F0FE;\n",
              "      border: none;\n",
              "      border-radius: 50%;\n",
              "      cursor: pointer;\n",
              "      display: none;\n",
              "      fill: #1967D2;\n",
              "      height: 32px;\n",
              "      padding: 0 0 0 0;\n",
              "      width: 32px;\n",
              "    }\n",
              "\n",
              "    .colab-df-convert:hover {\n",
              "      background-color: #E2EBFA;\n",
              "      box-shadow: 0px 1px 2px rgba(60, 64, 67, 0.3), 0px 1px 3px 1px rgba(60, 64, 67, 0.15);\n",
              "      fill: #174EA6;\n",
              "    }\n",
              "\n",
              "    [theme=dark] .colab-df-convert {\n",
              "      background-color: #3B4455;\n",
              "      fill: #D2E3FC;\n",
              "    }\n",
              "\n",
              "    [theme=dark] .colab-df-convert:hover {\n",
              "      background-color: #434B5C;\n",
              "      box-shadow: 0px 1px 3px 1px rgba(0, 0, 0, 0.15);\n",
              "      filter: drop-shadow(0px 1px 2px rgba(0, 0, 0, 0.3));\n",
              "      fill: #FFFFFF;\n",
              "    }\n",
              "  </style>\n",
              "\n",
              "      <script>\n",
              "        const buttonEl =\n",
              "          document.querySelector('#df-a45950c9-efa0-4ff4-b8d6-bd98975b2855 button.colab-df-convert');\n",
              "        buttonEl.style.display =\n",
              "          google.colab.kernel.accessAllowed ? 'block' : 'none';\n",
              "\n",
              "        async function convertToInteractive(key) {\n",
              "          const element = document.querySelector('#df-a45950c9-efa0-4ff4-b8d6-bd98975b2855');\n",
              "          const dataTable =\n",
              "            await google.colab.kernel.invokeFunction('convertToInteractive',\n",
              "                                                     [key], {});\n",
              "          if (!dataTable) return;\n",
              "\n",
              "          const docLinkHtml = 'Like what you see? Visit the ' +\n",
              "            '<a target=\"_blank\" href=https://colab.research.google.com/notebooks/data_table.ipynb>data table notebook</a>'\n",
              "            + ' to learn more about interactive tables.';\n",
              "          element.innerHTML = '';\n",
              "          dataTable['output_type'] = 'display_data';\n",
              "          await google.colab.output.renderOutput(dataTable, element);\n",
              "          const docLink = document.createElement('div');\n",
              "          docLink.innerHTML = docLinkHtml;\n",
              "          element.appendChild(docLink);\n",
              "        }\n",
              "      </script>\n",
              "    </div>\n",
              "  </div>\n",
              "  "
            ]
          },
          "metadata": {},
          "execution_count": 3
        }
      ]
    },
    {
      "cell_type": "code",
      "source": [
        "df = df.drop('Id', axis = 1)"
      ],
      "metadata": {
        "id": "N4v_hIicSLXo"
      },
      "execution_count": null,
      "outputs": []
    },
    {
      "cell_type": "markdown",
      "source": [
        "# Exercício\n",
        "Neste projeto você deverá desenvolver a partir do que já vimos nos projetos anteriores, ou seja, poderá usar qualquer um dos modelos vistos durante as aulas. Siga este roteiro e preencha cada parte."
      ],
      "metadata": {
        "id": "D5fTpxXYrrg_"
      }
    },
    {
      "cell_type": "markdown",
      "source": [
        "# 1. Análise exploratória de dados (1.0 ponto)\n",
        "Realize a análise exploratória de dados. Observe cada variável, como se comportam em relação a outras variáveis independentes e com a variável dependente."
      ],
      "metadata": {
        "id": "HvRdYtvVruCu"
      }
    },
    {
      "cell_type": "code",
      "source": [
        "df.shape"
      ],
      "metadata": {
        "colab": {
          "base_uri": "https://localhost:8080/"
        },
        "id": "TtyE6is29jYc",
        "outputId": "1f16aeed-67e0-4100-9bb9-16c42fbfbb36"
      },
      "execution_count": null,
      "outputs": [
        {
          "output_type": "execute_result",
          "data": {
            "text/plain": [
              "(1460, 80)"
            ]
          },
          "metadata": {},
          "execution_count": 5
        }
      ]
    },
    {
      "cell_type": "code",
      "source": [
        "# Separação das variáveis em númericas e categóricas\n",
        "df_categoricas = df.select_dtypes('object')\n",
        "df_numericas = df.select_dtypes(exclude='object')\n",
        "\n",
        "# Dentro do dataframe com variáveis numéricas, ainda temos as variáveis categoricas ordinais presentes no dataset\n",
        "# As variáveis 'MSSubClass', 'OverallQual', 'OverallCond' precisam ser adicionadas ao dataframe de categoricas\n",
        "df_categoricas = pd.concat([df_categoricas, df_numericas[['MSSubClass', 'OverallQual', 'OverallCond']]], axis = 1)\n",
        "df_numericas = df_numericas.drop(['MSSubClass', 'OverallQual', 'OverallCond'], axis = 1)\n",
        "\n",
        "# A variável target é inserida no df de variáveis categoricas para facilitar a construção dos gráficos, será excluida posteriormente.\n",
        "df_categoricas = pd.concat([df_categoricas,df_numericas['SalePrice']], axis=1)\n",
        "\n",
        "print(df_categoricas.shape)\n",
        "print(df_numericas.shape)"
      ],
      "metadata": {
        "id": "WVEm4vzPhvxg",
        "colab": {
          "base_uri": "https://localhost:8080/"
        },
        "outputId": "37c5b530-9632-46ad-c328-7d39e2058173"
      },
      "execution_count": null,
      "outputs": [
        {
          "output_type": "stream",
          "name": "stdout",
          "text": [
            "(1460, 47)\n",
            "(1460, 34)\n"
          ]
        }
      ]
    },
    {
      "cell_type": "code",
      "source": [
        "plt.figure(figsize=(30,24))\n",
        "sns.heatmap(df_numericas.corr(), vmin=-1, vmax=1, annot=True);"
      ],
      "metadata": {
        "id": "9T82RsCeGdu3"
      },
      "execution_count": null,
      "outputs": []
    },
    {
      "cell_type": "markdown",
      "source": [
        "Analisando a matriz de correlações, percebemos que há algumas variáveis com um alto nível de correlação com a variável 'SalePrice'. Quando analisamos as relações entre as variáveis independentes percebemos algumas relações.  \n",
        "Há algumas correlações negativas significativas em relação entre as variáveis, porém, nenhuma em relação a 'SalePrice'. Para simplificar a análise, a matriz de correlações foi filtrada para exibir somente correlações acima de 0.5 ou abaixo de -0.3.\n"
      ],
      "metadata": {
        "id": "T1NoQ4gBOaD8"
      }
    },
    {
      "cell_type": "code",
      "source": [
        "correlacoes = df_numericas.corr().values\n",
        "np.fill_diagonal(correlacoes, np.nan)\n",
        "correlacoes = pd.DataFrame(correlacoes, columns = df_numericas.corr().columns, index = df_numericas.corr().index)\n",
        "\n",
        "plt.figure(figsize=(10,10))\n",
        "sns.heatmap(correlacoes[(correlacoes > 0.5) | (correlacoes < -0.3)].dropna(how='all').dropna(how='all', axis = 1), vmin=-1, vmax=1, annot=True);"
      ],
      "metadata": {
        "id": "gRHqIoLXBiDw"
      },
      "execution_count": null,
      "outputs": []
    },
    {
      "cell_type": "code",
      "source": [
        "# Cruzamento das variáveis com correlação > 0.5 e <-0.3\n",
        "vetor_corr = [] # Vetor a ser utilizado posteriormente na criação de gráficos\n",
        "\n",
        "for i in range(len(correlacoes.columns)):\n",
        "  for j in range(i,len(correlacoes.index)): # A matriz é quadrada e simétrica, evita que comparações descenecessarias sejam feitas analisando apenas a metade inferior da matriz.\n",
        "    if correlacoes.iloc[i,j] == 1:\n",
        "      continue\n",
        "    \n",
        "    if correlacoes.iloc[i,j] > 0.5 or correlacoes.iloc[i,j] < -0.3:\n",
        "      print(f'{correlacoes.columns[i]} x {correlacoes.index[j]}')\n",
        "      vetor_corr.append(f'{correlacoes.columns[i]} {correlacoes.index[j]}')"
      ],
      "metadata": {
        "colab": {
          "base_uri": "https://localhost:8080/"
        },
        "id": "s6K65wsndPxR",
        "outputId": "84be74ab-0f95-4c71-9ed3-d4aa0af82a06"
      },
      "execution_count": null,
      "outputs": [
        {
          "output_type": "stream",
          "name": "stdout",
          "text": [
            "YearBuilt x YearRemodAdd\n",
            "YearBuilt x GarageYrBlt\n",
            "YearBuilt x GarageCars\n",
            "YearBuilt x EnclosedPorch\n",
            "YearBuilt x SalePrice\n",
            "YearRemodAdd x GarageYrBlt\n",
            "YearRemodAdd x SalePrice\n",
            "BsmtFinSF1 x BsmtUnfSF\n",
            "BsmtFinSF1 x TotalBsmtSF\n",
            "BsmtFinSF1 x BsmtFullBath\n",
            "BsmtUnfSF x BsmtFullBath\n",
            "TotalBsmtSF x 1stFlrSF\n",
            "TotalBsmtSF x SalePrice\n",
            "1stFlrSF x GrLivArea\n",
            "1stFlrSF x SalePrice\n",
            "2ndFlrSF x GrLivArea\n",
            "2ndFlrSF x HalfBath\n",
            "2ndFlrSF x BedroomAbvGr\n",
            "2ndFlrSF x TotRmsAbvGrd\n",
            "GrLivArea x FullBath\n",
            "GrLivArea x BedroomAbvGr\n",
            "GrLivArea x TotRmsAbvGrd\n",
            "GrLivArea x SalePrice\n",
            "FullBath x TotRmsAbvGrd\n",
            "FullBath x SalePrice\n",
            "BedroomAbvGr x TotRmsAbvGrd\n",
            "TotRmsAbvGrd x SalePrice\n",
            "GarageYrBlt x GarageCars\n",
            "GarageYrBlt x GarageArea\n",
            "GarageCars x GarageArea\n",
            "GarageCars x SalePrice\n",
            "GarageArea x SalePrice\n"
          ]
        }
      ]
    },
    {
      "cell_type": "markdown",
      "source": [
        "Podemos levantar algumas hipóteses baseadas nessas correlações. Como por exemplo:\n",
        "\n",
        "*   'GarageYrBlt' x 'YearBuilt': 'GarageYrBlt' representa o ano que a garagem foi construída. 'YearBuilt' representa o ano da construção. A correlação entre as variáveis faz sentido uma vez que garagens geralmente são construídas junto com a casa.\n",
        "*   'GarageYrBlt' x 'YearRemodAdd': 'GarageYrBlt' representa o ano que a garagem foi construída. 'YearRemodAdd' é a data de remodelação da casa. Essa correlação faz sentido uma vez que garagens podem ser adicionadas junto a remodelagem da casa.\n",
        "*   'GarageCars' x 'YearBuilt': 'GarageCars' representa o tamanho da garagem em capacidade de carros. 'YearBuilt' representa o ano da construção. Provavelmente uma correlação espúria, talvez tenha alguma relação com o passar dos anos e na popularização de compras de carros.\n",
        "*   'EnclosedPorch' x 'YearBuilt': 'EnclosedPorch' representa o tamanho da varanda em pés quadrados. 'YearBuilt' representa o ano da construção. Mostra uma relação negativa entre a área da varanda e o ano de construção, mostra que com o passar dos anos as varandas tendem a ficar menores, a popularização de apartamentos ou casas menores podem justificar essa relação.\n",
        "\n",
        "Porém, as relações mais importantes são as que tem muita correlação com a variável target 'SalePrice', sendo assim, a análise será aprofundada nessa variável.\n"
      ],
      "metadata": {
        "id": "zmMiIZVyK1sN"
      }
    },
    {
      "cell_type": "code",
      "source": [
        "plt.figure(figsize=(15,15))\n",
        "sns.barplot(data=df_numericas.corr().drop('SalePrice')['SalePrice'].reset_index().sort_values(by='SalePrice', ascending=False), y ='index', x = 'SalePrice', orient='h');"
      ],
      "metadata": {
        "id": "t4WcbRKRMTwz"
      },
      "execution_count": null,
      "outputs": []
    },
    {
      "cell_type": "markdown",
      "source": [
        "Observamos que as variáveis numéricas que possuem correlação maior que 0.5 com 'SalePrice' são: 'GrLivArea', 'GarageCars', 'GarageArea', 'TotalBsmtSF', '1stFloorSF', 'FullBath', 'TotRmsAbvGrd', 'YearBuilt' e 'YearRemodAdd'.\n",
        "\n",
        "Para a análise das variáveis categóricas, primeiramente precisamos discretizar a faixa 'SalesPrice' em faixas para que a visualização fique mais clara.\n"
      ],
      "metadata": {
        "id": "QBmUa0iRaHAc"
      }
    },
    {
      "cell_type": "code",
      "source": [
        "rotulos = pd.cut(x=df_categoricas['SalePrice'], bins=[0,100000,200000,300000,400000,500000,600000,700000,800000]) # Discretiza os valores de 'SalesPrice em faixas de 100000 para rotular os gráficos\n",
        "rotulos = rotulos.astype('str').str.replace(\",\", \" até\").str.replace(\"(\", \"\").str.replace(\"]\", \"\") # Organiza os rotulos para ficarem legiveis\n",
        "\n",
        "plt.subplots(12,4,figsize=(7*3,7*10))\n",
        "for i in range(0,len(df_categoricas.columns)):\n",
        "  if df_categoricas.columns[i] == 'SalePrice':\n",
        "    continue\n",
        "  plt.subplot(12,4,i+1)\n",
        "  sns.histplot(data=df_categoricas, x = df_categoricas.columns[i], hue=rotulos, hue_order = np.sort(rotulos.unique()), multiple='stack' )\n",
        "  plt.xticks(rotation=90)\n",
        "  plt.title(df_categoricas.columns[i])\n",
        "  plt.xlabel('')\n",
        "\n",
        "plt.tight_layout()\n",
        "plt.show()"
      ],
      "metadata": {
        "id": "_Wy1QnVJnXu0"
      },
      "execution_count": null,
      "outputs": []
    },
    {
      "cell_type": "markdown",
      "source": [
        "Analisando os histogramas das variáveis categóricas, percebemos algumas caracteristicas que tornam a analise dessas variáveis ainda mais complexa. A maioria das observações possuem 'SalePrice' entre 100000 até 200000, além de termos vários atributos categóricos com um unico valor dominante (por exemplo, variável 'Street' possui em sua grande maioria o valor 'Pave').\n",
        "\n",
        "Não há muito oque se fazer em relação aos valores dominantes dentro dos atributos, porém, para melhorar a visualização, podemos binarizar o esquema de cores para trazer mais clareza ao gráfico."
      ],
      "metadata": {
        "id": "LqzrqMw_q1dp"
      }
    },
    {
      "cell_type": "code",
      "source": [
        "rotulos = rotulos.map({'100000 até 200000': '100000 até 200000',\n",
        "                       '200000 até 300000': 'Outras faixas',\n",
        "                       '300000 até 400000': 'Outras faixas',\n",
        "                       '0 até 100000': 'Outras faixas',\n",
        "                       '400000 até 500000': 'Outras faixas',\n",
        "                       '500000 até 600000': 'Outras faixas',\n",
        "                       '700000 até 800000': 'Outras faixas', \n",
        "                       '600000 até 700000': 'Outras faixas'})"
      ],
      "metadata": {
        "id": "u0fNQ05ST1Gc"
      },
      "execution_count": null,
      "outputs": []
    },
    {
      "cell_type": "code",
      "source": [
        "plt.subplots(12,4,figsize=(7*3,7*10))\n",
        "for i in range(0,len(df_categoricas.columns)):\n",
        "  if df_categoricas.columns[i] == 'SalePrice':\n",
        "    continue\n",
        "  plt.subplot(12,4,i+1)\n",
        "  sns.histplot(data=df_categoricas, x = df_categoricas.columns[i], hue=rotulos, hue_order =  np.sort(rotulos.unique()), multiple='stack' )\n",
        "  plt.xticks(rotation=90)\n",
        "  plt.title(df_categoricas.columns[i])\n",
        "  plt.xlabel('')\n",
        "\n",
        "plt.tight_layout()\n",
        "plt.show()"
      ],
      "metadata": {
        "id": "6vdat8gtEfb4"
      },
      "execution_count": null,
      "outputs": []
    },
    {
      "cell_type": "markdown",
      "source": [
        "Agora, sabendo que a maioria das casas pertence a faixa de preço de 100000 a 200000, podemos analisar quais são os valores das variáveis categóricas que fazem com que o preço de venda fuja deste padrão (seja para cima ou para baixo).\n",
        "A variável 'LotShape', por exemplo, ilustra bem a situação. \n",
        "\n",
        "*    Em terrenos regulares ('Reg'), temos o padrão de preço esperado, este padrão é o mesmo observado entre valores dominantes de outras variáveis categóricas dentro do dataset.\n",
        "*   Quando analisamos terrenos levemente irregulares ('IR1') há uma mudança na proporção entre casas vendidas na faixa de preço padrão e em outras faixas.\n",
        "*   O mesmo ocorre com os outros valores de 'Reg'. A proporção entre preços em 'IR2' e 'IR3' passa a ser dominado por 'Outras Faixas'.\n",
        "\n",
        "Outra variável que podemos analisar é a variável 'Neighborgood', vemos claramente que a mudança de vizinhança faz com que a faixa de preço se desloque da faixa de preço mais comum no dataset, em especial o valor 'NridgHt' apresenta valores predominantemente fora da faixa de '100000 até 200000'.\n"
      ],
      "metadata": {
        "id": "dk2ra5vsYjwI"
      }
    },
    {
      "cell_type": "code",
      "source": [
        "plt.subplots(12,4,figsize=(7*3,7*10))\n",
        "for i in range(0,len(df_categoricas.columns)):\n",
        "  if df_categoricas.columns[i] == 'SalePrice':\n",
        "    continue\n",
        "  plt.subplot(12,4,i+1)\n",
        "  sns.boxplot(data=df_categoricas, x = df_categoricas.columns[i], y = df_categoricas['SalePrice'])\n",
        "  plt.xticks(rotation=90)\n",
        "  plt.title(df_categoricas.columns[i])\n",
        "  plt.xlabel('')\n",
        "\n",
        "plt.tight_layout()\n",
        "plt.show()"
      ],
      "metadata": {
        "id": "nj7BygSBroiq"
      },
      "execution_count": null,
      "outputs": []
    },
    {
      "cell_type": "markdown",
      "source": [
        "Através dos boxplot, podemos realizar a análise de um ponto de vista puramente numérico. Aqui, é possível comprovar a hipótese de que a maior parte das vendas foram fechadas na faixa de 100000 até 200000 observando que o 1Q a mediana e o 3Q (ou seja, 50% dos dados) estão inseridos justamente nessa faixa.\n",
        "\n",
        "Também podemos notar relações que não são possíveis em um histograma. A variável 'Condition2', por exemplo, mostra que casas próximas a parques ou áreas verdes tendem a ser bem valorizadas em contrapartida casas posicionadas próximas a vias arteriais (uma via arterial é uma estrada urbana de alta capacidade) tendem a desvalorizar a casa.\n",
        "\n",
        "A relação mais notável neste gráfico é do aumento contínuo de 'SalePrice' junto a variável 'OverallQual', sendo uma variável que julga a qualidade dos materiais utilizados na construção, faz sentido que as casas sejam mais caras quanto melhor forem os materiais.\n"
      ],
      "metadata": {
        "id": "AaXkRLLzeyDW"
      }
    },
    {
      "cell_type": "markdown",
      "source": [
        "# 2. Levantamento de hipóteses (1.0 ponto)\n",
        "Descreva quais hipóteses você observou ao fazer a análise exploratória de dados."
      ],
      "metadata": {
        "id": "7Q5i9Gyrr3rY"
      }
    },
    {
      "cell_type": "markdown",
      "source": [
        "Da matriz de correlações, percebemos que há algumas variáveis com um alto nível de correlação entre elas e com a variável target. Nota-se que muitas das variáveis numéricas possuem correlação entre si que inicialmente parecem ser correlações espúrias, porém, existem variáveis que realmente apresentam relações de causa e dependência. Por exemplo:  \n",
        "*  'YearBuilt' x 'YearRemodAdd': Representa o ano de construção e o ano da remodelagem, não há uma relação clara de causa e dependência. \n",
        "*  'YearBuilt' x 'GarageYrBlt': Essa aparenta ser uma relação de causa e dependência já que garagens geralmente são construídas junto com a casa. \n",
        "*  'YearBuilt' x 'GarageCars': 'GarageCars' representa o tamanho da garagem em capacidade de carros. Uma correlação espúria, não há causa e dependência aparente.\n",
        "*  'YearBuilt' x 'EnclosedPorch': 'EnclosedPorch' representa o tamanho da varanda em pés quadrados. 'YearBuilt' representa o ano da construção. Não apresenta uma relação de causa e consequência\n",
        "*  'YearRemodAdd' x 'GarageYrBlt': Outra relação que aparenta ser uma relação de causa e dependência já que garagens podem ser adicionadas junto a remodelagem da casa\n",
        "*  'BsmtFinSF1' x 'BsmtUnfSF': ‘BsmtFinSF1’ é a área finalizada do porão tipo 1 (parcialmente finalizado). ‘BsmtUnfSF’ é a área não finalizada do porão. Apesar de estarem relacionadas ao porão, são tipos diferentes de finalização presentes nas casas do EUA, então não há causa e dependência.\n",
        "*  'BsmtFinSF1' x 'TotalBsmtSF': ‘TotalBsmtSF’ trata da área total do porão, independente do tipo de finalização. A combinação dos tipos de área de finalizadas formam a área total do porão. São dependentes e uma causa a outra.\n",
        "*  'BsmtFinSF1' x 'BsmtFullBath': ‘BsmtFullBath’ trata dos banheiros completos no porão. Para haver banheiros no porão, é necessário haver área, porém não é uma relação de causa e dependência.\n",
        "*  'BsmtUnfSF' x 'BsmtFullBath': A mesma relação descrita anteriormente se encaixa aqui. Para haver banheiros no porão, é necessário haver área, porém não é uma relação de causa e dependência.\n",
        "*  'TotalBsmtSF' x '1stFlrSF': ‘1stFlrSF’ trata da área do primeiro andar. Não apresenta causa e dependência em relação a área total do porão.\n",
        "*  '1stFlrSF' x 'GrLivArea': ‘GrLivArea’ é a área construída acima do nível da terra. Outra variável que depende de outras, essa variável é a soma de ‘1stFlrSF’ e ‘2ndFlrSF’, então, são dependentes.\n",
        "*  '2ndFlrSF' x 'GrLivArea': ‘2ndFlrSF’ é a área do segundo andar. A mesma relação descrita acima. A variável depende de outras, essa variável é a soma de ‘1stFlrSF’ e ‘2ndFlrSF’, então, são dependentes.\n",
        "*  '2ndFlrSF' x 'HalfBath': ‘HalfBath’ trata do número de ‘meio banheiro’ (banheiros sem chuveiro, apenas privada e lavatório). Não possuem relação de causa e dependência.\n",
        "*  '2ndFlrSF' x 'BedroomAbvGrd': ‘BedroomAbvGrd’ é o número de quartos acima do nível da terra. Não tem causa e dependência com com a área do segundo andar.\n",
        "*  '2ndFlrSF' x 'TotRmsAbvGrd': ‘TotRmsAbvGrd’ número total de salas acima do nível da terra. Novamente uma correlação espúria, não há causalidade ou dependência.\n",
        "*  'GrLivArea' x 'FullBath': ‘FullBath’ é o número de banheiros completos acima do nível da terra. Não há relação de causa e dependência com a área da casa.\n",
        "*  'GrLivArea' x 'BedroomAbvGr': Não é uma relação de causa e dependência (área da casa x nº de quartos)\n",
        "*  'GrLivArea' x 'TotRmsAbvGrd': Não é uma relação de causa e dependência (área da casa x nº de salas)\n",
        "*  'FullBath' x 'TotRmsAbvGrd': Banheiros completos e salas acima do nível da terra. Não há uma relação de causa e dependência.\n",
        "*  'BedroomAbvGr' x 'TotRmsAbvGrd': Número de quartos acima do nível da terra e número de salas acima do nível da terra. Não há uma relação de causa e dependência entre as variáveis.\n",
        "*  'GarageYrBlt' x 'GarageCars': Ano de construção da garagem e número de carros. Como discutido anteriormente, não é uma relação de dependência.\n",
        "*  'GarageYrBlt' x 'GarageArea': Ano de construção da garagem e área da garagem. Não é uma relação de dependência. \n",
        "*  'GarageCars' x 'GarageArea': ‘GarageCars’ é a capacidade da garagem em carros. Ambas as variáveis tratam da capacidade da garagem e são dependentes.\n",
        "\n",
        "\n",
        "Ao analisar mais profundamente as correlações com a variável target, observamos que as variáveis numéricas de maior destaque são: 'GrLivArea', 'GarageCars', 'GarageArea', 'TotalBsmtSF', '1stFloorSF', 'FullBath', 'TotRmsAbvGrd', 'YearBuilt' e 'YearRemodAdd'. \n",
        "\n",
        "Quanto as variáveis categóricas, percebemos que há diversos valores dominantes dentro das variáveis, ou seja, existe um padrão bem definido em relação as variáveis categóricas, a maioria das casas possuem características semelhantes. Também notamos que a maioria das casas pertence a faixa de preço entre 100000 até 200000 e que quando as características dessas casas fogem do padrão estabelecido pelas características dominantes, temos uma mudança nos preços. Utilizando a variável ‘LotShape’ como exemplo:\n",
        "\n",
        "*    Em terrenos regulares ('Reg'), temos o padrão de preço esperado, este padrão é o mesmo observado entre valores dominantes de outras variáveis categóricas dentro do dataset.\n",
        "*   Quando analisamos terrenos levemente irregulares ('IR1') há uma mudança na proporção entre casas vendidas na faixa de preço padrão e em outras faixas.\n",
        "*   O mesmo ocorre com os outros valores de 'Reg'. A proporção entre preços em 'IR2' e 'IR3' passa a ser dominado por 'Outras Faixas'.\n",
        "\n",
        "Esse mesmo efeito acontece com outras variáveis, como por exemplo: ‘OverallCond’, ‘OverallQual’, ‘SaleType’, 'KitchenQual'. \n",
        "\n",
        "Também é importante notar que as variáveis categóricas abordam diversas características das casas e casas que não possuem essas características não são abordadas nos gráficos, a exemplo da variável ‘PoolQC’ onde há apenas 7 valores, isso significa que a maior parte do dataset são de casas sem piscinas e que possuem o mesmo perfil de preço das variáveis anteriores.  \n",
        "\n",
        "Através dos boxplot, podemos realizar a análise de um ponto de vista puramente numérico, então, podemos notar relações que não são possíveis em um histograma. A variável 'Condition2', por exemplo, mostra que casas próximas a parques ou áreas verdes tendem a ser bem valorizadas em contrapartida casas posicionadas próximas a vias arteriais (uma via arterial é uma estrada urbana de alta capacidade) tendem a desvalorizar a casa.  \n",
        "\n",
        "A hipótese mais notável é do aumento contínuo de 'SalePrice' junto a variável 'OverallQual', sendo uma variável que julga a qualidade dos materiais utilizados na construção, faz sentido que as casas sejam mais caras quanto melhor forem os materiais.\n",
        "\n"
      ],
      "metadata": {
        "id": "9pZQ-tijhyB6"
      }
    },
    {
      "cell_type": "markdown",
      "source": [
        "# 3. Apresentação das ideias obtidas (1.0 ponto)\n",
        "Apresente com gráficos as suas observações e a descreva cada gráfico."
      ],
      "metadata": {
        "id": "-845Rt4Qr7Al"
      }
    },
    {
      "cell_type": "code",
      "source": [
        "# Regplots irão mostrar as relações numericas.\n",
        "# Violinplots e histogramas irão mostrar as relações das variaveis categoricas com a target. E como sair de seus valores mais frequentes modifica o preço médio de venda.\n",
        "\n",
        "df_graficos_num = df_numericas[correlacoes.columns]\n",
        "df_graficos_cat = df_categoricas[['OverallCond', 'OverallQual', 'SaleType','PoolQC','LotShape','KitchenQual', 'SalePrice']]\n",
        "df_graficos_cat['PoolQC'] = df_graficos_cat['PoolQC'].fillna('Sem piscina')"
      ],
      "metadata": {
        "colab": {
          "base_uri": "https://localhost:8080/"
        },
        "id": "vxtC0PhJsHEB",
        "outputId": "7fcdfa6b-5d3c-4198-febc-14a7939b43da"
      },
      "execution_count": null,
      "outputs": [
        {
          "output_type": "stream",
          "name": "stderr",
          "text": [
            "/usr/local/lib/python3.7/dist-packages/ipykernel_launcher.py:6: SettingWithCopyWarning: \n",
            "A value is trying to be set on a copy of a slice from a DataFrame.\n",
            "Try using .loc[row_indexer,col_indexer] = value instead\n",
            "\n",
            "See the caveats in the documentation: https://pandas.pydata.org/pandas-docs/stable/user_guide/indexing.html#returning-a-view-versus-a-copy\n",
            "  \n"
          ]
        }
      ]
    },
    {
      "cell_type": "code",
      "source": [
        "plt.subplots(8,4,figsize=(4*5,8*4))\n",
        "for i in range(len(vetor_corr)):\n",
        "\n",
        "  plt.subplot(8,4,i+1)\n",
        "  variaveis = vetor_corr[i].split()\n",
        "  sns.regplot(data=df_graficos_num, x=variaveis[0], y=variaveis[1], marker=\"+\")\n",
        "  plt.title(f'{variaveis[0]} x {variaveis[1]}')\n",
        "\n",
        "plt.tight_layout()\n",
        "plt.show()"
      ],
      "metadata": {
        "id": "HFQsvK7Gtth3"
      },
      "execution_count": null,
      "outputs": []
    },
    {
      "cell_type": "markdown",
      "source": [
        "Os gráficos mostram as correlações entre as variáveis para visualização das hipóteses explanadas anteriormente. Uma regressão também é feita para se avaliar o tipo de correlação entre ambas. O objetivo nesta análise é de identificar correlações espúrias e relações de causalidade e dependência.\n",
        "*  'YearBuilt' x 'YearRemodAdd': O gráfico mostra a relação de dependência entre as duas variáveis. As casas mais recentes, geralmente não passam por remodelagem e então passam a ter o mesmo valor em ambas as variáveis (formando uma reta). As casas mais antigas também passam pelo processo de remodelagem, tornando a variável ‘YearBuild’ desnecessária. \n",
        "*  'YearBuilt' x 'GarageYrBlt': Quando casas são construídas, geralmente garagens também são construídas. Dessa forma, essas variáveis possuem uma relação de dependência, formando uma reta que se aproxima da linha de regressão. Dessa forma, a variável 'GarageYrBlt' também é desnecessária.\n",
        "*  'YearBuilt' x 'GarageCars': 'GarageCars' é uma variável discreta, quando plotada com um regplot é possível ver o seu crescimento ao passar do tempo. Apesar de haver correlação, não é possui uma relação de causa ou dependência.\n",
        "*  'YearBuilt' x 'EnclosedPorch': De forma similar, é possível notar a diminuição da área das varandas com o passar o tempo, com muitas situações iguais a 0 a partir de 1940. Apesar de haver correlação, não há relação de causalidade ou dependência.\n",
        "*  'YearBuilt' x SalePrice: A relação de ‘YearBuilt’ e ‘SalePrice’. Notamos a alta correlação citada anteriormente nas hipóteses.\n",
        "*  'YearRemodAdd' x 'GarageYrBlt': Assim como na análise de ‘YearBuilt’, as garagens são adicionadas na construção da casa ou na remodelagem, é uma situação de dependência.\n",
        "*  'YearRemodAdd' x ‘SalePrice’: Relação entre o ano de remodelagem da casa. Percebemos uma correlação positiva.\n",
        "*  'BsmtFinSF1' x 'BsmtUnfSF': A correlação entre os tipos de área do porão. De forma lógica, se possui um tipo de área, a tendencia é possuir menos de outro tipo. Como se trata de tipos de área, não há causalidade ou dependência.\n",
        "*  'BsmtFinSF1' x 'TotalBsmtSF': Outra correlação entre os tipos de área do porão. Da mesma forma, se a casa possui um tipo de área, a tendencia é possuir menos de outro tipo. Como se trata de tipos de área, não há causalidade ou dependência.\n",
        "*  'BsmtFinSF1' x 'BsmtFullBath': A relação entre os banheiros e área do tipo 1 do porão. Quanto mais banheiros mais área, porém, sem causalidade.\n",
        "*  'BsmtUnfSF' x 'BsmtFullBath': Relação parecida com a anterior, porém, trata-se de um tipo específico de porão (não finalizado). Se tratando de porões não finalizados, faz sentido que quanto menos área finalizada, menos banheiros. Não há dependência. \n",
        "*  'TotalBsmtSF' x '1stFlrSF': Relação entre área do primeiro andar e área do porão. Por se tratar de áreas e uma estar acima da outra, faz sentido que tenham valores parecidos, porém sem dependência.\n",
        "*  'TotalBsmtSF' x '1stFlrSF': Relação entre a área do porão e o preço de venda da casa. Vemos uma correlação positiva.\n",
        "*  '1stFlrSF' x 'GrLivArea': Relação entre área da casa e área do primeiro andar. A variável 'GrLivArea' se trata da soma de ‘1stFlrSF’ e ‘2ndFlrSF’ e quando ‘2ndFlrSF’ é igual a 0, 'GrLivArea' se torna igual a ‘1stFlrSF’. Essas variáveis possuem dependência.\n",
        "*  '1stFlrSF' x 'SalePrice': Relação linear positiva em relação a variável target. \n",
        "*  '2ndFlrSF' x 'GrLivArea': Assim como '1stFlrSF' x 'GrLivArea', a relação de dependência fica evidenciada devido a soma das partes serem iguais a 'GrLivArea'.\n",
        "*  '2ndFlrSF' x 'HalfBath': O número de meio banheiros em relação a área do segundo andar, não possuem relação de causa e dependência.\n",
        "*  '2ndFlrSF' x 'BedroomAbvGrd': De forma similar, o número de quartos não tem relação de causa ou dependência com a área do segundo andar.\n",
        "*  '2ndFlrSF' x 'TotRmsAbvGrd': De forma similar, o número de salas não tem relação de dependência ou causalidade com a área do segundo andar.\n",
        "*  'GrLivArea' x 'FullBath': Area total em relação ao número de banheiros completos. Sem relação de dependencia.\n",
        "*  'GrLivArea' x 'BedroomAbvGr': Area total em relação ao número de quartos. Sem relação de dependência.\n",
        "*  'GrLivArea' x 'TotRmsAbvGrd': Area total em relação ao número de salas. Sem relação de dependência.\n",
        "*  'GrLivArea' x 'SalePrice': Relação linear positiva entre preço e área total da casa.\n",
        "PAREI AQUI\n",
        "*  'FullBath' x 'TotRmsAbvGrd': Banheiros completos e salas acima do nível da terra. Não há uma relação de causa e dependência.\n",
        "*  'FullBath' x 'SalePrice': Relação linear positiva entre o número de banheiros completos e a variável target.\n",
        "*  'BedroomAbvGr' x 'TotRmsAbvGrd': Relação linear positive entre número de banheiros completos e numero de salas acima do nível da terra, não há causalidade ou dependência.\n",
        "*  'GarageYrBlt' x 'GarageCars': Ano de construção da garagem e número de carros, apesar de correlacionadas não é uma relação de dependência.\n",
        "*  'GarageYrBlt' x 'GarageArea': Ano de construção da garagem e área da garagem. Não é uma relação de dependência. \n",
        "*  'GarageCars' x 'SalePrice': Relação linear positiva entre a capacidade da garagem (em carros) e a variável target. \n",
        "*  'GarageCars' x 'GarageArea': Relação entre a capacidade da garagem em carros e a área da garagem, ambas variáveis tratam da capacidade da garagem e são dependentes.\n",
        "\n",
        "Agora partindo para a análise das variáveis categóricas:"
      ],
      "metadata": {
        "id": "uFi-5OQU4R5z"
      }
    },
    {
      "cell_type": "code",
      "source": [
        "for i in df_graficos_cat.columns:\n",
        "  if i == 'SalePrice':\n",
        "    continue\n",
        "\n",
        "  plt.subplots(1,2,figsize=(30,10))\n",
        "\n",
        "  plt.subplot(1,2,1)\n",
        "  sns.boxenplot(data=df_graficos_cat, x=i, y='SalePrice', showfliers=False)\n",
        "  sns.stripplot(data=df_graficos_cat, x=i, y='SalePrice', color=\".26\", size=3)\n",
        "  plt.title(f'Análise de {i}')\n",
        "\n",
        "  plt.subplot(1,2,2)\n",
        "  sns.histplot(data=df_graficos_cat, x=i)\n",
        "  plt.title(f'Análise de {i}')\n",
        "\n",
        "plt.show()"
      ],
      "metadata": {
        "id": "k5Homg3rgNM7"
      },
      "execution_count": null,
      "outputs": []
    },
    {
      "cell_type": "markdown",
      "source": [
        "O objetivo dessa análise, é mostrar as principais características das variáveis categóricas deste dataset:\n",
        "*  As variáveis categóricas, de forma geral, apresentam um valor dominante (A nota ‘5’ em ‘OverallQual’, por exemplo), que possui um perfil de preço bem definido. \n",
        "*  Quando analisamos as outras características inseridas em cada variável categórica, percebemos uma grande mudança no preço seja para cima ou para baixo.\n",
        "As 6 variáveis ilustradas nos gráficos mostram bem como esse efeito acontece:\n",
        "*  'OverallCond': Essa variável avalia a qualidade geral da casa com uma nota de 1 até 10. Através do histograma, percebemos que há um grande volume de notas ‘5’. Apesar de haver notas ‘5’ em todos os preços, os preços estão mais concentrados na faixa de 100000 até 200000. Quando analisamos outras notas, temos casas mais baratas ou mais caras.\n",
        "*  'OverallQual': Essa variável trata da qualidade dos materiais utilizados na construção da casa. Uma das poucas variáveis que não possuem um valor dominante, porém, a maioria das observações estão concentradas nas notas ‘5’, ’6’ e ‘7’. Quando analisamos as alterações nos preços da casa junto a mudança na qualidade dos materiais notamos uma queda para qualidade baixa e um aumento acentuado para notas altas.\n",
        "*  'SaleType': Essa variável aborda o tipo da venda. Percebemos que a grande maioria das vendas foram feitas sobre o contrato ‘WD’ e que estão concentradas na faixa de 100000 até 200000, quando analisamos os outros tipos de venda há grandes flutuações nos preços.\n",
        "*  'PoolQC': Trata da qualidade da piscina, ela existe somente para casas com piscina e existem pouquíssimas casas com piscina neste dataset. O preço médio das casas com piscina é mais alto do que as casas se piscina. Piscinas de qualidade ‘Ex’ possuem preços muito acima do padrão.\n",
        "*  'LotShape': Aborda o formato do lote, o valor ‘Reg’ é predominante. Os valores alternativos ‘IR1’, ‘IR2’ e ‘IR3’ possuem valores mais altos que os valores presentes em casas com terrenos regulares.\n",
        "*  'KitchenQual': Aborda a qualidade da cozinha, a maioria dos valores estão concentrados em ‘Gd’ e ‘TA’. Notamos médias diferentes entre valores de ‘Gd’ (good ou bom) e ‘TA’ (Typical/Average ou Típica/Média) que obedecem às noções ordinais de qualidade. O mesmo acontece com ‘Ex’ (Excellent ou Excelente) com o aumento do preço e ‘Fa’ (Fair ou Razoável) com a queda no preço.  \n",
        "\n",
        "O mesmo efeito acontece na maioria das variáveis categóricas do dataset.\n"
      ],
      "metadata": {
        "id": "GbpNVxbYr-ZW"
      }
    },
    {
      "cell_type": "markdown",
      "source": [
        "# 4. Preparação dos dados (1.0 ponto)\n",
        "Faça um processamento nos dados, preenchendo valores faltantes, removendo dados ou variáveis inconsistentes e normalizado os dados"
      ],
      "metadata": {
        "id": "kDJk-plnsBI0"
      }
    },
    {
      "cell_type": "markdown",
      "source": [
        "Devido as analises anteriores, as seguintes colunas serão retiradas por se tratarem de variáveis que possuem algum tipo de dependencia:\n",
        "['YearBuilt','GarageYrBlt',\"TotalBsmtSF', 'GrLivArea','GarageCars']"
      ],
      "metadata": {
        "id": "rPPBPSITssTW"
      }
    },
    {
      "cell_type": "code",
      "source": [
        "df = df.drop(['YearBuilt','GarageYrBlt','TotalBsmtSF', 'GrLivArea','GarageCars'], axis=1)"
      ],
      "metadata": {
        "id": "U95GFqYXthHa"
      },
      "execution_count": null,
      "outputs": []
    },
    {
      "cell_type": "code",
      "source": [
        "print(df.shape,\"\\n\\n\")\n",
        "\n",
        "df_na_cols = df.isna().any(axis = 0)[df.isna().any(axis = 0)].index # Variáveis que possuem algum valor faltante\n",
        "df_na_cols"
      ],
      "metadata": {
        "id": "eJDYVlxyAB_z",
        "colab": {
          "base_uri": "https://localhost:8080/"
        },
        "outputId": "77ed45f9-9600-4c47-9327-dd57e843825b"
      },
      "execution_count": null,
      "outputs": [
        {
          "output_type": "stream",
          "name": "stdout",
          "text": [
            "(1460, 75) \n",
            "\n",
            "\n"
          ]
        },
        {
          "output_type": "execute_result",
          "data": {
            "text/plain": [
              "Index(['LotFrontage', 'Alley', 'MasVnrType', 'MasVnrArea', 'BsmtQual',\n",
              "       'BsmtCond', 'BsmtExposure', 'BsmtFinType1', 'BsmtFinType2',\n",
              "       'Electrical', 'FireplaceQu', 'GarageType', 'GarageFinish', 'GarageQual',\n",
              "       'GarageCond', 'PoolQC', 'Fence', 'MiscFeature'],\n",
              "      dtype='object')"
            ]
          },
          "metadata": {},
          "execution_count": 19
        }
      ]
    },
    {
      "cell_type": "code",
      "source": [
        "df_na = df[df_na_cols]\n",
        "\n",
        "print(df_na.shape,\"\\n\\n\")\n",
        "for i in range(0,len(df_na.columns)):\n",
        "  print(f\"Coluna {df_na.columns[i]}\")\n",
        "  print(f\"Nulos: {df_na.iloc[:,i].isnull().sum()}\")\n",
        "  print(f\"Nulos: {df_na.iloc[:,i].unique()}\\n\")\n",
        "  print(\"-\"*100,\"\\n\")"
      ],
      "metadata": {
        "colab": {
          "base_uri": "https://localhost:8080/"
        },
        "id": "XR3lsHN-wJEe",
        "outputId": "a1e781c2-a4b5-4bc6-c8e8-bad14c0f37fd"
      },
      "execution_count": null,
      "outputs": [
        {
          "output_type": "stream",
          "name": "stdout",
          "text": [
            "(1460, 18) \n",
            "\n",
            "\n",
            "Coluna LotFrontage\n",
            "Nulos: 259\n",
            "Nulos: [ 65.  80.  68.  60.  84.  85.  75.  nan  51.  50.  70.  91.  72.  66.\n",
            " 101.  57.  44. 110.  98.  47. 108. 112.  74. 115.  61.  48.  33.  52.\n",
            " 100.  24.  89.  63.  76.  81.  95.  69.  21.  32.  78. 121. 122.  40.\n",
            " 105.  73.  77.  64.  94.  34.  90.  55.  88.  82.  71. 120. 107.  92.\n",
            " 134.  62.  86. 141.  97.  54.  41.  79. 174.  99.  67.  83.  43. 103.\n",
            "  93.  30. 129. 140.  35.  37. 118.  87. 116. 150. 111.  49.  96.  59.\n",
            "  36.  56. 102.  58.  38. 109. 130.  53. 137.  45. 106. 104.  42.  39.\n",
            " 144. 114. 128. 149. 313. 168. 182. 138. 160. 152. 124. 153.  46.]\n",
            "\n",
            "---------------------------------------------------------------------------------------------------- \n",
            "\n",
            "Coluna Alley\n",
            "Nulos: 1369\n",
            "Nulos: [nan 'Grvl' 'Pave']\n",
            "\n",
            "---------------------------------------------------------------------------------------------------- \n",
            "\n",
            "Coluna MasVnrType\n",
            "Nulos: 8\n",
            "Nulos: ['BrkFace' 'None' 'Stone' 'BrkCmn' nan]\n",
            "\n",
            "---------------------------------------------------------------------------------------------------- \n",
            "\n",
            "Coluna MasVnrArea\n",
            "Nulos: 8\n",
            "Nulos: [1.960e+02 0.000e+00 1.620e+02 3.500e+02 1.860e+02 2.400e+02 2.860e+02\n",
            " 3.060e+02 2.120e+02 1.800e+02 3.800e+02 2.810e+02 6.400e+02 2.000e+02\n",
            " 2.460e+02 1.320e+02 6.500e+02 1.010e+02 4.120e+02 2.720e+02 4.560e+02\n",
            " 1.031e+03 1.780e+02 5.730e+02 3.440e+02 2.870e+02 1.670e+02 1.115e+03\n",
            " 4.000e+01 1.040e+02 5.760e+02 4.430e+02 4.680e+02 6.600e+01 2.200e+01\n",
            " 2.840e+02 7.600e+01 2.030e+02 6.800e+01 1.830e+02 4.800e+01 2.800e+01\n",
            " 3.360e+02 6.000e+02 7.680e+02 4.800e+02 2.200e+02 1.840e+02 1.129e+03\n",
            " 1.160e+02 1.350e+02 2.660e+02 8.500e+01 3.090e+02 1.360e+02 2.880e+02\n",
            " 7.000e+01 3.200e+02 5.000e+01 1.200e+02 4.360e+02 2.520e+02 8.400e+01\n",
            " 6.640e+02 2.260e+02 3.000e+02 6.530e+02 1.120e+02 4.910e+02 2.680e+02\n",
            " 7.480e+02 9.800e+01 2.750e+02 1.380e+02 2.050e+02 2.620e+02 1.280e+02\n",
            " 2.600e+02 1.530e+02 6.400e+01 3.120e+02 1.600e+01 9.220e+02 1.420e+02\n",
            " 2.900e+02 1.270e+02 5.060e+02 2.970e+02       nan 6.040e+02 2.540e+02\n",
            " 3.600e+01 1.020e+02 4.720e+02 4.810e+02 1.080e+02 3.020e+02 1.720e+02\n",
            " 3.990e+02 2.700e+02 4.600e+01 2.100e+02 1.740e+02 3.480e+02 3.150e+02\n",
            " 2.990e+02 3.400e+02 1.660e+02 7.200e+01 3.100e+01 3.400e+01 2.380e+02\n",
            " 1.600e+03 3.650e+02 5.600e+01 1.500e+02 2.780e+02 2.560e+02 2.250e+02\n",
            " 3.700e+02 3.880e+02 1.750e+02 2.960e+02 1.460e+02 1.130e+02 1.760e+02\n",
            " 6.160e+02 3.000e+01 1.060e+02 8.700e+02 3.620e+02 5.300e+02 5.000e+02\n",
            " 5.100e+02 2.470e+02 3.050e+02 2.550e+02 1.250e+02 1.000e+02 4.320e+02\n",
            " 1.260e+02 4.730e+02 7.400e+01 1.450e+02 2.320e+02 3.760e+02 4.200e+01\n",
            " 1.610e+02 1.100e+02 1.800e+01 2.240e+02 2.480e+02 8.000e+01 3.040e+02\n",
            " 2.150e+02 7.720e+02 4.350e+02 3.780e+02 5.620e+02 1.680e+02 8.900e+01\n",
            " 2.850e+02 3.600e+02 9.400e+01 3.330e+02 9.210e+02 7.620e+02 5.940e+02\n",
            " 2.190e+02 1.880e+02 4.790e+02 5.840e+02 1.820e+02 2.500e+02 2.920e+02\n",
            " 2.450e+02 2.070e+02 8.200e+01 9.700e+01 3.350e+02 2.080e+02 4.200e+02\n",
            " 1.700e+02 4.590e+02 2.800e+02 9.900e+01 1.920e+02 2.040e+02 2.330e+02\n",
            " 1.560e+02 4.520e+02 5.130e+02 2.610e+02 1.640e+02 2.590e+02 2.090e+02\n",
            " 2.630e+02 2.160e+02 3.510e+02 6.600e+02 3.810e+02 5.400e+01 5.280e+02\n",
            " 2.580e+02 4.640e+02 5.700e+01 1.470e+02 1.170e+03 2.930e+02 6.300e+02\n",
            " 4.660e+02 1.090e+02 4.100e+01 1.600e+02 2.890e+02 6.510e+02 1.690e+02\n",
            " 9.500e+01 4.420e+02 2.020e+02 3.380e+02 8.940e+02 3.280e+02 6.730e+02\n",
            " 6.030e+02 1.000e+00 3.750e+02 9.000e+01 3.800e+01 1.570e+02 1.100e+01\n",
            " 1.400e+02 1.300e+02 1.480e+02 8.600e+02 4.240e+02 1.047e+03 2.430e+02\n",
            " 8.160e+02 3.870e+02 2.230e+02 1.580e+02 1.370e+02 1.150e+02 1.890e+02\n",
            " 2.740e+02 1.170e+02 6.000e+01 1.220e+02 9.200e+01 4.150e+02 7.600e+02\n",
            " 2.700e+01 7.500e+01 3.610e+02 1.050e+02 3.420e+02 2.980e+02 5.410e+02\n",
            " 2.360e+02 1.440e+02 4.230e+02 4.400e+01 1.510e+02 9.750e+02 4.500e+02\n",
            " 2.300e+02 5.710e+02 2.400e+01 5.300e+01 2.060e+02 1.400e+01 3.240e+02\n",
            " 2.950e+02 3.960e+02 6.700e+01 1.540e+02 4.250e+02 4.500e+01 1.378e+03\n",
            " 3.370e+02 1.490e+02 1.430e+02 5.100e+01 1.710e+02 2.340e+02 6.300e+01\n",
            " 7.660e+02 3.200e+01 8.100e+01 1.630e+02 5.540e+02 2.180e+02 6.320e+02\n",
            " 1.140e+02 5.670e+02 3.590e+02 4.510e+02 6.210e+02 7.880e+02 8.600e+01\n",
            " 7.960e+02 3.910e+02 2.280e+02 8.800e+01 1.650e+02 4.280e+02 4.100e+02\n",
            " 5.640e+02 3.680e+02 3.180e+02 5.790e+02 6.500e+01 7.050e+02 4.080e+02\n",
            " 2.440e+02 1.230e+02 3.660e+02 7.310e+02 4.480e+02 2.940e+02 3.100e+02\n",
            " 2.370e+02 4.260e+02 9.600e+01 4.380e+02 1.940e+02 1.190e+02]\n",
            "\n",
            "---------------------------------------------------------------------------------------------------- \n",
            "\n",
            "Coluna BsmtQual\n",
            "Nulos: 37\n",
            "Nulos: ['Gd' 'TA' 'Ex' nan 'Fa']\n",
            "\n",
            "---------------------------------------------------------------------------------------------------- \n",
            "\n",
            "Coluna BsmtCond\n",
            "Nulos: 37\n",
            "Nulos: ['TA' 'Gd' nan 'Fa' 'Po']\n",
            "\n",
            "---------------------------------------------------------------------------------------------------- \n",
            "\n",
            "Coluna BsmtExposure\n",
            "Nulos: 38\n",
            "Nulos: ['No' 'Gd' 'Mn' 'Av' nan]\n",
            "\n",
            "---------------------------------------------------------------------------------------------------- \n",
            "\n",
            "Coluna BsmtFinType1\n",
            "Nulos: 37\n",
            "Nulos: ['GLQ' 'ALQ' 'Unf' 'Rec' 'BLQ' nan 'LwQ']\n",
            "\n",
            "---------------------------------------------------------------------------------------------------- \n",
            "\n",
            "Coluna BsmtFinType2\n",
            "Nulos: 38\n",
            "Nulos: ['Unf' 'BLQ' nan 'ALQ' 'Rec' 'LwQ' 'GLQ']\n",
            "\n",
            "---------------------------------------------------------------------------------------------------- \n",
            "\n",
            "Coluna Electrical\n",
            "Nulos: 1\n",
            "Nulos: ['SBrkr' 'FuseF' 'FuseA' 'FuseP' 'Mix' nan]\n",
            "\n",
            "---------------------------------------------------------------------------------------------------- \n",
            "\n",
            "Coluna FireplaceQu\n",
            "Nulos: 690\n",
            "Nulos: [nan 'TA' 'Gd' 'Fa' 'Ex' 'Po']\n",
            "\n",
            "---------------------------------------------------------------------------------------------------- \n",
            "\n",
            "Coluna GarageType\n",
            "Nulos: 81\n",
            "Nulos: ['Attchd' 'Detchd' 'BuiltIn' 'CarPort' nan 'Basment' '2Types']\n",
            "\n",
            "---------------------------------------------------------------------------------------------------- \n",
            "\n",
            "Coluna GarageFinish\n",
            "Nulos: 81\n",
            "Nulos: ['RFn' 'Unf' 'Fin' nan]\n",
            "\n",
            "---------------------------------------------------------------------------------------------------- \n",
            "\n",
            "Coluna GarageQual\n",
            "Nulos: 81\n",
            "Nulos: ['TA' 'Fa' 'Gd' nan 'Ex' 'Po']\n",
            "\n",
            "---------------------------------------------------------------------------------------------------- \n",
            "\n",
            "Coluna GarageCond\n",
            "Nulos: 81\n",
            "Nulos: ['TA' 'Fa' nan 'Gd' 'Po' 'Ex']\n",
            "\n",
            "---------------------------------------------------------------------------------------------------- \n",
            "\n",
            "Coluna PoolQC\n",
            "Nulos: 1453\n",
            "Nulos: [nan 'Ex' 'Fa' 'Gd']\n",
            "\n",
            "---------------------------------------------------------------------------------------------------- \n",
            "\n",
            "Coluna Fence\n",
            "Nulos: 1179\n",
            "Nulos: [nan 'MnPrv' 'GdWo' 'GdPrv' 'MnWw']\n",
            "\n",
            "---------------------------------------------------------------------------------------------------- \n",
            "\n",
            "Coluna MiscFeature\n",
            "Nulos: 1406\n",
            "Nulos: [nan 'Shed' 'Gar2' 'Othr' 'TenC']\n",
            "\n",
            "---------------------------------------------------------------------------------------------------- \n",
            "\n"
          ]
        }
      ]
    },
    {
      "cell_type": "markdown",
      "source": [
        "*   'LotFrontage': Variável numérica continua, 259 faltantes, será tratada com a média\n",
        "*   'Alley': Variável categórica, 1369 faltantes, será deletada\n",
        "*   'MasVnrType': Variável categórica, 8 faltantes, não há valor NaN previsto, será substituído pela moda.\n",
        "*   'MasVnrArea': Variável numérica, 8 faltantes, seria tratado pela média, porém, para haver área o tipo precisa ser diferente de 'None', se a moda for 'None' a area será 0.\n",
        "*   'BsmtQual':  Variável categórica, 37 faltantes, NaN significa que não há porão, será substituído por um novo valor.\n",
        "*   'BsmtCond': Variável categórica, 37 faltantes, NaN significa que não há porão, será substituído por um novo valor.\n",
        "* 'BsmtExposure': Variável categórica, 38 fatantes, NaN significa que não há porão, será substituído por um novo valor.\n",
        "*  'BsmtFinType1': Variável categórica, 37 faltantes, NaN significa que não há porão, será substituído por um novo valor.\n",
        "*   'BsmtFinType2': Variável categórica, 38 faltantes, NaN significa que não há porão, será substituído por um novo valor.\n",
        "*   'Electrical': Variável categórica, 1 valor faltante, não há valor NaN previsto, será substituído pela moda.\n",
        "*   'FireplaceQu': Variável categórica, 690 faltantes, NaN significa que não há piscina, normalmente substituído por um novo valor, porém, há muitos valores faltantes, a melhor decisão é excluir a coluna.\t\n",
        "*   'GarageType': Variável categórica, 81 faltantes, NaN significa que não há garagem, será substituído por um novo valor.\n",
        "*   'GarageFinish': Variável categórica, 81 faltantes, NaN significa que não há garagem, será substituído por um novo valor.\n",
        "*   'GarageQual’: Variável categórica, 81 faltantes, NaN significa que não há garagem, será substituído por um novo valor.\n",
        "*   'GarageCond’: Variável categórica, 81 faltantes, NaN significa que não há garagem, será substituído por um novo valor.\n",
        "*   'PoolQC’: Variável categórica, 1453 faltantes, NaN significa que não há piscina, normalmente substituído por um novo valor, porém, há muitos valores faltantes, a melhor decisão é excluir a coluna.\t\n",
        "*   'Fence': Variável categórica, 1179 faltantes, NaN significa que não há piscina, normalmente substituído por um novo valor, porém, há muitos valores faltantes, a melhor decisão é excluir a coluna.\t\n",
        "*   'MiscFeature': Variável categórica, 1406 faltantes, NaN significa que não há piscina, normalmente substituído por um novo valor, porém, há muitos valores faltantes, a melhor decisão é excluir a coluna.\t\n",
        "\n",
        "Importante notar que ['MasVnrType', 'MasVnrArea'] são relacionadas, caso 'MasVnrType' seja 'None', 'MasVnrArea' deve ser '0'"
      ],
      "metadata": {
        "id": "yHsTWC1O18B_"
      }
    },
    {
      "cell_type": "code",
      "source": [
        "df = df.drop(['Alley','PoolQC','Fence','MiscFeature', 'FireplaceQu'], axis = 1)"
      ],
      "metadata": {
        "id": "cJBs8ISm1UmQ"
      },
      "execution_count": null,
      "outputs": []
    },
    {
      "cell_type": "code",
      "source": [
        "df['LotFrontage'] = df['LotFrontage'].fillna(df['LotFrontage'].mean())\n",
        "df['BsmtQual'] = df['BsmtQual'].fillna('NA')\n",
        "df['BsmtCond'] = df['BsmtCond'].fillna('NA')\n",
        "df['BsmtExposure'] = df['BsmtExposure'].fillna('NA')\n",
        "df['BsmtFinType1'] = df['BsmtFinType1'].fillna('NA')\n",
        "df['BsmtFinType2'] = df['BsmtFinType2'].fillna('NA')\n",
        "df['Electrical'] = df['Electrical'].fillna(df['Electrical'].mode()[0])\n",
        "df['GarageType'] = df['GarageType'].fillna('NA')\n",
        "df['GarageFinish'] = df['GarageFinish'].fillna('NA')\n",
        "df['GarageQual'] = df['GarageQual'].fillna('NA')\n",
        "df['GarageCond'] = df['GarageCond'].fillna('NA')"
      ],
      "metadata": {
        "id": "b_y9t7yz4xlh"
      },
      "execution_count": null,
      "outputs": []
    },
    {
      "cell_type": "code",
      "source": [
        "# Analise separada de 'MasVnrType' devido a relação com 'MasVnrArea'\n",
        "print(df['MasVnrType'].mode())"
      ],
      "metadata": {
        "colab": {
          "base_uri": "https://localhost:8080/"
        },
        "id": "NSjohirs55Xu",
        "outputId": "3eef5f63-2445-48a7-9400-72be611259c3"
      },
      "execution_count": null,
      "outputs": [
        {
          "output_type": "stream",
          "name": "stdout",
          "text": [
            "0    None\n",
            "dtype: object\n"
          ]
        }
      ]
    },
    {
      "cell_type": "code",
      "source": [
        "# Já que a moda de 'MasVnrType' é 'None', então 'MasVnrArea' deve ser preenchido com 0\n",
        "df['MasVnrType'] = df['MasVnrType'].fillna(df['MasVnrType'].mode()[0])\n",
        "df['MasVnrArea'] = df['MasVnrArea'].fillna(0)"
      ],
      "metadata": {
        "id": "QJxjq8VV6b5s"
      },
      "execution_count": null,
      "outputs": []
    },
    {
      "cell_type": "code",
      "source": [
        "df.info()"
      ],
      "metadata": {
        "colab": {
          "base_uri": "https://localhost:8080/"
        },
        "id": "Oy8ei_c-ZPqA",
        "outputId": "831a9488-6f23-4cc8-d35c-f2fe2d69a5b6"
      },
      "execution_count": null,
      "outputs": [
        {
          "output_type": "stream",
          "name": "stdout",
          "text": [
            "<class 'pandas.core.frame.DataFrame'>\n",
            "RangeIndex: 1460 entries, 0 to 1459\n",
            "Data columns (total 70 columns):\n",
            " #   Column         Non-Null Count  Dtype  \n",
            "---  ------         --------------  -----  \n",
            " 0   MSSubClass     1460 non-null   int64  \n",
            " 1   MSZoning       1460 non-null   object \n",
            " 2   LotFrontage    1460 non-null   float64\n",
            " 3   LotArea        1460 non-null   int64  \n",
            " 4   Street         1460 non-null   object \n",
            " 5   LotShape       1460 non-null   object \n",
            " 6   LandContour    1460 non-null   object \n",
            " 7   Utilities      1460 non-null   object \n",
            " 8   LotConfig      1460 non-null   object \n",
            " 9   LandSlope      1460 non-null   object \n",
            " 10  Neighborhood   1460 non-null   object \n",
            " 11  Condition1     1460 non-null   object \n",
            " 12  Condition2     1460 non-null   object \n",
            " 13  BldgType       1460 non-null   object \n",
            " 14  HouseStyle     1460 non-null   object \n",
            " 15  OverallQual    1460 non-null   int64  \n",
            " 16  OverallCond    1460 non-null   int64  \n",
            " 17  YearRemodAdd   1460 non-null   int64  \n",
            " 18  RoofStyle      1460 non-null   object \n",
            " 19  RoofMatl       1460 non-null   object \n",
            " 20  Exterior1st    1460 non-null   object \n",
            " 21  Exterior2nd    1460 non-null   object \n",
            " 22  MasVnrType     1460 non-null   object \n",
            " 23  MasVnrArea     1460 non-null   float64\n",
            " 24  ExterQual      1460 non-null   object \n",
            " 25  ExterCond      1460 non-null   object \n",
            " 26  Foundation     1460 non-null   object \n",
            " 27  BsmtQual       1460 non-null   object \n",
            " 28  BsmtCond       1460 non-null   object \n",
            " 29  BsmtExposure   1460 non-null   object \n",
            " 30  BsmtFinType1   1460 non-null   object \n",
            " 31  BsmtFinSF1     1460 non-null   int64  \n",
            " 32  BsmtFinType2   1460 non-null   object \n",
            " 33  BsmtFinSF2     1460 non-null   int64  \n",
            " 34  BsmtUnfSF      1460 non-null   int64  \n",
            " 35  Heating        1460 non-null   object \n",
            " 36  HeatingQC      1460 non-null   object \n",
            " 37  CentralAir     1460 non-null   object \n",
            " 38  Electrical     1460 non-null   object \n",
            " 39  1stFlrSF       1460 non-null   int64  \n",
            " 40  2ndFlrSF       1460 non-null   int64  \n",
            " 41  LowQualFinSF   1460 non-null   int64  \n",
            " 42  BsmtFullBath   1460 non-null   int64  \n",
            " 43  BsmtHalfBath   1460 non-null   int64  \n",
            " 44  FullBath       1460 non-null   int64  \n",
            " 45  HalfBath       1460 non-null   int64  \n",
            " 46  BedroomAbvGr   1460 non-null   int64  \n",
            " 47  KitchenAbvGr   1460 non-null   int64  \n",
            " 48  KitchenQual    1460 non-null   object \n",
            " 49  TotRmsAbvGrd   1460 non-null   int64  \n",
            " 50  Functional     1460 non-null   object \n",
            " 51  Fireplaces     1460 non-null   int64  \n",
            " 52  GarageType     1460 non-null   object \n",
            " 53  GarageFinish   1460 non-null   object \n",
            " 54  GarageArea     1460 non-null   int64  \n",
            " 55  GarageQual     1460 non-null   object \n",
            " 56  GarageCond     1460 non-null   object \n",
            " 57  PavedDrive     1460 non-null   object \n",
            " 58  WoodDeckSF     1460 non-null   int64  \n",
            " 59  OpenPorchSF    1460 non-null   int64  \n",
            " 60  EnclosedPorch  1460 non-null   int64  \n",
            " 61  3SsnPorch      1460 non-null   int64  \n",
            " 62  ScreenPorch    1460 non-null   int64  \n",
            " 63  PoolArea       1460 non-null   int64  \n",
            " 64  MiscVal        1460 non-null   int64  \n",
            " 65  MoSold         1460 non-null   int64  \n",
            " 66  YrSold         1460 non-null   int64  \n",
            " 67  SaleType       1460 non-null   object \n",
            " 68  SaleCondition  1460 non-null   object \n",
            " 69  SalePrice      1460 non-null   int64  \n",
            "dtypes: float64(2), int64(30), object(38)\n",
            "memory usage: 798.6+ KB\n"
          ]
        }
      ]
    },
    {
      "cell_type": "markdown",
      "source": [
        "Todos os valores faltantes foram preenchidos, os dados que não agregam a análise também foram removidos.  \n",
        "\n",
        "A normalização dos dados é feita da seguinte forma:"
      ],
      "metadata": {
        "id": "s4LG1nVYdndR"
      }
    },
    {
      "cell_type": "code",
      "source": [
        "# Primeiramente precisamos dividir o dataset novamente, as variáveis categóricas precisam passar por um tratamento antes de serem devidamente normalizadas.\n",
        "# Separação das variáveis em númericas e categóricas\n",
        "df_categoricas = df.select_dtypes('object')\n",
        "df_numericas = df.select_dtypes(exclude='object')\n",
        "\n",
        "# Dentro do dataframe com variáveis numéricas, ainda temos as variáveis categoricas ordinais presentes no dataset\n",
        "# As variáveis 'MSSubClass', 'OverallQual', 'OverallCond' precisam ser adicionadas ao dataframe de categoricas\n",
        "df_categoricas = pd.concat([df_categoricas, df_numericas[['MSSubClass', 'OverallQual', 'OverallCond']]], axis = 1)\n",
        "df_numericas = df_numericas.drop(['MSSubClass', 'OverallQual', 'OverallCond'], axis = 1)\n",
        "df_categoricas = df_categoricas.astype('str')\n",
        "df_categoricas = pd.get_dummies(df_categoricas)\n",
        "df_final = pd.concat([df_categoricas, df_numericas], axis=1)"
      ],
      "metadata": {
        "id": "7O2cYPA8d9FJ"
      },
      "execution_count": null,
      "outputs": []
    },
    {
      "cell_type": "code",
      "source": [
        "X = df_final.drop(['SalePrice'],axis=1)\n",
        "y = df_final['SalePrice']"
      ],
      "metadata": {
        "id": "mv8jGgQYA9GX"
      },
      "execution_count": null,
      "outputs": []
    },
    {
      "cell_type": "markdown",
      "source": [
        "Com o dataset bem ajustado, ainda precisamos lidar com as colunas que possuem valores dominantes e que não agregam em nada ao nosso modelo. A função VarianceThreshold() cumpre bem essa função e elimina essas colunas."
      ],
      "metadata": {
        "id": "_3ldW4kRQJ69"
      }
    },
    {
      "cell_type": "code",
      "source": [
        "vari_thresh = VarianceThreshold(threshold=0.01)\n",
        "vari_thresh.fit(X)\n",
        "\n",
        "cols = vari_thresh.get_support()"
      ],
      "metadata": {
        "id": "pUzX_49_PCo4"
      },
      "execution_count": null,
      "outputs": []
    },
    {
      "cell_type": "code",
      "source": [
        "X.iloc[:,cols].columns"
      ],
      "metadata": {
        "colab": {
          "base_uri": "https://localhost:8080/"
        },
        "id": "jYrL0wi9PriO",
        "outputId": "c059194f-bd4a-43b4-ecff-4f860f2c17e3"
      },
      "execution_count": null,
      "outputs": [
        {
          "output_type": "execute_result",
          "data": {
            "text/plain": [
              "Index(['MSZoning_FV', 'MSZoning_RH', 'MSZoning_RL', 'MSZoning_RM',\n",
              "       'LotShape_IR1', 'LotShape_IR2', 'LotShape_Reg', 'LandContour_Bnk',\n",
              "       'LandContour_HLS', 'LandContour_Low',\n",
              "       ...\n",
              "       'GarageArea', 'WoodDeckSF', 'OpenPorchSF', 'EnclosedPorch', '3SsnPorch',\n",
              "       'ScreenPorch', 'PoolArea', 'MiscVal', 'MoSold', 'YrSold'],\n",
              "      dtype='object', length=218)"
            ]
          },
          "metadata": {},
          "execution_count": 29
        }
      ]
    },
    {
      "cell_type": "markdown",
      "source": [
        "# 5. Criação e seleção de características (1.0 ponto)\n",
        "Observando as variáveis disponíveis, é possível criar novas variáveis? Ou trazer de um dado externo novos dados para agregar aos existentes? É possível selecionar uma variável ou grupo de variáveis que melhor explica a variável dependente?"
      ],
      "metadata": {
        "id": "ARzF3xFasFGY"
      }
    },
    {
      "cell_type": "markdown",
      "source": [
        "**Observando as variáveis disponíveis, é possível criar novas variáveis?**   \n",
        "\n",
        "Sim, é possível criar novas variáveis, como vimos anteriormente, algumas variáveis presentes no dataset trata-se de variáveis construídas a partir de outras. Sabendo disso, poderíamos, por exemplo, analisar o custo por pé quadrado das casas ou o custo por nº de salas.  \n",
        "\n",
        "\n",
        "**Ou trazer de um dado externo novos dados para agregar aos existentes?**  \n",
        "\n",
        "Sim, mas com diversas etapas antes de serem propriamente usados. Primeiramente, esses dados precisam ser adequados para nosso modelo, isso é, pertencerem ao mesmo perfil da amostra que está sendo estudada. Não adianta trazer dados de casas brasileiras para um estudo de casas canadenses, por exemplo. Depois precisaríamos fazer um estudo em relação aos atributos desse novo conjunto de dados e tentar inferir as informações que usamos em nosso modelo a partir das informações que estão inseridas nesse novo conjunto. Por exemplo, caso o preço da compra de uma venha uma unidade monetária diferente (Dólar ou Euro), essa unidade precisaria ser transformada antes de poder ser utilizada.\n",
        "\n",
        "**É possível selecionar uma variável ou grupo de variáveis que melhor explica a variável dependente?**  \n",
        "\n",
        "Sim, é possível definir um grupo de variáveis que melhor explica a variável dependente. Podemos utilizar diversos métodos (RFE, KBest, DecisionTreeRegressor e etc.). As variáveis mais importantes serão selecionadas abaixo através do KBest.\n"
      ],
      "metadata": {
        "id": "nqYKwt8Xv5s7"
      }
    },
    {
      "cell_type": "code",
      "source": [
        "# Como há muitas variáveis categoricas e estamos utilizando dummies, o dataset possui muitas colunas\n",
        "\n",
        "print(f'Colunas: {len(X.iloc[:,cols].columns)}')"
      ],
      "metadata": {
        "colab": {
          "base_uri": "https://localhost:8080/"
        },
        "id": "7QByylajUAW6",
        "outputId": "1aab77b0-142c-4117-c3ee-b940a1466813"
      },
      "execution_count": null,
      "outputs": [
        {
          "output_type": "stream",
          "name": "stdout",
          "text": [
            "Colunas: 218\n"
          ]
        }
      ]
    },
    {
      "cell_type": "code",
      "source": [
        "# Com 218 colunas sendo estudadas, inicialmente, tentarei selecionar as 218/2 = 109 atributos mais importantes\n",
        "\n",
        "X_new = SelectKBest(f_classif, k=109).fit(X.iloc[:,cols], y).get_feature_names_out(X.iloc[:,cols].columns) # SelectKBest utilizando as colunas selecionadas pelo VarianceThreshold()\n",
        "X_new"
      ],
      "metadata": {
        "colab": {
          "base_uri": "https://localhost:8080/"
        },
        "id": "rbsrm0wSAuZ7",
        "outputId": "426373ac-6a79-41b2-c695-0aafcb1ecf0d"
      },
      "execution_count": null,
      "outputs": [
        {
          "output_type": "execute_result",
          "data": {
            "text/plain": [
              "array(['MSZoning_FV', 'LotShape_IR1', 'LotShape_Reg', 'LandContour_HLS',\n",
              "       'LotConfig_CulDSac', 'LandSlope_Gtl', 'LandSlope_Mod',\n",
              "       'Neighborhood_Blmngtn', 'Neighborhood_CollgCr',\n",
              "       'Neighborhood_Crawfor', 'Neighborhood_IDOTRR',\n",
              "       'Neighborhood_NoRidge', 'Neighborhood_NridgHt',\n",
              "       'Neighborhood_Somerst', 'Neighborhood_StoneBr',\n",
              "       'Neighborhood_Timber', 'Condition1_PosN', 'Condition1_RRAn',\n",
              "       'HouseStyle_2Story', 'RoofStyle_Gable', 'RoofStyle_Hip',\n",
              "       'Exterior1st_CemntBd', 'Exterior1st_Stucco', 'Exterior1st_VinylSd',\n",
              "       'Exterior2nd_BrkFace', 'Exterior2nd_CmentBd', 'Exterior2nd_Stucco',\n",
              "       'Exterior2nd_VinylSd', 'MasVnrType_None', 'MasVnrType_Stone',\n",
              "       'ExterQual_Ex', 'ExterQual_Gd', 'ExterQual_TA',\n",
              "       'Foundation_CBlock', 'Foundation_PConc', 'Foundation_Slab',\n",
              "       'BsmtQual_Ex', 'BsmtQual_Gd', 'BsmtQual_NA', 'BsmtQual_TA',\n",
              "       'BsmtCond_Gd', 'BsmtCond_NA', 'BsmtCond_TA', 'BsmtExposure_Av',\n",
              "       'BsmtExposure_Gd', 'BsmtExposure_Mn', 'BsmtExposure_NA',\n",
              "       'BsmtExposure_No', 'BsmtFinType1_GLQ', 'BsmtFinType1_NA',\n",
              "       'BsmtFinType2_ALQ', 'BsmtFinType2_NA', 'HeatingQC_Ex',\n",
              "       'CentralAir_N', 'CentralAir_Y', 'Electrical_SBrkr',\n",
              "       'KitchenQual_Ex', 'KitchenQual_Fa', 'KitchenQual_Gd',\n",
              "       'KitchenQual_TA', 'GarageType_Attchd', 'GarageType_BuiltIn',\n",
              "       'GarageType_Detchd', 'GarageType_NA', 'GarageFinish_Fin',\n",
              "       'GarageFinish_NA', 'GarageFinish_RFn', 'GarageFinish_Unf',\n",
              "       'GarageQual_NA', 'GarageQual_TA', 'GarageCond_NA', 'GarageCond_TA',\n",
              "       'PavedDrive_N', 'SaleType_New', 'SaleType_WD',\n",
              "       'SaleCondition_Normal', 'SaleCondition_Partial', 'MSSubClass_120',\n",
              "       'MSSubClass_30', 'MSSubClass_60', 'MSSubClass_75',\n",
              "       'OverallQual_10', 'OverallQual_3', 'OverallQual_4',\n",
              "       'OverallQual_5', 'OverallQual_7', 'OverallQual_8', 'OverallQual_9',\n",
              "       'OverallCond_3', 'OverallCond_5', 'OverallCond_9', 'LotFrontage',\n",
              "       'LotArea', 'YearRemodAdd', 'MasVnrArea', 'BsmtFinSF1', 'BsmtUnfSF',\n",
              "       '1stFlrSF', '2ndFlrSF', 'BsmtFullBath', 'FullBath', 'HalfBath',\n",
              "       'BedroomAbvGr', 'TotRmsAbvGrd', 'Fireplaces', 'GarageArea',\n",
              "       'WoodDeckSF', 'OpenPorchSF', 'MiscVal'], dtype=object)"
            ]
          },
          "metadata": {},
          "execution_count": 31
        }
      ]
    },
    {
      "cell_type": "markdown",
      "source": [
        "# 6. Decisão do modelo (1.0 ponto)\n",
        "Dada toda a análise realizada nos pontos anteriores, qual modelo melhor se adequa a este problema? E por quê?"
      ],
      "metadata": {
        "id": "ybL0lSSvsHXA"
      }
    },
    {
      "cell_type": "markdown",
      "source": [
        "De toda a análise, sabemos que devemos prever uma variável númerica continua. Devido a complexidade do problema, a regressão linear simples será descartada. Inicialmente Ridge, Lasso, SGDRegressor, ElasticNet serão testados através do cross_validade para julgar o melhor modelo. Ainda há outros modelos de regressão que podem ser aplicados aqui, como GradientBoostingRegressor, DecisionTreeRegressor, RandomForestRegressor"
      ],
      "metadata": {
        "id": "ynvmIT5qSAWL"
      }
    },
    {
      "cell_type": "code",
      "source": [
        "X = MinMaxScaler().fit_transform(X.loc[:,X_new]) # X normalizado e com as novas colunas\n"
      ],
      "metadata": {
        "id": "SOmKarnoWbtx"
      },
      "execution_count": null,
      "outputs": []
    },
    {
      "cell_type": "code",
      "source": [
        "rid = Ridge()\n",
        "las = Lasso(max_iter=10000)\n",
        "sgd = SGDRegressor()\n",
        "ela = ElasticNet()\n",
        "gbr = GradientBoostingRegressor()\n",
        "dtr = DecisionTreeRegressor()\n",
        "rfr = RandomForestRegressor()\n",
        "\n",
        "\n",
        "modelos = [rid, las, sgd, ela, gbr, dtr, rfr]\n",
        "\n",
        "metric_r2 = []\n",
        "metric_max = []\n",
        "metric_RMSE = []\n",
        "metric_MAE = []\n",
        "nomes = []\n",
        "\n",
        "for i in modelos:\n",
        "  print('-'*20)\n",
        "  print(f'{i}')\n",
        "  nomes.append(f'{i}')\n",
        "  cv = cross_validate(i, X, y, cv=5, scoring=['r2','max_error','neg_mean_absolute_error','neg_root_mean_squared_error'])\n",
        "  print(f'r2: {cv[\"test_r2\"].mean():.4f} +/- {cv[\"test_r2\"].std():.4f}')\n",
        "  metric_r2.append(cv[\"test_r2\"].mean())\n",
        "  print(f'erro máximo: {cv[\"test_max_error\"].mean():.4f} +/- {cv[\"test_max_error\"].std():.4f}')\n",
        "  metric_max.append(cv[\"test_max_error\"].mean())\n",
        "  print(f'MAE: {cv[\"test_neg_mean_absolute_error\"].mean():.4f} +/- {cv[\"test_neg_mean_absolute_error\"].std():.4f}')\n",
        "  metric_MAE.append(cv[\"test_neg_mean_absolute_error\"].mean())\n",
        "  print(f'RMASE: {cv[\"test_neg_root_mean_squared_error\"].mean():.4f} +/- {cv[\"test_neg_root_mean_squared_error\"].std():.4f}')\n",
        "  metric_RMSE.append(cv[\"test_neg_root_mean_squared_error\"].mean())\n",
        "print('-'*20)"
      ],
      "metadata": {
        "colab": {
          "base_uri": "https://localhost:8080/"
        },
        "id": "jW2j7Bb4Vno3",
        "outputId": "4d259705-b9f7-4320-ffe4-954518574ee8"
      },
      "execution_count": null,
      "outputs": [
        {
          "output_type": "stream",
          "name": "stdout",
          "text": [
            "--------------------\n",
            "Ridge()\n",
            "r2: 0.8378 +/- 0.0568\n",
            "erro máximo: -280827.7671 +/- 135693.7395\n",
            "MAE: -19014.9776 +/- 1348.7202\n",
            "RMASE: -31600.5538 +/- 6526.9988\n",
            "--------------------\n",
            "Lasso(max_iter=10000)\n",
            "r2: 0.8312 +/- 0.0645\n",
            "erro máximo: -292858.7046 +/- 156137.4522\n",
            "MAE: -19153.3587 +/- 1352.9010\n",
            "RMASE: -32175.1485 +/- 7095.6845\n",
            "--------------------\n",
            "SGDRegressor()\n",
            "r2: 0.8374 +/- 0.0467\n",
            "erro máximo: -263667.5324 +/- 100208.4857\n",
            "MAE: -19530.6599 +/- 1383.5102\n",
            "RMASE: -31752.2015 +/- 5756.2598\n",
            "--------------------\n",
            "ElasticNet()\n",
            "r2: 0.6290 +/- 0.0457\n",
            "erro máximo: -353122.8914 +/- 89451.3063\n",
            "MAE: -31062.7309 +/- 2460.3351\n",
            "RMASE: -48287.6644 +/- 6224.5897\n",
            "--------------------\n",
            "GradientBoostingRegressor()\n",
            "r2: 0.8642 +/- 0.0330\n",
            "erro máximo: -234686.5185 +/- 93695.8380\n",
            "MAE: -17943.9695 +/- 1666.2004\n",
            "RMASE: -29057.4993 +/- 4566.7386\n",
            "--------------------\n",
            "DecisionTreeRegressor()\n",
            "r2: 0.6889 +/- 0.0447\n",
            "erro máximo: -237568.0000 +/- 57440.7895\n",
            "MAE: -29218.8877 +/- 1747.1563\n",
            "RMASE: -43877.0985 +/- 3060.4180\n",
            "--------------------\n",
            "RandomForestRegressor()\n",
            "r2: 0.8441 +/- 0.0198\n",
            "erro máximo: -238494.3840 +/- 62871.4495\n",
            "MAE: -18848.9336 +/- 1201.5728\n",
            "RMASE: -31228.9060 +/- 3383.5609\n",
            "--------------------\n"
          ]
        }
      ]
    },
    {
      "cell_type": "markdown",
      "source": [
        "Das métricas apresentadas pelo Cross Validate, temos que o melhor modelo é o GradientBoostingRegressor() e este será o modelo adotado para o restante do trabalho."
      ],
      "metadata": {
        "id": "K3YySE9FZwxf"
      }
    },
    {
      "cell_type": "markdown",
      "source": [
        "# 7. Modelagem (1.0 ponto)\n",
        "Divida os dados em teste e treino, construa o seu modelo e teste alterar os parâmetros utilizados por ele."
      ],
      "metadata": {
        "id": "KPkaK-tRsJ5q"
      }
    },
    {
      "cell_type": "code",
      "source": [
        "X_train, X_test, y_train, y_test = train_test_split(X, y, test_size = 0.3, random_state = 82)\n",
        "\n",
        "modelo = GradientBoostingRegressor(random_state=35) # Parâmetros default. Random state para replicar resultados.\n",
        "modelo.fit(X_train, y_train)\n",
        "y_pred = modelo.predict(X_test)\n",
        "\n",
        "print(r2_score(y_test, y_pred))\n",
        "print(mean_absolute_error(y_test, y_pred))\n",
        "print(math.sqrt(mean_squared_error(y_test, y_pred)))\n",
        "print(max_error(y_test, y_pred))"
      ],
      "metadata": {
        "colab": {
          "base_uri": "https://localhost:8080/"
        },
        "id": "Mff8-gC2_Caz",
        "outputId": "37e6232c-fc3a-4107-da13-f44e1e8d2ce4"
      },
      "execution_count": null,
      "outputs": [
        {
          "output_type": "stream",
          "name": "stdout",
          "text": [
            "0.8827359292397841\n",
            "17214.709590862825\n",
            "26745.641285656577\n",
            "211711.6687465537\n"
          ]
        }
      ]
    },
    {
      "cell_type": "code",
      "source": [
        "plt.figure(figsize=(12,8))\n",
        "sns.lineplot(x=y_test, y=y_test)\n",
        "sns.regplot(x=y_test, y=y_pred);"
      ],
      "metadata": {
        "id": "RfWPdF7Kp4w8"
      },
      "execution_count": null,
      "outputs": []
    },
    {
      "cell_type": "markdown",
      "source": [
        "Ao invés de testar manualmente diversos parâmetros do modelo, GridSearchCV() será utilizado para testar diversas combinações de parâmetros e então selecionar a melhor."
      ],
      "metadata": {
        "id": "wLelNADqrTNh"
      }
    },
    {
      "cell_type": "code",
      "source": [
        "# Utilizando o GridSearchCV() para testar os diversos parâmetros do modelo.\n",
        "parametros = {'learning_rate':np.arange(0.0, 2.1, 0.1),\n",
        "              'criterion':('friedman_mse', 'squared_error'),\n",
        "              'min_samples_split':[2,3],\n",
        "              'max_depth':[3,4,5]}\n",
        "\n",
        "gscv = GridSearchCV(modelo, parametros, scoring='r2')\n",
        "gscv.fit(X_train, y_train)"
      ],
      "metadata": {
        "id": "xOjv-SoShBTQ",
        "colab": {
          "base_uri": "https://localhost:8080/"
        },
        "outputId": "268dfb03-9513-41f8-d4e3-8e28f8b91d11"
      },
      "execution_count": null,
      "outputs": [
        {
          "output_type": "stream",
          "name": "stderr",
          "text": [
            "/usr/local/lib/python3.7/dist-packages/sklearn/model_selection/_validation.py:372: FitFailedWarning: \n",
            "60 fits failed out of a total of 1260.\n",
            "The score on these train-test partitions for these parameters will be set to nan.\n",
            "If these failures are not expected, you can try to debug them by setting error_score='raise'.\n",
            "\n",
            "Below are more details about the failures:\n",
            "--------------------------------------------------------------------------------\n",
            "60 fits failed with the following error:\n",
            "Traceback (most recent call last):\n",
            "  File \"/usr/local/lib/python3.7/dist-packages/sklearn/model_selection/_validation.py\", line 680, in _fit_and_score\n",
            "    estimator.fit(X_train, y_train, **fit_params)\n",
            "  File \"/usr/local/lib/python3.7/dist-packages/sklearn/ensemble/_gb.py\", line 525, in fit\n",
            "    self._check_params()\n",
            "  File \"/usr/local/lib/python3.7/dist-packages/sklearn/ensemble/_gb.py\", line 275, in _check_params\n",
            "    \"learning_rate must be greater than 0 but was %r\" % self.learning_rate\n",
            "ValueError: learning_rate must be greater than 0 but was 0.0\n",
            "\n",
            "  warnings.warn(some_fits_failed_message, FitFailedWarning)\n",
            "/usr/local/lib/python3.7/dist-packages/sklearn/model_selection/_search.py:972: UserWarning: One or more of the test scores are non-finite: [            nan             nan             nan             nan\n",
            "             nan             nan  8.31423818e-01  8.30534348e-01\n",
            "  8.35662978e-01  8.36892266e-01  8.39123498e-01  8.36635210e-01\n",
            "  8.23725914e-01  8.22199903e-01  8.37611703e-01  8.28744642e-01\n",
            "  8.31308914e-01  8.23321381e-01  8.16299113e-01  8.07373003e-01\n",
            "  8.00886383e-01  8.07666411e-01  8.20088566e-01  8.11366025e-01\n",
            "  8.09602548e-01  8.07877017e-01  7.81732121e-01  7.80677296e-01\n",
            "  8.00925628e-01  7.76572652e-01  7.92402395e-01  8.01004893e-01\n",
            "  7.77492117e-01  7.89790539e-01  7.74724167e-01  7.89055467e-01\n",
            "  7.67265324e-01  7.52470461e-01  7.47133496e-01  7.50319640e-01\n",
            "  7.14564084e-01  7.35914509e-01  7.46284079e-01  7.35031854e-01\n",
            "  6.87898635e-01  7.19626618e-01  7.23723436e-01  7.21819616e-01\n",
            "  7.41228910e-01  7.33724910e-01  6.97166624e-01  7.00599802e-01\n",
            "  7.00686057e-01  6.73496067e-01  6.92847534e-01  6.67312652e-01\n",
            "  6.03034507e-01  5.89082758e-01  6.13194606e-01  6.20665351e-01\n",
            "  6.06262666e-01  6.33929292e-01  5.68280334e-01  5.69359434e-01\n",
            "  5.50219162e-01  5.61966244e-01  5.58896019e-01  5.55986089e-01\n",
            "  5.08976396e-01  4.83161603e-01  4.66741254e-01  4.73952802e-01\n",
            "  4.84998050e-01  4.91422135e-01  4.18829108e-01  3.43138248e-01\n",
            "  3.67429319e-01  3.23583973e-01  4.12312307e-01  3.69665120e-01\n",
            "  2.37657941e-01  2.60262858e-01  3.55681961e-01  3.49104400e-01\n",
            "  3.57483371e-01  3.10633408e-01  2.82639697e-01  2.70451076e-01\n",
            "  2.85401217e-01  3.26553209e-01  1.04167000e-01  2.03835414e-01\n",
            "  1.02452262e-01  2.37139101e-01  2.96517819e-01  2.47212582e-01\n",
            "  5.37213550e-02  2.32845112e-01 -8.56260446e-02 -8.37093592e-02\n",
            "  1.03941586e-01 -1.46772799e-03 -1.96703052e-02 -6.68318254e-02\n",
            " -2.01373379e-01 -1.67701596e-01 -1.42592432e-01 -1.47357895e-01\n",
            " -2.61172746e-01 -1.71772728e-01 -5.25403496e-01 -4.90931879e-01\n",
            " -4.51248840e-01 -3.20766253e-01 -4.81895330e-01 -4.91414976e-01\n",
            " -8.63979084e-01 -7.18992358e-01 -8.65670354e-01 -1.12444373e+00\n",
            " -4.95107872e-02 -4.95107872e-02 -2.35173997e-01 -2.35173997e-01\n",
            " -4.50176225e+00 -1.18842158e+00             nan             nan\n",
            "             nan             nan             nan             nan\n",
            "  8.31406793e-01  8.30495610e-01  8.35820652e-01  8.36629747e-01\n",
            "  8.39400952e-01  8.37025986e-01  8.23897347e-01  8.21959164e-01\n",
            "  8.38231214e-01  8.29089828e-01  8.31249196e-01  8.23343763e-01\n",
            "  8.16299113e-01  8.07373003e-01  8.01064355e-01  8.07050965e-01\n",
            "  8.21370501e-01  8.12296427e-01  8.09602548e-01  8.07877017e-01\n",
            "  7.84638869e-01  7.83124254e-01  7.96277282e-01  7.77177671e-01\n",
            "  7.93229340e-01  8.01446222e-01  7.77492117e-01  7.89790539e-01\n",
            "  7.75008726e-01  7.85982301e-01  7.67265324e-01  7.52470461e-01\n",
            "  7.47212702e-01  7.50319640e-01  7.20237571e-01  7.33245021e-01\n",
            "  7.46284079e-01  7.35031854e-01  6.87898635e-01  7.19742301e-01\n",
            "  7.22141904e-01  7.21819616e-01  7.41228910e-01  7.33724910e-01\n",
            "  6.97192692e-01  7.00599802e-01  6.98328226e-01  6.73488590e-01\n",
            "  6.87218665e-01  6.67312652e-01  6.03034507e-01  5.89082758e-01\n",
            "  6.13267233e-01  6.20665351e-01  6.02399929e-01  6.33969149e-01\n",
            "  5.67807849e-01  5.70610361e-01  5.50276806e-01  5.61966244e-01\n",
            "  5.58896019e-01  5.55109053e-01  5.16918353e-01  4.92531337e-01\n",
            "  4.66873928e-01  4.74158188e-01  4.84388542e-01  4.90559644e-01\n",
            "  4.16406416e-01  3.44857446e-01  3.68183372e-01  3.23393903e-01\n",
            "  4.08971939e-01  3.69266766e-01  2.34545799e-01  2.50498989e-01\n",
            "  3.55338882e-01  3.49104400e-01  3.57483371e-01  3.15678268e-01\n",
            "  2.71598977e-01  2.63906309e-01  2.85225996e-01  3.29903977e-01\n",
            "  1.04167000e-01  2.03835414e-01  1.14084370e-01  2.37139101e-01\n",
            "  2.96001821e-01  2.56692646e-01  5.49994624e-02  2.32845112e-01\n",
            " -8.27451417e-02 -8.35803586e-02  1.05349814e-01  1.39713809e-03\n",
            " -2.44465283e-02 -5.90949341e-02 -2.18900471e-01 -1.89670673e-01\n",
            " -1.46319163e-01 -1.49518578e-01 -2.40321728e-01 -1.54132200e-01\n",
            " -5.16502507e-01 -4.86694669e-01 -4.78803881e-01 -3.19248252e-01\n",
            " -4.23114355e-01 -4.56172587e-01 -8.62011136e-01 -7.21483854e-01\n",
            " -8.89377404e-01 -1.18895434e+00 -4.95107872e-02 -4.95107872e-02\n",
            " -2.35173997e-01 -2.35173997e-01 -2.40701525e+00 -1.36661377e+00]\n",
            "  category=UserWarning,\n"
          ]
        },
        {
          "output_type": "execute_result",
          "data": {
            "text/plain": [
              "GridSearchCV(estimator=GradientBoostingRegressor(random_state=35),\n",
              "             param_grid={'criterion': ('friedman_mse', 'squared_error'),\n",
              "                         'learning_rate': array([0. , 0.1, 0.2, 0.3, 0.4, 0.5, 0.6, 0.7, 0.8, 0.9, 1. , 1.1, 1.2,\n",
              "       1.3, 1.4, 1.5, 1.6, 1.7, 1.8, 1.9, 2. ]),\n",
              "                         'max_depth': [3, 4, 5], 'min_samples_split': [2, 3]},\n",
              "             scoring='r2')"
            ]
          },
          "metadata": {},
          "execution_count": 36
        }
      ]
    },
    {
      "cell_type": "code",
      "source": [
        "parametros_otimizados = pd.DataFrame(gscv.cv_results_)[['params','rank_test_score','mean_test_score']].sort_values(by=['rank_test_score']) # Dataframe de resultados\n",
        "parametros_otimizados"
      ],
      "metadata": {
        "colab": {
          "base_uri": "https://localhost:8080/",
          "height": 424
        },
        "id": "b48_M19mp9y7",
        "outputId": "048cf7ca-9156-498c-d96a-f470062ede0f"
      },
      "execution_count": null,
      "outputs": [
        {
          "output_type": "execute_result",
          "data": {
            "text/plain": [
              "                                                params  rank_test_score  \\\n",
              "136  {'criterion': 'squared_error', 'learning_rate'...                1   \n",
              "10   {'criterion': 'friedman_mse', 'learning_rate':...                2   \n",
              "140  {'criterion': 'squared_error', 'learning_rate'...                3   \n",
              "14   {'criterion': 'friedman_mse', 'learning_rate':...                4   \n",
              "137  {'criterion': 'squared_error', 'learning_rate'...                5   \n",
              "..                                                 ...              ...   \n",
              "3    {'criterion': 'friedman_mse', 'learning_rate':...              248   \n",
              "2    {'criterion': 'friedman_mse', 'learning_rate':...              249   \n",
              "1    {'criterion': 'friedman_mse', 'learning_rate':...              250   \n",
              "131  {'criterion': 'squared_error', 'learning_rate'...              251   \n",
              "0    {'criterion': 'friedman_mse', 'learning_rate':...              252   \n",
              "\n",
              "     mean_test_score  \n",
              "136         0.839401  \n",
              "10          0.839123  \n",
              "140         0.838231  \n",
              "14          0.837612  \n",
              "137         0.837026  \n",
              "..               ...  \n",
              "3                NaN  \n",
              "2                NaN  \n",
              "1                NaN  \n",
              "131              NaN  \n",
              "0                NaN  \n",
              "\n",
              "[252 rows x 3 columns]"
            ],
            "text/html": [
              "\n",
              "  <div id=\"df-d9cc98a7-e2f2-4f4b-b891-fc24dbfb0a7f\">\n",
              "    <div class=\"colab-df-container\">\n",
              "      <div>\n",
              "<style scoped>\n",
              "    .dataframe tbody tr th:only-of-type {\n",
              "        vertical-align: middle;\n",
              "    }\n",
              "\n",
              "    .dataframe tbody tr th {\n",
              "        vertical-align: top;\n",
              "    }\n",
              "\n",
              "    .dataframe thead th {\n",
              "        text-align: right;\n",
              "    }\n",
              "</style>\n",
              "<table border=\"1\" class=\"dataframe\">\n",
              "  <thead>\n",
              "    <tr style=\"text-align: right;\">\n",
              "      <th></th>\n",
              "      <th>params</th>\n",
              "      <th>rank_test_score</th>\n",
              "      <th>mean_test_score</th>\n",
              "    </tr>\n",
              "  </thead>\n",
              "  <tbody>\n",
              "    <tr>\n",
              "      <th>136</th>\n",
              "      <td>{'criterion': 'squared_error', 'learning_rate'...</td>\n",
              "      <td>1</td>\n",
              "      <td>0.839401</td>\n",
              "    </tr>\n",
              "    <tr>\n",
              "      <th>10</th>\n",
              "      <td>{'criterion': 'friedman_mse', 'learning_rate':...</td>\n",
              "      <td>2</td>\n",
              "      <td>0.839123</td>\n",
              "    </tr>\n",
              "    <tr>\n",
              "      <th>140</th>\n",
              "      <td>{'criterion': 'squared_error', 'learning_rate'...</td>\n",
              "      <td>3</td>\n",
              "      <td>0.838231</td>\n",
              "    </tr>\n",
              "    <tr>\n",
              "      <th>14</th>\n",
              "      <td>{'criterion': 'friedman_mse', 'learning_rate':...</td>\n",
              "      <td>4</td>\n",
              "      <td>0.837612</td>\n",
              "    </tr>\n",
              "    <tr>\n",
              "      <th>137</th>\n",
              "      <td>{'criterion': 'squared_error', 'learning_rate'...</td>\n",
              "      <td>5</td>\n",
              "      <td>0.837026</td>\n",
              "    </tr>\n",
              "    <tr>\n",
              "      <th>...</th>\n",
              "      <td>...</td>\n",
              "      <td>...</td>\n",
              "      <td>...</td>\n",
              "    </tr>\n",
              "    <tr>\n",
              "      <th>3</th>\n",
              "      <td>{'criterion': 'friedman_mse', 'learning_rate':...</td>\n",
              "      <td>248</td>\n",
              "      <td>NaN</td>\n",
              "    </tr>\n",
              "    <tr>\n",
              "      <th>2</th>\n",
              "      <td>{'criterion': 'friedman_mse', 'learning_rate':...</td>\n",
              "      <td>249</td>\n",
              "      <td>NaN</td>\n",
              "    </tr>\n",
              "    <tr>\n",
              "      <th>1</th>\n",
              "      <td>{'criterion': 'friedman_mse', 'learning_rate':...</td>\n",
              "      <td>250</td>\n",
              "      <td>NaN</td>\n",
              "    </tr>\n",
              "    <tr>\n",
              "      <th>131</th>\n",
              "      <td>{'criterion': 'squared_error', 'learning_rate'...</td>\n",
              "      <td>251</td>\n",
              "      <td>NaN</td>\n",
              "    </tr>\n",
              "    <tr>\n",
              "      <th>0</th>\n",
              "      <td>{'criterion': 'friedman_mse', 'learning_rate':...</td>\n",
              "      <td>252</td>\n",
              "      <td>NaN</td>\n",
              "    </tr>\n",
              "  </tbody>\n",
              "</table>\n",
              "<p>252 rows × 3 columns</p>\n",
              "</div>\n",
              "      <button class=\"colab-df-convert\" onclick=\"convertToInteractive('df-d9cc98a7-e2f2-4f4b-b891-fc24dbfb0a7f')\"\n",
              "              title=\"Convert this dataframe to an interactive table.\"\n",
              "              style=\"display:none;\">\n",
              "        \n",
              "  <svg xmlns=\"http://www.w3.org/2000/svg\" height=\"24px\"viewBox=\"0 0 24 24\"\n",
              "       width=\"24px\">\n",
              "    <path d=\"M0 0h24v24H0V0z\" fill=\"none\"/>\n",
              "    <path d=\"M18.56 5.44l.94 2.06.94-2.06 2.06-.94-2.06-.94-.94-2.06-.94 2.06-2.06.94zm-11 1L8.5 8.5l.94-2.06 2.06-.94-2.06-.94L8.5 2.5l-.94 2.06-2.06.94zm10 10l.94 2.06.94-2.06 2.06-.94-2.06-.94-.94-2.06-.94 2.06-2.06.94z\"/><path d=\"M17.41 7.96l-1.37-1.37c-.4-.4-.92-.59-1.43-.59-.52 0-1.04.2-1.43.59L10.3 9.45l-7.72 7.72c-.78.78-.78 2.05 0 2.83L4 21.41c.39.39.9.59 1.41.59.51 0 1.02-.2 1.41-.59l7.78-7.78 2.81-2.81c.8-.78.8-2.07 0-2.86zM5.41 20L4 18.59l7.72-7.72 1.47 1.35L5.41 20z\"/>\n",
              "  </svg>\n",
              "      </button>\n",
              "      \n",
              "  <style>\n",
              "    .colab-df-container {\n",
              "      display:flex;\n",
              "      flex-wrap:wrap;\n",
              "      gap: 12px;\n",
              "    }\n",
              "\n",
              "    .colab-df-convert {\n",
              "      background-color: #E8F0FE;\n",
              "      border: none;\n",
              "      border-radius: 50%;\n",
              "      cursor: pointer;\n",
              "      display: none;\n",
              "      fill: #1967D2;\n",
              "      height: 32px;\n",
              "      padding: 0 0 0 0;\n",
              "      width: 32px;\n",
              "    }\n",
              "\n",
              "    .colab-df-convert:hover {\n",
              "      background-color: #E2EBFA;\n",
              "      box-shadow: 0px 1px 2px rgba(60, 64, 67, 0.3), 0px 1px 3px 1px rgba(60, 64, 67, 0.15);\n",
              "      fill: #174EA6;\n",
              "    }\n",
              "\n",
              "    [theme=dark] .colab-df-convert {\n",
              "      background-color: #3B4455;\n",
              "      fill: #D2E3FC;\n",
              "    }\n",
              "\n",
              "    [theme=dark] .colab-df-convert:hover {\n",
              "      background-color: #434B5C;\n",
              "      box-shadow: 0px 1px 3px 1px rgba(0, 0, 0, 0.15);\n",
              "      filter: drop-shadow(0px 1px 2px rgba(0, 0, 0, 0.3));\n",
              "      fill: #FFFFFF;\n",
              "    }\n",
              "  </style>\n",
              "\n",
              "      <script>\n",
              "        const buttonEl =\n",
              "          document.querySelector('#df-d9cc98a7-e2f2-4f4b-b891-fc24dbfb0a7f button.colab-df-convert');\n",
              "        buttonEl.style.display =\n",
              "          google.colab.kernel.accessAllowed ? 'block' : 'none';\n",
              "\n",
              "        async function convertToInteractive(key) {\n",
              "          const element = document.querySelector('#df-d9cc98a7-e2f2-4f4b-b891-fc24dbfb0a7f');\n",
              "          const dataTable =\n",
              "            await google.colab.kernel.invokeFunction('convertToInteractive',\n",
              "                                                     [key], {});\n",
              "          if (!dataTable) return;\n",
              "\n",
              "          const docLinkHtml = 'Like what you see? Visit the ' +\n",
              "            '<a target=\"_blank\" href=https://colab.research.google.com/notebooks/data_table.ipynb>data table notebook</a>'\n",
              "            + ' to learn more about interactive tables.';\n",
              "          element.innerHTML = '';\n",
              "          dataTable['output_type'] = 'display_data';\n",
              "          await google.colab.output.renderOutput(dataTable, element);\n",
              "          const docLink = document.createElement('div');\n",
              "          docLink.innerHTML = docLinkHtml;\n",
              "          element.appendChild(docLink);\n",
              "        }\n",
              "      </script>\n",
              "    </div>\n",
              "  </div>\n",
              "  "
            ]
          },
          "metadata": {},
          "execution_count": 37
        }
      ]
    },
    {
      "cell_type": "code",
      "source": [
        "gscv.best_params_"
      ],
      "metadata": {
        "colab": {
          "base_uri": "https://localhost:8080/"
        },
        "id": "bJpFH-XSqow5",
        "outputId": "b25810fe-42a2-4f35-890b-898e21e27eb8"
      },
      "execution_count": null,
      "outputs": [
        {
          "output_type": "execute_result",
          "data": {
            "text/plain": [
              "{'criterion': 'squared_error',\n",
              " 'learning_rate': 0.1,\n",
              " 'max_depth': 5,\n",
              " 'min_samples_split': 2}"
            ]
          },
          "metadata": {},
          "execution_count": 38
        }
      ]
    },
    {
      "cell_type": "code",
      "source": [
        "modelo = GradientBoostingRegressor(criterion = 'squared_error', learning_rate = 0.1, max_depth = 5, min_samples_split = 2, random_state=35) # Parâmetros testados pelo GridSearchCV()\n",
        "modelo.fit(X_train, y_train)\n",
        "y_pred = modelo.predict(X_test)\n",
        "\n",
        "print(r2_score(y_test, y_pred))\n",
        "print(mean_absolute_error(y_test, y_pred))\n",
        "print(math.sqrt(mean_squared_error(y_test, y_pred)))\n",
        "print(max_error(y_test, y_pred))"
      ],
      "metadata": {
        "colab": {
          "base_uri": "https://localhost:8080/"
        },
        "id": "KgoHpdwqq5qe",
        "outputId": "e0810846-33da-4a66-aa70-432f01fcfca4"
      },
      "execution_count": null,
      "outputs": [
        {
          "output_type": "stream",
          "name": "stdout",
          "text": [
            "0.8799534912830984\n",
            "17662.214838909164\n",
            "27061.090853708774\n",
            "172567.76408412977\n"
          ]
        }
      ]
    },
    {
      "cell_type": "code",
      "source": [
        "plt.figure(figsize=(12,8))\n",
        "sns.lineplot(x=y_test, y=y_test)\n",
        "sns.regplot(x=y_test, y=y_pred);"
      ],
      "metadata": {
        "id": "KHWAIdA1rMnU"
      },
      "execution_count": null,
      "outputs": []
    },
    {
      "cell_type": "markdown",
      "source": [
        "# 8. Histórico (1.0 pontos)\n",
        "Preencha a tabela abaixo com cada teste realizado com seu modelo. Não se preocupe caso voce mude de ideia sobre qual modelo testar, mas não deixe de testá-lo exaustivamente e, caso precise, retorne para o passo de criação e seleção de características.\n",
        "\n",
        "Modelo | Parâmetros | Acurácia | Precisão\n",
        "-------|------------|----------|---------\n",
        "Modelo 1| abc|abc|abc\n",
        "Modelo 2|xyz|xyz|xyz\n"
      ],
      "metadata": {
        "id": "1zS3aPePsL4C"
      }
    },
    {
      "cell_type": "markdown",
      "source": [
        "Foram realizadas duas baterias de testes. O primeiro teste tratou da comparação entre diversos modelos utilizando o cross_validate para encontrar o modelo que possui as melhores métricas em situações distintas.\n",
        "\n",
        "Nesta etapa foram testados os seguintes modelos: Ridge, Lasso, SGDRegressor,\n",
        "ElasticNet, GradientBoostingRegressor, DecisionTreeRegressor e RandomForestRegressor que tiveram os seguintes resultados:"
      ],
      "metadata": {
        "id": "9g4wSslQrzG-"
      }
    },
    {
      "cell_type": "code",
      "source": [
        "print('''As metricas MAE (Erro Médio Absoluto) e RMSE (Erro quadrático médio) estão negativos por que é a forma que o cross_validate nos fornece essa informação através dos argumentos:\n",
        "*    test_neg_mean_absolute_error\n",
        "*    test_neg_root_mean_squared_error\n",
        "\n",
        "''')\n",
        "\n",
        "\n",
        "pd.DataFrame({'r2':metric_r2,\n",
        "              'max':metric_max,\n",
        "              'MAE':metric_MAE,\n",
        "              'RMASE':metric_RMSE}, index=nomes)"
      ],
      "metadata": {
        "colab": {
          "base_uri": "https://localhost:8080/",
          "height": 356
        },
        "id": "jSmG6_Xxusnr",
        "outputId": "91a803d9-eddc-4995-92ac-d5a1e3a13e62"
      },
      "execution_count": null,
      "outputs": [
        {
          "output_type": "stream",
          "name": "stdout",
          "text": [
            "As metricas MAE (Erro Médio Absoluto) e RMSE (Erro quadrático médio) estão negativos por que é a forma que o cross_validate nos fornece essa informação através dos argumentos:\n",
            "*    test_neg_mean_absolute_error\n",
            "*    test_neg_root_mean_squared_error\n",
            "\n",
            "\n"
          ]
        },
        {
          "output_type": "execute_result",
          "data": {
            "text/plain": [
              "                                   r2            max           MAE  \\\n",
              "Ridge()                      0.837788 -280827.767147 -19014.977593   \n",
              "Lasso(max_iter=10000)        0.831202 -292858.704620 -19153.358673   \n",
              "SGDRegressor()               0.837358 -263667.532389 -19530.659922   \n",
              "ElasticNet()                 0.628976 -353122.891396 -31062.730877   \n",
              "GradientBoostingRegressor()  0.864197 -234686.518538 -17943.969472   \n",
              "DecisionTreeRegressor()      0.688884 -237568.000000 -29218.887671   \n",
              "RandomForestRegressor()      0.844068 -238494.384000 -18848.933558   \n",
              "\n",
              "                                    RMASE  \n",
              "Ridge()                     -31600.553793  \n",
              "Lasso(max_iter=10000)       -32175.148530  \n",
              "SGDRegressor()              -31752.201487  \n",
              "ElasticNet()                -48287.664379  \n",
              "GradientBoostingRegressor() -29057.499298  \n",
              "DecisionTreeRegressor()     -43877.098536  \n",
              "RandomForestRegressor()     -31228.906033  "
            ],
            "text/html": [
              "\n",
              "  <div id=\"df-88060832-f74c-4838-a6af-a271725699fc\">\n",
              "    <div class=\"colab-df-container\">\n",
              "      <div>\n",
              "<style scoped>\n",
              "    .dataframe tbody tr th:only-of-type {\n",
              "        vertical-align: middle;\n",
              "    }\n",
              "\n",
              "    .dataframe tbody tr th {\n",
              "        vertical-align: top;\n",
              "    }\n",
              "\n",
              "    .dataframe thead th {\n",
              "        text-align: right;\n",
              "    }\n",
              "</style>\n",
              "<table border=\"1\" class=\"dataframe\">\n",
              "  <thead>\n",
              "    <tr style=\"text-align: right;\">\n",
              "      <th></th>\n",
              "      <th>r2</th>\n",
              "      <th>max</th>\n",
              "      <th>MAE</th>\n",
              "      <th>RMASE</th>\n",
              "    </tr>\n",
              "  </thead>\n",
              "  <tbody>\n",
              "    <tr>\n",
              "      <th>Ridge()</th>\n",
              "      <td>0.837788</td>\n",
              "      <td>-280827.767147</td>\n",
              "      <td>-19014.977593</td>\n",
              "      <td>-31600.553793</td>\n",
              "    </tr>\n",
              "    <tr>\n",
              "      <th>Lasso(max_iter=10000)</th>\n",
              "      <td>0.831202</td>\n",
              "      <td>-292858.704620</td>\n",
              "      <td>-19153.358673</td>\n",
              "      <td>-32175.148530</td>\n",
              "    </tr>\n",
              "    <tr>\n",
              "      <th>SGDRegressor()</th>\n",
              "      <td>0.837358</td>\n",
              "      <td>-263667.532389</td>\n",
              "      <td>-19530.659922</td>\n",
              "      <td>-31752.201487</td>\n",
              "    </tr>\n",
              "    <tr>\n",
              "      <th>ElasticNet()</th>\n",
              "      <td>0.628976</td>\n",
              "      <td>-353122.891396</td>\n",
              "      <td>-31062.730877</td>\n",
              "      <td>-48287.664379</td>\n",
              "    </tr>\n",
              "    <tr>\n",
              "      <th>GradientBoostingRegressor()</th>\n",
              "      <td>0.864197</td>\n",
              "      <td>-234686.518538</td>\n",
              "      <td>-17943.969472</td>\n",
              "      <td>-29057.499298</td>\n",
              "    </tr>\n",
              "    <tr>\n",
              "      <th>DecisionTreeRegressor()</th>\n",
              "      <td>0.688884</td>\n",
              "      <td>-237568.000000</td>\n",
              "      <td>-29218.887671</td>\n",
              "      <td>-43877.098536</td>\n",
              "    </tr>\n",
              "    <tr>\n",
              "      <th>RandomForestRegressor()</th>\n",
              "      <td>0.844068</td>\n",
              "      <td>-238494.384000</td>\n",
              "      <td>-18848.933558</td>\n",
              "      <td>-31228.906033</td>\n",
              "    </tr>\n",
              "  </tbody>\n",
              "</table>\n",
              "</div>\n",
              "      <button class=\"colab-df-convert\" onclick=\"convertToInteractive('df-88060832-f74c-4838-a6af-a271725699fc')\"\n",
              "              title=\"Convert this dataframe to an interactive table.\"\n",
              "              style=\"display:none;\">\n",
              "        \n",
              "  <svg xmlns=\"http://www.w3.org/2000/svg\" height=\"24px\"viewBox=\"0 0 24 24\"\n",
              "       width=\"24px\">\n",
              "    <path d=\"M0 0h24v24H0V0z\" fill=\"none\"/>\n",
              "    <path d=\"M18.56 5.44l.94 2.06.94-2.06 2.06-.94-2.06-.94-.94-2.06-.94 2.06-2.06.94zm-11 1L8.5 8.5l.94-2.06 2.06-.94-2.06-.94L8.5 2.5l-.94 2.06-2.06.94zm10 10l.94 2.06.94-2.06 2.06-.94-2.06-.94-.94-2.06-.94 2.06-2.06.94z\"/><path d=\"M17.41 7.96l-1.37-1.37c-.4-.4-.92-.59-1.43-.59-.52 0-1.04.2-1.43.59L10.3 9.45l-7.72 7.72c-.78.78-.78 2.05 0 2.83L4 21.41c.39.39.9.59 1.41.59.51 0 1.02-.2 1.41-.59l7.78-7.78 2.81-2.81c.8-.78.8-2.07 0-2.86zM5.41 20L4 18.59l7.72-7.72 1.47 1.35L5.41 20z\"/>\n",
              "  </svg>\n",
              "      </button>\n",
              "      \n",
              "  <style>\n",
              "    .colab-df-container {\n",
              "      display:flex;\n",
              "      flex-wrap:wrap;\n",
              "      gap: 12px;\n",
              "    }\n",
              "\n",
              "    .colab-df-convert {\n",
              "      background-color: #E8F0FE;\n",
              "      border: none;\n",
              "      border-radius: 50%;\n",
              "      cursor: pointer;\n",
              "      display: none;\n",
              "      fill: #1967D2;\n",
              "      height: 32px;\n",
              "      padding: 0 0 0 0;\n",
              "      width: 32px;\n",
              "    }\n",
              "\n",
              "    .colab-df-convert:hover {\n",
              "      background-color: #E2EBFA;\n",
              "      box-shadow: 0px 1px 2px rgba(60, 64, 67, 0.3), 0px 1px 3px 1px rgba(60, 64, 67, 0.15);\n",
              "      fill: #174EA6;\n",
              "    }\n",
              "\n",
              "    [theme=dark] .colab-df-convert {\n",
              "      background-color: #3B4455;\n",
              "      fill: #D2E3FC;\n",
              "    }\n",
              "\n",
              "    [theme=dark] .colab-df-convert:hover {\n",
              "      background-color: #434B5C;\n",
              "      box-shadow: 0px 1px 3px 1px rgba(0, 0, 0, 0.15);\n",
              "      filter: drop-shadow(0px 1px 2px rgba(0, 0, 0, 0.3));\n",
              "      fill: #FFFFFF;\n",
              "    }\n",
              "  </style>\n",
              "\n",
              "      <script>\n",
              "        const buttonEl =\n",
              "          document.querySelector('#df-88060832-f74c-4838-a6af-a271725699fc button.colab-df-convert');\n",
              "        buttonEl.style.display =\n",
              "          google.colab.kernel.accessAllowed ? 'block' : 'none';\n",
              "\n",
              "        async function convertToInteractive(key) {\n",
              "          const element = document.querySelector('#df-88060832-f74c-4838-a6af-a271725699fc');\n",
              "          const dataTable =\n",
              "            await google.colab.kernel.invokeFunction('convertToInteractive',\n",
              "                                                     [key], {});\n",
              "          if (!dataTable) return;\n",
              "\n",
              "          const docLinkHtml = 'Like what you see? Visit the ' +\n",
              "            '<a target=\"_blank\" href=https://colab.research.google.com/notebooks/data_table.ipynb>data table notebook</a>'\n",
              "            + ' to learn more about interactive tables.';\n",
              "          element.innerHTML = '';\n",
              "          dataTable['output_type'] = 'display_data';\n",
              "          await google.colab.output.renderOutput(dataTable, element);\n",
              "          const docLink = document.createElement('div');\n",
              "          docLink.innerHTML = docLinkHtml;\n",
              "          element.appendChild(docLink);\n",
              "        }\n",
              "      </script>\n",
              "    </div>\n",
              "  </div>\n",
              "  "
            ]
          },
          "metadata": {},
          "execution_count": 41
        }
      ]
    },
    {
      "cell_type": "markdown",
      "source": [
        "Ao análisar as métricas e concluir que o GradientBoostingRegressor() é o melhor regressor para nossa situação, este modelo foi testado de maneira intensa através da função GridSearchCV().\n",
        "\n",
        "Esta função permite testar todas as combinações entre os parâmetros fornecidos, os parâmetros testados foram os seguintes:\n",
        "* 'learning_rate': de 0 até 2 em degraus de 0.1 (0.1, 0.2, 0.3...)\n",
        "* 'criterion': 'friedman_mse' e  'squared_error'\n",
        "* 'min_samples_split': 2 e 3\n",
        "* 'max_depth': 3, 4 e 5\n",
        "\n",
        "Que resultaram em 252 combinações de parâmetros com métricas distintas. Os resultados estão listados abaixo."
      ],
      "metadata": {
        "id": "Xd75x5hrwlR_"
      }
    },
    {
      "cell_type": "code",
      "source": [
        "parametros_otimizados"
      ],
      "metadata": {
        "colab": {
          "base_uri": "https://localhost:8080/",
          "height": 424
        },
        "id": "NvdhIWcO4t--",
        "outputId": "9478be4b-7c67-490b-bcab-67d4a66ed713"
      },
      "execution_count": null,
      "outputs": [
        {
          "output_type": "execute_result",
          "data": {
            "text/plain": [
              "                                                params  rank_test_score  \\\n",
              "136  {'criterion': 'squared_error', 'learning_rate'...                1   \n",
              "10   {'criterion': 'friedman_mse', 'learning_rate':...                2   \n",
              "140  {'criterion': 'squared_error', 'learning_rate'...                3   \n",
              "14   {'criterion': 'friedman_mse', 'learning_rate':...                4   \n",
              "137  {'criterion': 'squared_error', 'learning_rate'...                5   \n",
              "..                                                 ...              ...   \n",
              "3    {'criterion': 'friedman_mse', 'learning_rate':...              248   \n",
              "2    {'criterion': 'friedman_mse', 'learning_rate':...              249   \n",
              "1    {'criterion': 'friedman_mse', 'learning_rate':...              250   \n",
              "131  {'criterion': 'squared_error', 'learning_rate'...              251   \n",
              "0    {'criterion': 'friedman_mse', 'learning_rate':...              252   \n",
              "\n",
              "     mean_test_score  \n",
              "136         0.839401  \n",
              "10          0.839123  \n",
              "140         0.838231  \n",
              "14          0.837612  \n",
              "137         0.837026  \n",
              "..               ...  \n",
              "3                NaN  \n",
              "2                NaN  \n",
              "1                NaN  \n",
              "131              NaN  \n",
              "0                NaN  \n",
              "\n",
              "[252 rows x 3 columns]"
            ],
            "text/html": [
              "\n",
              "  <div id=\"df-6d793c64-f37d-4913-9275-648101407c9b\">\n",
              "    <div class=\"colab-df-container\">\n",
              "      <div>\n",
              "<style scoped>\n",
              "    .dataframe tbody tr th:only-of-type {\n",
              "        vertical-align: middle;\n",
              "    }\n",
              "\n",
              "    .dataframe tbody tr th {\n",
              "        vertical-align: top;\n",
              "    }\n",
              "\n",
              "    .dataframe thead th {\n",
              "        text-align: right;\n",
              "    }\n",
              "</style>\n",
              "<table border=\"1\" class=\"dataframe\">\n",
              "  <thead>\n",
              "    <tr style=\"text-align: right;\">\n",
              "      <th></th>\n",
              "      <th>params</th>\n",
              "      <th>rank_test_score</th>\n",
              "      <th>mean_test_score</th>\n",
              "    </tr>\n",
              "  </thead>\n",
              "  <tbody>\n",
              "    <tr>\n",
              "      <th>136</th>\n",
              "      <td>{'criterion': 'squared_error', 'learning_rate'...</td>\n",
              "      <td>1</td>\n",
              "      <td>0.839401</td>\n",
              "    </tr>\n",
              "    <tr>\n",
              "      <th>10</th>\n",
              "      <td>{'criterion': 'friedman_mse', 'learning_rate':...</td>\n",
              "      <td>2</td>\n",
              "      <td>0.839123</td>\n",
              "    </tr>\n",
              "    <tr>\n",
              "      <th>140</th>\n",
              "      <td>{'criterion': 'squared_error', 'learning_rate'...</td>\n",
              "      <td>3</td>\n",
              "      <td>0.838231</td>\n",
              "    </tr>\n",
              "    <tr>\n",
              "      <th>14</th>\n",
              "      <td>{'criterion': 'friedman_mse', 'learning_rate':...</td>\n",
              "      <td>4</td>\n",
              "      <td>0.837612</td>\n",
              "    </tr>\n",
              "    <tr>\n",
              "      <th>137</th>\n",
              "      <td>{'criterion': 'squared_error', 'learning_rate'...</td>\n",
              "      <td>5</td>\n",
              "      <td>0.837026</td>\n",
              "    </tr>\n",
              "    <tr>\n",
              "      <th>...</th>\n",
              "      <td>...</td>\n",
              "      <td>...</td>\n",
              "      <td>...</td>\n",
              "    </tr>\n",
              "    <tr>\n",
              "      <th>3</th>\n",
              "      <td>{'criterion': 'friedman_mse', 'learning_rate':...</td>\n",
              "      <td>248</td>\n",
              "      <td>NaN</td>\n",
              "    </tr>\n",
              "    <tr>\n",
              "      <th>2</th>\n",
              "      <td>{'criterion': 'friedman_mse', 'learning_rate':...</td>\n",
              "      <td>249</td>\n",
              "      <td>NaN</td>\n",
              "    </tr>\n",
              "    <tr>\n",
              "      <th>1</th>\n",
              "      <td>{'criterion': 'friedman_mse', 'learning_rate':...</td>\n",
              "      <td>250</td>\n",
              "      <td>NaN</td>\n",
              "    </tr>\n",
              "    <tr>\n",
              "      <th>131</th>\n",
              "      <td>{'criterion': 'squared_error', 'learning_rate'...</td>\n",
              "      <td>251</td>\n",
              "      <td>NaN</td>\n",
              "    </tr>\n",
              "    <tr>\n",
              "      <th>0</th>\n",
              "      <td>{'criterion': 'friedman_mse', 'learning_rate':...</td>\n",
              "      <td>252</td>\n",
              "      <td>NaN</td>\n",
              "    </tr>\n",
              "  </tbody>\n",
              "</table>\n",
              "<p>252 rows × 3 columns</p>\n",
              "</div>\n",
              "      <button class=\"colab-df-convert\" onclick=\"convertToInteractive('df-6d793c64-f37d-4913-9275-648101407c9b')\"\n",
              "              title=\"Convert this dataframe to an interactive table.\"\n",
              "              style=\"display:none;\">\n",
              "        \n",
              "  <svg xmlns=\"http://www.w3.org/2000/svg\" height=\"24px\"viewBox=\"0 0 24 24\"\n",
              "       width=\"24px\">\n",
              "    <path d=\"M0 0h24v24H0V0z\" fill=\"none\"/>\n",
              "    <path d=\"M18.56 5.44l.94 2.06.94-2.06 2.06-.94-2.06-.94-.94-2.06-.94 2.06-2.06.94zm-11 1L8.5 8.5l.94-2.06 2.06-.94-2.06-.94L8.5 2.5l-.94 2.06-2.06.94zm10 10l.94 2.06.94-2.06 2.06-.94-2.06-.94-.94-2.06-.94 2.06-2.06.94z\"/><path d=\"M17.41 7.96l-1.37-1.37c-.4-.4-.92-.59-1.43-.59-.52 0-1.04.2-1.43.59L10.3 9.45l-7.72 7.72c-.78.78-.78 2.05 0 2.83L4 21.41c.39.39.9.59 1.41.59.51 0 1.02-.2 1.41-.59l7.78-7.78 2.81-2.81c.8-.78.8-2.07 0-2.86zM5.41 20L4 18.59l7.72-7.72 1.47 1.35L5.41 20z\"/>\n",
              "  </svg>\n",
              "      </button>\n",
              "      \n",
              "  <style>\n",
              "    .colab-df-container {\n",
              "      display:flex;\n",
              "      flex-wrap:wrap;\n",
              "      gap: 12px;\n",
              "    }\n",
              "\n",
              "    .colab-df-convert {\n",
              "      background-color: #E8F0FE;\n",
              "      border: none;\n",
              "      border-radius: 50%;\n",
              "      cursor: pointer;\n",
              "      display: none;\n",
              "      fill: #1967D2;\n",
              "      height: 32px;\n",
              "      padding: 0 0 0 0;\n",
              "      width: 32px;\n",
              "    }\n",
              "\n",
              "    .colab-df-convert:hover {\n",
              "      background-color: #E2EBFA;\n",
              "      box-shadow: 0px 1px 2px rgba(60, 64, 67, 0.3), 0px 1px 3px 1px rgba(60, 64, 67, 0.15);\n",
              "      fill: #174EA6;\n",
              "    }\n",
              "\n",
              "    [theme=dark] .colab-df-convert {\n",
              "      background-color: #3B4455;\n",
              "      fill: #D2E3FC;\n",
              "    }\n",
              "\n",
              "    [theme=dark] .colab-df-convert:hover {\n",
              "      background-color: #434B5C;\n",
              "      box-shadow: 0px 1px 3px 1px rgba(0, 0, 0, 0.15);\n",
              "      filter: drop-shadow(0px 1px 2px rgba(0, 0, 0, 0.3));\n",
              "      fill: #FFFFFF;\n",
              "    }\n",
              "  </style>\n",
              "\n",
              "      <script>\n",
              "        const buttonEl =\n",
              "          document.querySelector('#df-6d793c64-f37d-4913-9275-648101407c9b button.colab-df-convert');\n",
              "        buttonEl.style.display =\n",
              "          google.colab.kernel.accessAllowed ? 'block' : 'none';\n",
              "\n",
              "        async function convertToInteractive(key) {\n",
              "          const element = document.querySelector('#df-6d793c64-f37d-4913-9275-648101407c9b');\n",
              "          const dataTable =\n",
              "            await google.colab.kernel.invokeFunction('convertToInteractive',\n",
              "                                                     [key], {});\n",
              "          if (!dataTable) return;\n",
              "\n",
              "          const docLinkHtml = 'Like what you see? Visit the ' +\n",
              "            '<a target=\"_blank\" href=https://colab.research.google.com/notebooks/data_table.ipynb>data table notebook</a>'\n",
              "            + ' to learn more about interactive tables.';\n",
              "          element.innerHTML = '';\n",
              "          dataTable['output_type'] = 'display_data';\n",
              "          await google.colab.output.renderOutput(dataTable, element);\n",
              "          const docLink = document.createElement('div');\n",
              "          docLink.innerHTML = docLinkHtml;\n",
              "          element.appendChild(docLink);\n",
              "        }\n",
              "      </script>\n",
              "    </div>\n",
              "  </div>\n",
              "  "
            ]
          },
          "metadata": {},
          "execution_count": 42
        }
      ]
    },
    {
      "cell_type": "markdown",
      "source": [
        "Por fim, o modelo foi ajustado com as seguintes caracteristicas: (criterion = 'squared_error', learning_rate = 0.1, max_depth = 5, min_samples_split = 2) e obteve as seguintes métricas:\n",
        "\n",
        "* R2_score = 0.8799534912830984\n",
        "* MAE = 17662.214838909164\n",
        "* RMSE = 27061.090853708774\n",
        "* Erro máximo = 172567.76408412977\n"
      ],
      "metadata": {
        "id": "hGZgA6vH5AWh"
      }
    },
    {
      "cell_type": "markdown",
      "source": [
        "# 9. Resultado (2.0 pontos)\n",
        "Reúna os seus achados, os valores das métricas do seu melhor modelo obtido e o melhor conjunto de variáveis. Escreva abaixo um relatório que seria enviado para uma diretoria de uma empresa sobre seu trabalho."
      ],
      "metadata": {
        "id": "zNQWW-Jts3ob"
      }
    },
    {
      "cell_type": "markdown",
      "source": [
        "Bom dia,  \n",
        "De acordo com as demandas discutidas nas reuniões anteriores, segue os resultados obtidos da análise das vendas de casas executadas em Ames, Iowa. Este relatório aborda os seguintes pontos:\n",
        "\n",
        "* Análise exploratória dos dados\n",
        "* Preparação e seleção de características\n",
        "* Decisão de modelos e modelagem\n",
        "* Resultados\n",
        "\n",
        "## Análise exploratória dos dados\n",
        "\n",
        "O conjunto de dados consiste em 1460 observações com 80 atributos sendo 79 variáveis independentes e 1 variável dependente. Dos 80 atributos, 46 são categóricos e 33 são quantitativos.\n",
        "\n",
        "### Atributos quantitativos (numéricos)\n",
        "\n",
        "Analisamos as correlações entre os atributos numéricos, notamos que grande parte dos atributos possuem uma alta correlação com o a variável target (‘SalePrice’). Porém, alguns atributos possuem uma grande correlação entre si, o que pode ser um indicativo de dependência e causalidade. \n",
        "\n",
        "Através da análise dos gráficos, podemos notar relações de dependência nas seguintes variáveis: 'YearBuilt','GarageYrBlt',\"TotalBsmtSF', 'GrLivArea' e 'GarageCars'. Chegamos a conclusão que essas variáveis são obtidas pela combinação de variáveis dentro do próprio dataset.\n",
        "\n",
        "### Atributos qualitativos (categóricos)\n",
        "\n",
        "Neste ponto notamos que, de forma geral, as casas apresentam características e faixas de preço bem definidos. A grande maioria das casas pertence a faixa de preço de 100000 até 2000000.  \n",
        "\n",
        "Ao analisar os histogramas das variáveis categóricas, notamos que algumas características são tão bem definidas que possuem um valor dominante em relação aos outros, esse tipo de característica não adiciona nada as técnicas de machine learning. Sendo assim, removemos toda característica que tenha uma variância menor que 0.01, simplificando e reduzindo a dimensão do nosso conjunto de dados.\n",
        "\n",
        "## Preparação e seleção de características\n",
        "\n",
        "Observando as informações presentes dentro do dataset, concluímos que há 18 características com valores nulos. O tratamento de valores nulos varia de característica para característica. Em sua grande maioria, a moda foi aplicada para variáveis categóricas e a média para variáveis numéricas. As exceções são:\n",
        "\n",
        "* ‘PoolQC’, ‘Fence’, ‘MiscFeature’, ‘FireplaceQu’ e ‘Alley’: Variáveis com muitos valores faltantes, não adicionam nada ao estudo então devem ser excluídas.\n",
        "\n",
        "* 'MasVnrType' e 'MasVnrArea': Como a moda de ‘MasVnrType’ é ‘None’, a variável ‘MasVnrArea’ deve ser preenchida com zeros. \n",
        "\n",
        "Por estarmos lidando com um problema de regressão, as variáveis categóricas precisam ser tratadas. O desempenho para sistemas lineares é melhor para variáveis categóricas discretizadas, ou seja, uma coluna binária para cada valor presente na variável. Após este tratamento, o dataset ajustado para a modelagem tem 218 colunas (teria 305 colunas sem todo o tratamento)  \n",
        "Para tentar diminuir a complexidade do modelo, aplicamos a função SelectKBest() com o estimador f_classif para selecionar as características mais importantes e tentarmos reduzir pela metade o número de variáveis. \n",
        "Após isso, os dados foram normalizados de 0 até 1 para que não tenhamos problemas com suas grandezas.\n",
        "## Decisão de modelos e modelagem\n",
        "Existem diversos modelos de regressão, e devido a complexidade do modelo, optamos por não utilizar a regressão linear. Utilizamos os modelos de regressão múltipla e outros baseados em árvores utilizando boosting e ensemble. Os modelos testados foram: Ridge, Lasso, SGDRegressor, ElasticNet, GradientBoostingRegressor, DecisionTreeRegressor e RandomForestRegressor com corss_validate() para termos desempenhos com diversas amostras do conjunto de dados.  \n",
        "A conclusão foi que o modelo mais adequado para o problema é o GradientBoostingRegressor .  \n",
        "## Resultados\n",
        "Ao definir o modelo, fizemos uma execução com suas características padrão e tivemos as seguintes métricas: \n",
        "\n",
        "* R2: 0.8827359292397841\n",
        "* MAE: 17214.709590862825\n",
        "* RMSE: 26745.641285656577\n",
        "* Erro máximo: 211711.6687465537\n",
        "\n",
        "Com a função GridSearchCV() fizemos o ajuste fino dos hiper parâmetros da do modelo GradientBoostingRegressor() aumentamos o desempenho do modelo nas seguintes métricas:\n",
        "\n",
        "* R2: 0.8799534912830984\n",
        "* MAE: 17662.214838909164\n",
        "* RMSE: 27061.090853708774\n",
        "* Erro máximo: 172567.76408412977\n",
        "\n",
        "Apesar da diminuição de outras métricas, o erro máximo se torna muito mais aceitável no segundo modelo."
      ],
      "metadata": {
        "id": "niIgCDKa7PtU"
      }
    }
  ]
}