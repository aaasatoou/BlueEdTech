{
  "nbformat": 4,
  "nbformat_minor": 0,
  "metadata": {
    "colab": {
      "name": "M3Aula_13.ipynb",
      "provenance": []
    },
    "kernelspec": {
      "name": "python3",
      "display_name": "Python 3"
    },
    "language_info": {
      "name": "python"
    }
  },
  "cells": [
    {
      "cell_type": "code",
      "execution_count": null,
      "metadata": {
        "colab": {
          "base_uri": "https://localhost:8080/",
          "height": 310
        },
        "id": "6UeetfGvzXYO",
        "outputId": "a470a32a-74a8-4265-887c-1443bc88a446"
      },
      "outputs": [
        {
          "output_type": "stream",
          "name": "stdout",
          "text": [
            "\u001b[38;5;2m✔ Download and installation successful\u001b[0m\n",
            "You can now load the model via spacy.load('pt_core_news_sm')\n",
            "\u001b[38;5;2m✔ Linking successful\u001b[0m\n",
            "/usr/local/lib/python3.7/dist-packages/pt_core_news_sm -->\n",
            "/usr/local/lib/python3.7/dist-packages/spacy/data/pt\n",
            "You can now load the model via spacy.load('pt')\n"
          ]
        },
        {
          "output_type": "execute_result",
          "data": {
            "text/plain": [
              "   id                                            text_en  \\\n",
              "0   1  Once again Mr. Costner has dragged out a movie...   \n",
              "1   2  This is an example of why the majority of acti...   \n",
              "2   3  First of all I hate those moronic rappers, who...   \n",
              "3   4  Not even the Beatles could write songs everyon...   \n",
              "4   5  Brass pictures movies is not a fitting word fo...   \n",
              "\n",
              "                                             text_pt sentiment  \n",
              "0  Mais uma vez, o Sr. Costner arrumou um filme p...       neg  \n",
              "1  Este é um exemplo do motivo pelo qual a maiori...       neg  \n",
              "2  Primeiro de tudo eu odeio esses raps imbecis, ...       neg  \n",
              "3  Nem mesmo os Beatles puderam escrever músicas ...       neg  \n",
              "4  Filmes de fotos de latão não é uma palavra apr...       neg  "
            ],
            "text/html": [
              "\n",
              "  <div id=\"df-fe806b44-f600-4132-9856-335e7f2ffd89\">\n",
              "    <div class=\"colab-df-container\">\n",
              "      <div>\n",
              "<style scoped>\n",
              "    .dataframe tbody tr th:only-of-type {\n",
              "        vertical-align: middle;\n",
              "    }\n",
              "\n",
              "    .dataframe tbody tr th {\n",
              "        vertical-align: top;\n",
              "    }\n",
              "\n",
              "    .dataframe thead th {\n",
              "        text-align: right;\n",
              "    }\n",
              "</style>\n",
              "<table border=\"1\" class=\"dataframe\">\n",
              "  <thead>\n",
              "    <tr style=\"text-align: right;\">\n",
              "      <th></th>\n",
              "      <th>id</th>\n",
              "      <th>text_en</th>\n",
              "      <th>text_pt</th>\n",
              "      <th>sentiment</th>\n",
              "    </tr>\n",
              "  </thead>\n",
              "  <tbody>\n",
              "    <tr>\n",
              "      <th>0</th>\n",
              "      <td>1</td>\n",
              "      <td>Once again Mr. Costner has dragged out a movie...</td>\n",
              "      <td>Mais uma vez, o Sr. Costner arrumou um filme p...</td>\n",
              "      <td>neg</td>\n",
              "    </tr>\n",
              "    <tr>\n",
              "      <th>1</th>\n",
              "      <td>2</td>\n",
              "      <td>This is an example of why the majority of acti...</td>\n",
              "      <td>Este é um exemplo do motivo pelo qual a maiori...</td>\n",
              "      <td>neg</td>\n",
              "    </tr>\n",
              "    <tr>\n",
              "      <th>2</th>\n",
              "      <td>3</td>\n",
              "      <td>First of all I hate those moronic rappers, who...</td>\n",
              "      <td>Primeiro de tudo eu odeio esses raps imbecis, ...</td>\n",
              "      <td>neg</td>\n",
              "    </tr>\n",
              "    <tr>\n",
              "      <th>3</th>\n",
              "      <td>4</td>\n",
              "      <td>Not even the Beatles could write songs everyon...</td>\n",
              "      <td>Nem mesmo os Beatles puderam escrever músicas ...</td>\n",
              "      <td>neg</td>\n",
              "    </tr>\n",
              "    <tr>\n",
              "      <th>4</th>\n",
              "      <td>5</td>\n",
              "      <td>Brass pictures movies is not a fitting word fo...</td>\n",
              "      <td>Filmes de fotos de latão não é uma palavra apr...</td>\n",
              "      <td>neg</td>\n",
              "    </tr>\n",
              "  </tbody>\n",
              "</table>\n",
              "</div>\n",
              "      <button class=\"colab-df-convert\" onclick=\"convertToInteractive('df-fe806b44-f600-4132-9856-335e7f2ffd89')\"\n",
              "              title=\"Convert this dataframe to an interactive table.\"\n",
              "              style=\"display:none;\">\n",
              "        \n",
              "  <svg xmlns=\"http://www.w3.org/2000/svg\" height=\"24px\"viewBox=\"0 0 24 24\"\n",
              "       width=\"24px\">\n",
              "    <path d=\"M0 0h24v24H0V0z\" fill=\"none\"/>\n",
              "    <path d=\"M18.56 5.44l.94 2.06.94-2.06 2.06-.94-2.06-.94-.94-2.06-.94 2.06-2.06.94zm-11 1L8.5 8.5l.94-2.06 2.06-.94-2.06-.94L8.5 2.5l-.94 2.06-2.06.94zm10 10l.94 2.06.94-2.06 2.06-.94-2.06-.94-.94-2.06-.94 2.06-2.06.94z\"/><path d=\"M17.41 7.96l-1.37-1.37c-.4-.4-.92-.59-1.43-.59-.52 0-1.04.2-1.43.59L10.3 9.45l-7.72 7.72c-.78.78-.78 2.05 0 2.83L4 21.41c.39.39.9.59 1.41.59.51 0 1.02-.2 1.41-.59l7.78-7.78 2.81-2.81c.8-.78.8-2.07 0-2.86zM5.41 20L4 18.59l7.72-7.72 1.47 1.35L5.41 20z\"/>\n",
              "  </svg>\n",
              "      </button>\n",
              "      \n",
              "  <style>\n",
              "    .colab-df-container {\n",
              "      display:flex;\n",
              "      flex-wrap:wrap;\n",
              "      gap: 12px;\n",
              "    }\n",
              "\n",
              "    .colab-df-convert {\n",
              "      background-color: #E8F0FE;\n",
              "      border: none;\n",
              "      border-radius: 50%;\n",
              "      cursor: pointer;\n",
              "      display: none;\n",
              "      fill: #1967D2;\n",
              "      height: 32px;\n",
              "      padding: 0 0 0 0;\n",
              "      width: 32px;\n",
              "    }\n",
              "\n",
              "    .colab-df-convert:hover {\n",
              "      background-color: #E2EBFA;\n",
              "      box-shadow: 0px 1px 2px rgba(60, 64, 67, 0.3), 0px 1px 3px 1px rgba(60, 64, 67, 0.15);\n",
              "      fill: #174EA6;\n",
              "    }\n",
              "\n",
              "    [theme=dark] .colab-df-convert {\n",
              "      background-color: #3B4455;\n",
              "      fill: #D2E3FC;\n",
              "    }\n",
              "\n",
              "    [theme=dark] .colab-df-convert:hover {\n",
              "      background-color: #434B5C;\n",
              "      box-shadow: 0px 1px 3px 1px rgba(0, 0, 0, 0.15);\n",
              "      filter: drop-shadow(0px 1px 2px rgba(0, 0, 0, 0.3));\n",
              "      fill: #FFFFFF;\n",
              "    }\n",
              "  </style>\n",
              "\n",
              "      <script>\n",
              "        const buttonEl =\n",
              "          document.querySelector('#df-fe806b44-f600-4132-9856-335e7f2ffd89 button.colab-df-convert');\n",
              "        buttonEl.style.display =\n",
              "          google.colab.kernel.accessAllowed ? 'block' : 'none';\n",
              "\n",
              "        async function convertToInteractive(key) {\n",
              "          const element = document.querySelector('#df-fe806b44-f600-4132-9856-335e7f2ffd89');\n",
              "          const dataTable =\n",
              "            await google.colab.kernel.invokeFunction('convertToInteractive',\n",
              "                                                     [key], {});\n",
              "          if (!dataTable) return;\n",
              "\n",
              "          const docLinkHtml = 'Like what you see? Visit the ' +\n",
              "            '<a target=\"_blank\" href=https://colab.research.google.com/notebooks/data_table.ipynb>data table notebook</a>'\n",
              "            + ' to learn more about interactive tables.';\n",
              "          element.innerHTML = '';\n",
              "          dataTable['output_type'] = 'display_data';\n",
              "          await google.colab.output.renderOutput(dataTable, element);\n",
              "          const docLink = document.createElement('div');\n",
              "          docLink.innerHTML = docLinkHtml;\n",
              "          element.appendChild(docLink);\n",
              "        }\n",
              "      </script>\n",
              "    </div>\n",
              "  </div>\n",
              "  "
            ]
          },
          "metadata": {},
          "execution_count": 1
        }
      ],
      "source": [
        "import numpy as np\n",
        "import pandas as pd\n",
        "\n",
        "import spacy\n",
        "\n",
        "from sklearn.model_selection import train_test_split\n",
        "from sklearn.feature_extraction.text import CountVectorizer\n",
        "from sklearn.metrics import accuracy_score, precision_score, recall_score\n",
        "from sklearn.base import TransformerMixin \n",
        "from sklearn.pipeline import Pipeline\n",
        "from sklearn.svm import SVC\n",
        "\n",
        "spacy.cli.download(\"pt_core_news_sm\")\n",
        "\n",
        "imdb = pd.read_csv('/content/imdb-reviews-pt-br.csv')\n",
        "imdb.head()"
      ]
    },
    {
      "cell_type": "code",
      "source": [
        "nlp = spacy.load('pt_core_news_sm')\n",
        "\n",
        "texto = imdb.text_pt[0]\n",
        "\n",
        "print('--------------')\n",
        "print('Texto original')\n",
        "print(texto)\n",
        "\n",
        "doc = nlp(texto)\n",
        "tokens_filtrado = [token for token in doc if ((not token.is_stop) & (not token.is_punct))]\n",
        "\n",
        "print('--------------')\n",
        "print('Remoção de stopwords e pontuação')\n",
        "print(tokens_filtrado)\n",
        "\n",
        "lemmas = [token.lemma_.lower().strip() for token in tokens_filtrado]\n",
        "\n",
        "print('--------------')\n",
        "print('Lemmatization')\n",
        "print(lemmas)"
      ],
      "metadata": {
        "colab": {
          "base_uri": "https://localhost:8080/"
        },
        "id": "zbIXwRL3zZ9h",
        "outputId": "57595b59-904e-44dd-f160-ce54e0a8a2b3"
      },
      "execution_count": null,
      "outputs": [
        {
          "output_type": "stream",
          "name": "stdout",
          "text": [
            "--------------\n",
            "Texto original\n",
            "Mais uma vez, o Sr. Costner arrumou um filme por muito mais tempo do que o necessário. Além das terríveis seqüências de resgate no mar, das quais há muito poucas, eu simplesmente não me importei com nenhum dos personagens. A maioria de nós tem fantasmas no armário, e o personagem Costers é realizado logo no início, e depois esquecido até muito mais tarde, quando eu não me importava. O personagem com o qual deveríamos nos importar é muito arrogante e superconfiante, Ashton Kutcher. O problema é que ele sai como um garoto que pensa que é melhor do que qualquer outra pessoa ao seu redor e não mostra sinais de um armário desordenado. Seu único obstáculo parece estar vencendo Costner. Finalmente, quando estamos bem além do meio do caminho, Costner nos conta sobre os fantasmas dos Kutchers. Somos informados de por que Kutcher é levado a ser o melhor sem pressentimentos ou presságios anteriores. Nenhuma mágica aqui, era tudo que eu podia fazer para não desligar uma hora.\n",
            "--------------\n",
            "Remoção de stopwords e pontuação\n",
            "[o, Sr., Costner, arrumou, filme, o, necessário, terríveis, seqüências, resgate, mar, há, poucas, simplesmente, importei, nenhum, personagens, A, fantasmas, armário, e, o, personagem, Costers, realizado, início, e, esquecido, importava, O, personagem, o, deveríamos, importar, arrogante, e, superconfiante, Ashton, Kutcher, O, problema, sai, garoto, pensa, melhor, pessoa, a, o, redor, e, mostra, sinais, armário, desordenado, único, obstáculo, vencendo, Costner, Finalmente, estamos, Costner, conta, fantasmas, Kutchers, informados, Kutcher, levado, a, o, melhor, pressentimentos, presságios, anteriores, mágica, desligar, hora]\n",
            "--------------\n",
            "Lemmatization\n",
            "['o', 'sr.', 'costner', 'arrumar', 'filmar', 'o', 'necessário', 'terrível', 'seqüências', 'resgatar', 'mar', 'haver', 'pouco', 'simplesmente', 'importar', 'nenhum', 'personagem', 'a', 'fantasma', 'armário', 'e', 'o', 'personagem', 'costers', 'realizar', 'início', 'e', 'esquecer', 'importar', 'o', 'personagem', 'o', 'dever', 'importar', 'arrogante', 'e', 'superconfiante', 'ashton', 'kutcher', 'o', 'problema', 'sair', 'garotar', 'pensar', 'melhor', 'pessoa', 'o', 'o', 'redor', 'e', 'mostrar', 'sinal', 'armário', 'desordenar', 'único', 'obstáculo', 'vencer', 'costner', 'finalmente', 'estar', 'costner', 'contar', 'fantasma', 'kutchers', 'informar', 'kutcher', 'levar', 'o', 'o', 'melhor', 'pressentimento', 'presságio', 'anterior', 'mágico', 'desligar', 'horar']\n"
          ]
        }
      ]
    },
    {
      "cell_type": "code",
      "source": [
        "# Criamos uma classe para gerenciar X e y\n",
        "class predictors(TransformerMixin):\n",
        "    def transform(self, X, **transform_params):\n",
        "        return [clean_text(text) for text in X]\n",
        "    def fit(self, X, y=None, **fit_params):\n",
        "        return self\n",
        "    def get_params(self, deep=True):\n",
        "        return {}\n",
        "\n",
        "# Esta funcao remove espacos em branco no inicio e\n",
        "# no fim do texto e converte todo o texto em letras\n",
        "# minusculas\n",
        "def clean_text(texto):     \n",
        "    return texto.strip().lower()\n",
        "\n",
        "# Esta funcao remove todas as stopwords e pontuacoes\n",
        "def tokenizer(texto):\n",
        "    doc = nlp(texto)\n",
        "    tokens = [token for token in doc if ((not token.is_stop) & (not token.is_punct))]\n",
        "    tokens = [token.lemma_.lower().strip() for token in tokens]\n",
        "    return tokens\n",
        "\n",
        "# Criamos um objeto CountVectorizer para vetorizar cada\n",
        "# texto\n",
        "vectorizer = CountVectorizer(tokenizer = tokenizer, ngram_range=(1,1)) \n",
        "\n",
        "# Criamos um modelo SVM\n",
        "classifier = SVC()"
      ],
      "metadata": {
        "id": "q30l4UhjzcJl"
      },
      "execution_count": null,
      "outputs": []
    },
    {
      "cell_type": "code",
      "source": [
        "# Separando em X e y\n",
        "X = imdb.text_pt\n",
        "y = imdb.sentiment\n",
        "\n",
        "# Separando em teste e treino\n",
        "X_train, X_test, y_train, y_test = train_test_split(X, y, test_size=0.2, random_state=10)\n",
        "\n",
        "# Construindo uma pipeline\n",
        "pipe = Pipeline([(\"cleaner\", predictors()),\n",
        "                 ('vectorizer', vectorizer),\n",
        "                 ('classifier', classifier)])\n",
        "\n",
        "pipe.fit(X_train,y_train)\n",
        "\n",
        "y_pred = pipe.predict(X_test)\n",
        "\n",
        "print(round(accuracy_score(y_test, y_pred), 3))\n",
        "print(round(precision_score(y_test, y_pred, average='macro'), 3))\n",
        "print(round(recall_score(y_test, y_pred, average='macro'), 3))"
      ],
      "metadata": {
        "colab": {
          "base_uri": "https://localhost:8080/"
        },
        "id": "ufh79YZnzioH",
        "outputId": "10a91ca0-8970-4e01-a756-a1294f4f65d1"
      },
      "execution_count": null,
      "outputs": [
        {
          "output_type": "stream",
          "name": "stdout",
          "text": [
            "0.876\n",
            "0.877\n",
            "0.877\n"
          ]
        }
      ]
    },
    {
      "cell_type": "markdown",
      "source": [
        "![image.png](data:image/png;base64,iVBORw0KGgoAAAANSUhEUgAAAvQAAADLCAYAAAABbwdHAAAAAXNSR0IArs4c6QAAAARnQU1BAACxjwv8YQUAAAAJcEhZcwAADsMAAA7DAcdvqGQAAGtCSURBVHhe7Z0FvFTFF8cP3Z3SnYpKi4R0dysIqOBfVBQVpURKaenuULqkQRQREaRDuru7a//zO2/vsm/f7nv3Le+pq78vn/3w7t25c2fOnJk5M3NmNorDIIQQQgghhJCAJKrzf0IIIYQQQkgAQoOeEEIIIYSQAIYGPSGEEEIIIQEMDXpCCCGEEEICGBr0hBBCCCGEBDA06AkhhBBCCAlgaNATQgghhBASwNCgJ4QQQgghJIChQU8IIYQQQkgAQ4OeEEIIIYSQAIYGPSGEEEIIIQEMDXpCCCGEEEICGBr0hBBCCCGEBDA06AkhhBBCCAlgaNATQgghhBASwERxGJx/Ez948OCBLFyyQs6cO6/XJYoVkfwvvqB/+8OVq9fkwKHDkj5tWknzXCqJEiWK8xtCCCGEEEJC4pdBf+r0GTl+8rTzKmxy58gmSZMmcV79u/hz7375tFM3uXXrthQpmF+6d24n8eLGdX4bPk6cOi1t238l5y9clNixYsnXXdpLkUL5nd8SQgghhBASEr8M+tkLFsvgEWOdV2Ez4Juuxth92Xn17+Hx48fSb/BIWbx8lSRKlFAG9uoqObJldX4bfjZu3iafduzqvBL5qHVLqV+rmvOKEEIIIYSQkNCH/hk4ePiorFm3Xv9u/noDyZ41i/7tL9myZJK8uXPq36lSppCCL+fTvwkhhBBCCPHFM8/Qx4wZU0oVLyqJEyXSa29Ur1xesmTK6Lz693D33j25e/eeRI0aReLHiyfRo0d3fuM/jx49klu3b6vbTowYMZx3CSGEEEII8c4zG/RwNRncp7tky5JZr/8KHj58KDdv3da/o0ePJgnixw/X5lHLEI8VK2YIf3eI4+atW8awfqzXceLEljixY+vf/vLkiYnz5k15/OSJXieIH++ZjXUrDyA8MnB/LiIHIoQQQggh5O/hLzXojx4/IZ916q6bPsHr9WvLe+80cxmix0+eko8+/1IuXb6i161aNJGmjeq5vj995pyMHD9Z1v2+0WVwg9SpUkjzNxpKpXKlgxmnh44clY++6CLXr9/Q6749OsuJk6dl1IQp+nytapXkszbv6Xcwun9dv0GGjh4v584HpQ9EjRpV8j2fR1q3bCZ5cuZw3g06jebDzzppmoE3f3ecgLNo2SqZMHW6XL9x03k3yAAv/koRee/tZpI2TWrn3ZDp9bb3YM/+AzJi7GTZuXuPSXPQAAFABs1ebygVy5bSVRN3UMS7/twrg0aM0xN03MHm27om3c0a15e4ceM47xJCCCGEkEDhL/Whz5wxgzSqV8t5JbJk5Wo5fPSY/o0NpvN/WOYy5jFAqFy+jMuY37R1u7T6qJ2s+XV9MGMewADv/e0w+XbYGLl3/77zbki2bNsp4yZ/H+J5PNN/yEjp1L13MGMewGjevnO3tPmss/z0yzrn3bC5eu26dOjaSwYOHxPMmAd4P/Lx/qcdZNeefc67oQOj/Mc1v2o6kB53Yx4g3X0GDpPufQbK7Tt3nHeDnpu7cIl8YAYfnsY8QN6/mzlX2nb4Si5fueq8SwghhBBCAoVnN+iNwXjj5i2dsfb2cTcuQYXSJSVPzuz6N2aiFy/7UY35fQcOyfLVP+t9zIo3e72+pEieTK8vXLwkQ0eNd81cJ0qYQBrWqSGd2n0kxYoU1PAAp80sNYMEX8xfvFwNWMxKJ0+WVO/B4F20dKX8sHSFXgMcsYnZewwo4sULcsnBc8PHTtKjJcMCfvATps6QjZu3Ou+IZEyfTurWrCplShXXGXqAwcvQkeNc+QqNg4eP6ODAGrAgXUgf4kTcFhgoTJsxV/MFILu5PyxxDQAypEsrndt9LH26d5Z6taq50oLjN5ev+kn/JoQQQgghgcMzG/SYfW7TrrPUaNjM62fkuMnOkEHARadx/douIxxGPGap8eNMOMsdwM2kaOEC+jdY9dMvcuTYCf0bhvjA3t3lw/+9rQYtDNMP331Lv4PRigHCtevX9dqTqFGiSJf2n8jKhTNlwfSJ6m4Dg3feoqXOECLZs2aWccMG6HcYMAzt11PTDOAqhKMlw+LQkWOy6udfnFcirxYtJGOG9pO277eS7p3aSY/OX7jcYvYdPKyDmdDAgGfeD8tchn/8+PGkX48vNX2IE3HjDHyLZcYwtwYe+M2A02fO6d/gAyOrSuVLa5o+eu8dafFGIzXyX8iTS2KZgc5DMxghhBBCCCGBw1/qcmMBY7J0iWL6N4z4br0GuNxZYKzCH97aiIpNnNt3/al/g4rlSkuObE+Ph4RLDn6dNc1zQb7oMGDPnA361VZP6tSoIuVLl9TNoBbHjp8MZvC++XoDSelcGQBwEypT8lU1evG5du2a8xvfYIBiDU7ixokjzUyc7ptvX8qXVwoXeEnjS5fmObl8NXRXl2vGkN+x+6kMir9S2HW8JUDcNatWdA2SMPO/Z98B/TuOeT9WJCzgfnP2/AWdwYfsmr3RQL6fMEJGDuqjM/YxuEGWEEIIISSgeGaDHkYkNmRaBq/nB+4xnmB2ukGdGmq8g4uXLrtcSSqVLS25cmTTvwFOZHE30Jeu+FFef6t1sM9HX3wpFy4G+b7fuXvXdQKOJ7lz5XD55FucMAMAyx0FM/Hp0z6nf1vgNJpPP/yfGr34tGzexPmNb46fOOn8S9RtKHWqlM6rIHAiTe9unVxxVqlQ1vmNd66aQQTcmixyZs8m0aIFucpYpE+XRhI7VxLAsRNBm3UzZkgnuZ0uTgBuQPWbtpTyNRpKqzbtZOykaepbj03BhBBCCCEk8Hhmgz5BguDGqefHlwGMTa8v53veeRUEjogsW7pECGPVHWw2hTuJ+wcz7O4bXS13E08wW/5vJVHChDpQsLh9O2hQg9n7dh+9F+IXbDGAwiz+5O9ny1utP5FPOnJTLCGEEEJIIPK3uNwAnNSyact251UQmI3HBlVsKvVFjSoV1G8+tM8rhZ76k/8b8TzhBly/cUPPz7eIFy9o9QOkS5tG9wVMGjVI/vfWm1LgpXyuzb4Wm7fukCEjx+lRm4QQQgghJHD4Wwx6GJ5TZ851udnALcXy88bRjH+4GfrwpU+VMoXzSiRatOh6sg388H19YMDaJYMJa/meY9Op5wZV/IjVgKGjXO49cFEJi4wZ0jv/EvVXP+bmggOQ//Zffe2KM7STeUCSxIklYYKns+84g97T8D556oz62ltkyvD05BuAfQNYFWnSqK4M7ttDls/7XqaMGSJZMmVwhgjy/ccmYUIIIYQQEjj8LQb98h/X6Aw9gN96r64dpbLTjxyG6qRpM1wnusANp8BLL+jfAD/+dPDwUedVEDhysWr9ptKw+bvS/H8fy979B53fhE2mjOmD/bgTNo1euHTZeSUa16qf17rcexIb4zoscGKMtT8A+Zk5d6Hr+E5sRsVJOes3btb4Tp05K8mSJNHvfAHf+Befz+u8Etm4aats3rbDeSUaN04JsmbucRJQnlxBP4KFE3wwaKhYu7HUatzC9UNY2EuQJVNGKVuqhF4TQgghhJDA5JkNehjeMKKLV6jp8+N+1COM2BlzFjivRM+Tz5k9q9SvXc01E7/HGNErf/rFdZZ6mddKuIxunODyYbtOMnjkOJ3N7zd4hHzSsaumA770MKTTeWxsDY2UKZJLnepVnFc47/2otPjfR9JrwBDp+k1/+aRDV9eJNUif5y+3eiNblkxSvnQp55XIbxs2SbN32+iPV33+ZQ/p2Xegy/jOZfLuvgnYG9hTUKdGZdfxmVjZ6NKzn6YPcSJu9zPvcZwnNiSD7Fmz6Kz77dt3VHYdu/aSH5au1DThSNGpM+ZoOIDNs5AHIYQQQggJHP7SGXr4xs+ev1jPcwfuvwabPm0aPXrRYsbchXLy9Bn9+7lUKfVceMughXE6e/4iNWgxM41rgJnpNv97O9jm0LDAu6tXqSA1qjx9N87WX7JitQ4YLLcguAR9+uG7LkM5NKJHjy5vNW0U7Gx4/JLrgsXL5fc/trg28CK9n33U2pWv0IBhjjPnLdckpAvpQ5zuv277Woli6lZjneaDH/F6vUEdl1sRZuj7DhouX3TpKd/NmufKHwYrLZo0dJ2PTwghhBBCAoO/1KDfvWefLHP6i8PAbFCnuuvXYGGAwriHkQ9g9OMXT60NsoXyvyRjBvdTg9X6dVMLGLlVK5bVjZ/uZ9TbBc9jwPB1l/Z6BKc7SOdL+Z6XIf17SrEihZx3wyZJ4kTSq2sHNcI9j+5E+pGP4QN62U4v5FPutRIyceQgKfByPpeBboF0f9H2A+nyRdtgZ95jdh/n+iNvWTNndN59CvKOX5sdPbivS/aEEEIIISRwiOKw/FoCCBj5t27f1rPTsdkzfrx4OiseUcAn/f79oE2n8OG3fuTKXyBibIS1ZuYTxI+n59s/C9isa523jwECViWsWfnQwA914TQhEM0MChIkSKAyJIQQQgghgUlAGvSEEEIIIYSQIP5SlxtCCCGEEEJIxEKDnhBCCCGEkACGBj0hhBBCCCEBDA16QgghhBBCAhga9IQQQgghhAQwNOgJIYQQQggJYGjQE0IIIYQQEsDQoCeEEEIIISSAoUFPCCGEEEJIAEODnhBCCCGEkACGBj0hhBBCCCEBDA16QgghhBBCAhga9IQQQgghhAQwNOgJIYQQQggJYGjQE0IIIYQQEsDQoCeEEEIIISSAoUFPCCGEEEJIAEODnhBCCCGEkACGBj0hhBBCCCEBDA16QgghhBBCAhga9IQQQgghhAQwNOgJIYQQQggJYGjQE0IIIYQQEsDQoCeEEEIIISSAoUFPCCGEEEJIAEODnhBCCCGEkACGBj0hhBBCCCEBDA16QgghhBBCAhga9IQQQgghhAQwNOgJIYQQQggJYGjQE0IIIYQQEsDQoCeEEEIIISSAoUFPCCGEEEJIAEODnhBCCCGEkACGBj0hhBBCCCEBDA16QgghhBBCAhga9IQQQgghhAQwNOgJeUYcDocsX/WzzJr3g9y//8B5lxBCCCHkryFaV4Pz7wjlyROH/P7HZpm3aJmkTJFMkiRO7PwmfBw5dlymTJ8jGzdvDfE5feasZM+aWaJFi+YM/d/j9Jlz8u5H7eTGjVvy8ovPO++Sv5KTp8/IgKGjpGLZ1yRjhnTOu95heT07t+/cke9mzpNECRP43a6Qvwe05wsWr5Ac2bJIzBgxZMLUGdJ38HB5pVBBSZggvjPU3wv6rs3bdsiIsZNk/OTvZe1vG1TX0qZJI1GiRHGGCpuHDx+avC6XU6afypo5k/Mu8Zctpkx+/2OL9vl37t6VTzt0lW07d8srhQv8p20AO1i6eNfILc1zqf3uh9D2Dhk5TuPKnjWLnL94Sfu+wgVeklixYjlDRRye7QUJnUiZob90+Yr07DtQOvfoK3MXLpGLl644vwk/eHbhkhVy7fp15x3iTpw4sSVblsySJnUq5x0SkRw7cUo+MR0H/vcGZucXL1slxYoUlIL5X3Te9Q3L69nBKsiPP699pnaF/D2gzFB21koW6gHqA+qFXcZOmqafyODRo0cydPR403f1kZQpkkvLFk0kS+aM0q33t9L726Fy9949Z8iwefT4sWzYtEV27t7jvPP3sH3Xn9qGXb9+w3knMDly/KTKE3KNHj26ZM6UUTKkTytRo9ozY+7dvy+9BgyVpStXO+/8d7B0ETIE/vZDS1f+pAPUUq++Il99008HBYWMMZ8gfuQMxj3bCxI6EW7Qo9H4/Mse+vc3X7WXBBEw6wLle6NBHfnovXeCferWrCox/uOjtqRJEkuPzp9LpfKlnXdIRPLo0UM5d/6C/u+L/73dTD549y1bs0QsL0KegnqA+oB6YZfrN27qJzLYvXe/rPl1vQzt11P7mNIliun/uFbjfNffa5z7A4yh8xcuyuMnT5x3Ap84sWPLpx++K00b1bM9O4/JlytXr8rtO3edd/67+NsPValQRnp17ShVK5WTyaOHyJql86RO9SrhWrkikUeEu9w8NIYPlhcb1qkp9x/cl+U//iylir8i6dI85wwRPrA09Mtvv0tlo3hJkyRx3g3JgwcPdPTYZ+AwmTn3B3WDyJk9m1Z8i7PGMBszcZoMGz1BR31x48SR9OnS6Agfo/d+g0fKDdNRYJnnm/5D5MLFS1LgpXz67KEjR2XQiHEydtJ38tuGTZI8eVJ5LlVKVeQflq6U72fNk8IFXw62LLRl+075uu8gyW/iSBA/nq5cTPxuhr5//qJlcubcecmSKaPEjRvH+YR3Qks3BlAdu/WSVKlSSGqTHus6WdIksnXHLun97TBd4UCjh3e5z2aEFq+FZ5go5l+mDOnCbEQjIm7MLPUdNEJyZM8ioydM1SXwg4ePSt7cOeXKlWvSf8hILY/de/dJnpw5JF68uPocwEwbOua+g4abspmvM+yZM2XQcgB25ISZnH6DR6gerN+4yXToW6VoofwSO3Ysl0vZgCGjZNqMOSGW5X3pUzZTN9zLy8Jdv3wt8Z88FeTagzCQFxrldGlDdwOwUw7esFPu0Ocxk6bJkJHjZcmKH73qmCeQC+SMssPq3aXLV3UJ3X251jOMZz3BLOkyU9eLmLKw2hXP8j5w6IhJb3qVozvuMtyxe49kSJdWdevmrVu6hOxZnyygC3MWLNHZKMwOAjt58UZYZWK9C7NnmBWeOG2mXL5yVfLmySkHDh/RWcbJ38+SM2fPSd5cOSVmzJj6nCd28oKZO0tPYfR16zVA84S2Fkvzy0xYq24gX1kyZXLpm1UH+ps6MHV6yDrgjdOmPYe7ZJUKZXWixlOuiHPd739Ib5NHlCPKKEe2rOqOY+Vng3kedQo6gDhQbgBlizZi5LjJqo83b97WWcjwTPps2rpD9h88LPVqVQu2apAkcRKpWrGspEmTWmKYdHrTB095Qyd/XvubxI8XTxIkSCA9en8r02bO1b4J6bL0OTLbOaxkQH8uXLoka9atl0OHj7nS7G9/FFo7ZOXFaieB1RZadQygv8a+o4HDRmu60QanSpFcUiRP5lN39uw7YPTnrJQu+ao8duqte5yh6Q7k0qnrN7J3/0ETz35dVc2aJZOWkz96DPyRn6U3mTOmlxFGT1HWsCfSp0+jeQe++g7YImGVt4VnO5fFhNmybafJ03OmzcjhtW2wEzfSNG3mnFDzbLct9sTdhkN7g/4kdqyYsmnLdld7AfyN/79AhBv0sUzngo4IFeHK1Wt/iUGPAkblWL3mV2lUt5a8UrSg7N6zX5WjRLEimiYUetv2XUzDnEjq16lu0phaRpnG86pJY4GX82kDgcoGo+34iZPaoOcyA4JUKVOoMfd5l56SL29uqVWtshrtWJaNbTq43Dmzm8YxmjbUL5jvrcqB+KbOmKuNb6Wyr8kl0yFj5eLixcvSqH5t884XTcOx0TSyv7vS6I2w0n333n2ZPX+RFDTxQcbwLcT1/oOH5MHDh1KtcnnToCVQAyJGjOiS7/k8tuKFceEtzLip09W4KOgM442Iivv4ydMyb9FSOXDwiOYPn5U//aJltHX7LilZrKi8+EJe+XX9Bq30JV8tqmUDfRhuGsrpcxZIvZrVpGTxorL/wCGZYOLP/+ILasTbkRMGg4kSJdK0Nq5fR0q9WkQbRKRt3g9LTIM5WsuueuUKWn4wJNKaDj9zxgxmYPvIqz5hxcq9vICnfllxoUOEfqEuIQ3tOneXXDmyaRg0xENHTZDnTF3D+7zhqxzQEYW3/DzL5sKly/JFl681rQiTI2tWrQMwtiE7bx0h/C9hMGKgi3pa0BgWP5uGeZHpXIu/UlgNW29hUE9goBUrWkjixY0bwqD3Vt6HjEE06buZrvIGyNenHbvqQBxpRv2dagZjx0+eUqMAHZ2lF+7lA7bv2qODLhgTMOh85eWHpStc6fSGnTLBu35au87o5hEp91oJyW4MPeRtnzFGdhiDqUrFcpI1c0aZa+rG2XMX1IfYW1nayQuAnu78c6/OeteoWtHI07Rd02erDO/evad1A+0Z/N1hGGCfCGY7w6oD3vA06N3TEt104IgTRi1WX3Hv8pUrWo6vFi2shlmqlMnNwOOSusM0e72B5MyWRRKajhxy/aTDVyr3hvVqal1buHS5ifuYT/l4A/mCrmFvBiaELD3G/6iPKHvgqQ/AU97QSxj0SAPKrqopt8JGZ2HAuetzZLZzMMbixI6jOt6y+RvqFpja9GnP0h+F1g4hLz/9sk4qlS/jMsCstjBlihRax6z+esa8hapb5cuUkmvGwBxt2t6XTD5Rtt5wN+iBe5yWPvrSnSSJEkoKoztHj59Qw7iukVc2U4dimzbeHz1G++eP/KA3aO8xcMxpBhvly5Y09e6Gvg91On26tD77DpRnWOUNvLdzc02aL0meXDm9tnOh6VKh/C/poM1Onu22xZ5YOjFn4RKdDEbbjoHVZiOne8bGsdoLf+P/z2AqQqRx8PARR5V6TRxGMZ13wg+eLV+joWPW/EUOM/oO9rl8+YqGMYaG4/W3Wgd7D+4ZhXCYzt9x//59R5eefR1mBO54+PChM4TDYTpHR5t2nR1mlOkwCu74rFM3xycdujpu3b7tDOFwXLt23dGqTTuHUX7HEzOUtzCNlqNxi/cc585f0PjNaNdhFNL5rUPv4/tf1v2u12aE7TCjTseNmzf1Ghw7cdLRqMX/HH/u3e+8Exw76fbMu3Xt/gzSPX7KdMf7n3Rw3Lx121a8Vp6+7jc4WBhjADtqNW7hMIaM805wIjJu5Kl01XrB3rXhjy2OstXqB7sH+TVo1spx5Nhxvd62Y5ej/putTHyH9RrgPXhfrwFDHaZRsCUnAB1GOeJ/CzyPdJjO1Xkn6NnhYyY6evQdqN/70ifP8rp67ZqjxXttHZO/nxVMv6C79Zq2VB0B0H/Eh3gtNm/d7jh89JjzKjhWOQwaMTaYjHfv2eeo2+Rtx979B513ghOeskE+kB8LhNm5e0+wfLhjjBhHs3c/cpy/cNF5J6h+tevcw7Hm1/V6vWjZSi1L6IkF5Ac5Qr6I21OGSFP1Bm9q3iyQdpQt8oI8Wfny1Es8Cx2DfIFn3Bae8kdeUG7nTb22QN1+/9OOjmkz5jjvBMdumeBdNRs1d5U98Hbvp7W/OZq2/EB1yBt28mLpqSUn4O0edBq6PXDYGNd1WHXAG5564y0tuGeBe9ANY/Q47zgc/QaP0I87R4+fdCxe/qMrvQBli3edddOlsEAeFi9b5ahQq5HKe8jIcY59Bw4FKy/gnm4LT3lb+fHUZ089QfjIaueAp8yBP/0R8JZv93bI27s8yxXX6D+N4anXwKqfk6bNdN4JSWi64nkNcM9dd7yF8VePn0V+JSrW0vxb4H1o/9E/oq2z0unZd9gpb0uO4W3nEHedN97WNtwCcfUZONzx/ax5em0nz3hPWG2xN/Ac+hfP9+MZd33yN/7/CvamLf5msAQ1c+4CMZUs2OfE6TP6PWZU48ePp8vDWM42+dIRJUaNGJ1ipQCzJGVfK+5aHgWYSRzct4eOZC3gNuM+u3b67DkzQrynM4jus47WzCnehyVvfI/ZE2vzLpZtMXP/fO6ceo3ltBpVKgg2jyB9plLIuXMXzP+3xBiPGsaT8KTbk/wvveB6BunE8u3Va9d1WctOvEFhjkrZUsHDYMbi+Ty5ZO26Dc47wYnouDEjlzH905NjkiVLojM47idixIwZQ6JFjaaziGDHrj3mfbl1xsMC73mlSEExHY/OrlqEJidfYCkQMwjWJljToMjFy1d0lglLmZjxt/DUJ0/OnD2vy8bYVOuuXy++kEcSJ0qoM3QAy4nGsJD1Gzfr+wBmSLDc6Q3I2DS2Ur50yWAyzpghvaROmVJnqrxht2ywxHrtxg1dFbPkieVtrFK558MCZYNldcjNfQYukclj3x6ddRUPYbBkX7hAfp1FtID8ypUuIfBhxmyWJ7t275Wc2bPq5kULpB06CJmhDmPJWvPloZdIcx5Tl8ODlZdSrxaVlM5lcoC6XciUyT5T960ycic8ZYJyTZn8qZzgGgQ5uG8+w4rG48dP1GXgWUH9tFx3sDKFlUmsIlj3gpa/Y8mjx49c13brgF0wQ492HDO8cDVAvpAW6AZWz0ID7mBwiUF68RzScNbULWMciTGKnKHCBroL/+A5U8fKW00baTuOjX91mrwjv67fqG13eMGMsLs+owzRN0HXrU22kd3OeeJPfwTC2w55A2WKGXS4pwHIAPXzlnnvxcuX9V548Vd3/NVjf+UHMPOP+mYBnXulcEGdQTeDT+fdkH2HnfL2t51D3Hly5Qi2IoG69PnHraVx/dp6bSfPdtpib2zcvE37F8/3lzNtpTv+xv9fISAMergp9O7WSb6fMCLYB8tz+r1RsC/avi8nTp2R+k1bSqU6r0uXr/upHxlAgw4FjO/me+gLz6VZKOrho8elnom3eIWarg+usYxp7b7Gcg82Th45dkIb3LXrN0jRQgUkiRlYADN6lsXLV0mTlh9Iqcp1pFr9N2Xg8DFy/959/d4b4Um3J+jsfWEnXoRB54GOxR34o6JRtzp2TyI67qhRooo3AzE00CnAPxNydi+zL3v0kTt37pqyCOoQQWhyCg24DkDHKtZuLKWr1pOmplx37P7T+e1Twlrqh35h+dzTnQyygEEPH2dQxnSAWEru1X+IlK3eQPUIriq+Bh6QMZbVW7VpF0wGlUx6YUjcuu29s7dbNhiotn6nuS51VqzVWOq/2UpdMiBfb6BjRAeZPFlS552QWGFwcoVnmUM+voxXlDcMUHTg7kAHsQyM+ohJAeTLUy+jRYsazFfaDlY6x07+Lphs8cE9TABY5eZOeMoE6ZLwqf0zYdclxR27dcAu0LEPWr2ldbL5/z6WCjUbStv2X8nuPfu0TQkNlC98xaGHJSvVkpqNm6s7lb+gT6lRpaIMG/CNLJ8/XZo2rCu9Bw6TP4zhEV4wYPPU5/Rp0+hgHi5NILLbOU/86Y9AeNshX+zZf0DLtpyJo3yNhvLBZ53kqBns+suz6I4/euyv/ABcXDz97DEBCS5fuab/A886aae8/W3nEDfad8jRF3bybKct9sZt0zZ6e79n/+xv/P8Vwt+K/0PBDMGEEd/Kqh9m6i5s+F193L6LMfJP6yj88ZPHptHxZ9Yoqs6cLJwxSdatXBjiU8SMogEMFfinbfhji/qa7d13UH0krUYaewlGjp8iTUzHsHj2FFm7fL6MGNhbldMXz5Lu0LATr68waByfhHJaQmTGbZfo0aLrTMKvKxaEKK/vxg93NZ7+glWYL3v21fSOHtRX1iydKytMp1+vVnVnCPtAv2Akh+gQTR8EA9YCsxDN32goKxfOlJmTR6uv56gJU9SI8dZhQcaJEyaUiSMHhZABPvVrVXOGDI7dsoFeY0Z08eyp8sPMyTqbCR3HhiZvnTvCo4O642MgAUILE1pDjfJGR+YZBmJxQJAGn3rpIWc7WOn88H9ve5Vtv55dQnQ4wN8y+ScSkXXAnWRJk8iAb76S1YtmydD+X2v7iCMXsXfAF0jDhCnTZdVPv0jb91tpH4DTN3p2+cJrOYQXrEzUqlZJJ21wDnp4OXnqtPOvp2Am0ZthEh6epZ3zpz8C4W2HvIGJsM7d+0imjOll6rhh5t0LZMH0iVKyWBFnCP/wR3f81WN/5Qcw+++5gnf1WpAhH1qZ2Slvf9s5X22oO3bybKct9oav5zyv/Y3/v8K/wqBH5cCObBgSaCDR8GLGHkuU2DSWInlySZEsmWzbEeS+YAF3GcwqYpnKF1BWGFxohNzBiPjylauuRgwVqULZUrJp63ZZt36jGvjWkiLAchCOQKtUrrRrCRBHaMFtwRfPku7QsBOvrzBwedh34LC6pngjMuO2S84cWTUeT/cMlFdoy9B2wQZGzMI2e72+dkro5KAHJ06G7LjDAptsATYyuYPlV5yGAR1C3HDXwPGZUaNGUbelhnVqyJuN6+vyKho4T9C5YRZo/8FDzjtBoI6gDHy5adgtGyy3YgUMxi06ksrly8jHrVua9BzzOvsPowgndMBVxb0MkB5szsKPxvgKg/xv37lbl1k9T3MAL+bLK3/u3a/l4g7yjhNG4LoAeaDeeeYLcsYSvQXaD9R5uMZY4P0X3eoa0pkpYwY9X9xz8AI99+ysLfwtE3+xkxd/icg6YIEZQMyW3rp1W2fq4NaIIyOxFH/Q6JUvoP9wV6pdo4q6rllG8uXLV3VVxC5IPzZHdureO0S5YlUGJ3zADQmkfS61nsftviIF1zlv7QtWbVFfLBA39Bl13zoJxh+epZ3zpz+CfMJqh9AWwNhCGizum/vuM8/nzl/UMsKRk4gDccHtBqcs+Yu/uuOvHvsjPwu065b3gAXigw2RLBSD3k55223nPPHWhkIOWBHABm1gJ8922mJvIG/e3o964o6/8f9X+EsNejRkPfoM1CUiy3fQFqZg4aeFxsT9g0YShX7m3Hk94WD+4uVasfHBSQq3jWGBZRwsx1SpWFZmzF2opw7geyyZjxo3WfbuPxDqWflodMuULC79B49U5UKni4Z72JgJ0uGrr7WRt8AJEGgQcBQVfjnN3f8NDRcMgGPOH3ZA44UTVW6afPniWdIdGnbidQ+DWSkr30gzKFwgaGXCk8iM2y7FChc0I/moMmj4WJUzdASNGU4XmTZjrl7bBcbbfaO3m7ft1HwgrViOBxv+2Ko6jTyuWL1GVq9Zq/fDAwwu6Neo8VNMo3RY04Y04yjIbFkyqb8gmDFngXTo+o0aEQBh1m/YZBrwpMGOSrVAg1u7emU99cEqB3S4kPn7n3Y08QTvUCzslg1OIPiwXSc9eQJpRhgcJYaBbKxY3k94KF3qVa2rmM1DeKRp8fIf5fvZ89WX3j0MygnptWS7ZOVqqVaxnNcl4fz5npcEpjFHGq0ywgBh/JTpUrlCGZUFPvjbPV+QIeTubrzBwILcp5s0wWcaq22Tvpslq34OXrZYncAgbMyk7zQv1jtbt20fIqyFv2XiL3bz4g8RWQcsYHxjtlTdloxcIFMc1QhjEUcaWsQzZY1OHUY8+hHoP+oBVkfR0Vv1HTPH7sCtqc4bb6u/rjcwOC1r9A97oVCu6GOwKnXaGIr9Bo3QSZ3izllk+EHDXWbMxKl6fOiuPfs0DPopT2AAzzRljDxZ5Y2+pFK51/Sd/mK3nUN9xAwwZqqtPtOf/giE1Q6lSJ7UDFrjyvCxE7V88MGxp6fPBoUH6JNhgOLXeFHGkMncBUtki3O/kD/Y0R342eNUG5SvNfD2V4/9lR+Iasp8wtQZ6i9vtRvjJn8vFcqUcrnoesNOedtt5zyx2lCctoPweA5HeY4YN8n0CUGTKHbybKct9gb6FZzGZD1nlcOvv290hgjC3/j/KzzdNfEXgOOYsNyEyocCswuOU2vTrrPz6ik4jqx75891wxiWWvsNGSlDR43X75KakWq7j1q7DKJK5cqYdz4W+EGi4gNshOn4aRudLfA1wECD26JJQzUkPuvUXRsLgE0mnT//yGWIgMSJEumZ8zBIsNHGnVqmI4eP/5vvtjFK+EQbtffeaaadRWiEmW6nD2Z4CSteYIXp2qu/Do7AS6ZC4QcpMBPgi8iM2w4ok55d2kufgcPVpxbyxgZlHH3VpFHdcHWiGNC91aSRDBk9Xub9sFSG9O2hR5PiR026mcEpjAa4X7xWopjUr11DzzgOD5Z+IX3YfAeZID4cVwiXDkte2JgEY+X1t1prfqww777VVGd2vAEZIyzOsbbKIXWqFNLhkw+1zvjCTtlgs9LJ02el9SftNSxAGMTtaxMw3vnNVx30V6RhGADU087tPhLrp/Hdw1g+0AjTvu0HuknMG1Z5fzNgiFSt31Tv4bjYVs2bSI3KFfQa4G8sRWNCAfUYYd5583W9Z4HyaFi3pp73DsMF5VKramU1xHf9udcZ6mk6cSa8lRcM/qBf6Jh94W+Z+IPdvPgDBqIRVQcs0H62/aCV9B88Qn2rgVWOmHm3aFC7us7INW35obRs9oY0e6OBHsnYw+hMrcYtNAz8lDED/N2seXoNYHjoZsdQZlFxPCRcdXDGtVWuAO19jy+/cG1IRFnh3WgXlqxYre9r1aKJXDWGhSdIL+puhZqNtOxVn015YxPis2C3ncN+F7iQdOs9wPydS3p37+xXf4T4wmqHUIbvt2ymeoHyQbzYa/Pw4dP+Hn0yZIdz0rv3/lbT3MDoDTaL+4sd3UEfjra2W68ButcO5YkZZ3/02N/+HGCVs2K50tL8vY+1fUX+oauNTF21yswbdsvbTjvniXsbWrfJO3oPz73fsoXuBQR28my3LfYE/Ur3Tp9Jd1MO1nOwGZo0qKsTPhb+xv9fIYoZ1UXsOu/fCEZrN51Lm/ghDyzleYKBBAYUqNy+DA9fPMuzFpiZwMwARr2YzbdLRLzbG3bi9ffdkRm3XTBQw6AHrhp4h79At1Bu7rPPEZ12xI9Nsti8ZBnynlj5CS2MJ1a9iGLqA2akQus03LGTPyvNkItdGaDJway2w6TLVz21E8YbduqXlWboBDavdjGGdeGC+UP4sGMCAm8Nq576U6f9LRN/sZuX8BIZ9dcqexgNockUBxLgvZZu+Ksz3rDiwmA1NN1GOKzgYTAXFtCTR8awfda0ecNOO4eyQmdvnZsP/O2P7LRDMCaxUdGXblv1MDxtWVjY1R3PtPmrx+GV3+wFi+WPzVt1IhIrBlY75KvMfGGnvN3bufDEP3PeD/rDW92Mge3t9CK7efZHt6zyA2G1i/7q7r+Zf5VBTwgh4QEdoy+DnhBCIhJ3gz6iBjERDYzklT+tlbW//W6M+na2Bqvkn8G/5pQbQgghhBDiP9jLtXDxMj1a1X01h/zz4Qw9IeQ/i7XEiyXpf+qMGSHk3wFWBDED/le42fnLqdNn1CUpS6ZMEe4aRiIXGvSEEEIIIYQEMHS5IYQQQgghJIChQU8IIYQQQkgAQ4OeEEIIIYSQAIYGPSGEEEIIIQEMDXpCCCGEEEICGBr0hBBCCCGEBDA06AkhhBBCCAlgaNB74fadOzJx2kw5cuy4807Y4Mci5i5cIlu27XDe+Wey8qdfNJ1IL/nn8Ffojz96/SzgPaPGT5ELFy8579gHP/b0wacd5et+g0PV1b86T4QQQsg/ERr0Xrh//4H8+PNauXjpivNO2Dx6/Fg2bNoiR46fdN75Z7Jz9x5NJ9JL/jl405/tu/6UTzp0levXbzjvPBv+6PWzgPcsWr5Kbty86bzjHfwqYa8BQ2XpytXOOyLRo0eXzJkySob0aSVqVN/N1F+dJ0IIIeSfCA16Qv6hwFg9f+GiPH7yxHnn3wl+rPrK1aty+85d5x2ROLFjy6cfvitNG9WTaNGiOe8SQgghxBvRuhqcf/8jwazdnAVLJE3qVNL726G6vH75ylXJmyenHDh8RGf2Jn8/S86cPSd5c+WUmDFjOp8UOXv+goyZOE2GjZ6gs3hRzL9MGdIFMxBgTPy5d7+Je5jGc/L0GcmQLq38/Ot6KVIov6RL85yGe/Tokawx9/oOGi7fz5ovx06cksyZMkiC+PFc3/+89jdJa8LnzZVD74FDR47KoBHjZOyk72TtbxskUcIEJkwaiRIlijOEd9yf+23DJkmePKk8lyplqM95pvHAoSMmv+n1nRbrN26W27fvSI5sWTTPkOeO3XskW5bMwcI9eeKQdb//Ib2NfBEXwuTIllUSJojvDBG2TDCz3LFbL0mcOJH8su536T94hMSKFUuumft9Bw6XAi+/KPHixtWw4OjxE9Kpe2/JkimjpEieLMz4fYEZ34VLVkj/ISPVjeXMufMaZ9y4cZwhQoLZ8L6DRpj408uwMRP1fS/kzSOJEyUMoUdx48SR9OnSBJs5vnT5ioyZNE2GjBwvS1b8qDqGdyKMJYdUqVJIalOGFpZuFyrwkl67689YExfK5sKlS7Jm3Xo5dPiYhsPM9YMHD2T5qp9l4LDRms6tO3ZJqhTJVWaWfvir1950xhdh6fbpM+fkl99+l9dKFJOFi5fLgKGjVH6JEiaU9GnTajiUaaeu38je/Qdlz779snjZKsmaJZPqTL/BI9X1JnvWLBqf3TwBf+sdIYQQEoj84w367bv2yE9r18n+g0ek3GslJHv2LDJ9zgLZZwyAHcYIq1KxnGTNnFHmLloqZ89dkFcKF1AjCoZJ2/ZdJIkxDOrXqW4GBKll3NTpOhgo+HI+lzH2+x+bpaMxIgsa47JWtcr6/XwT13ljSJUq/ooaCTB6ho+dpO+tV7OalCxeVPYfOCQTTHz5X3xBkiVNomE8Dfr1GzfJ5116Sr68uTXuWGawMXLcZIkdO5bkzpndp3Hh+VzMGDFk6OjxEtsYw76e85bGQ4ePyqTvZrrSCGDQw3javHWHlClZXMMdO34yWDgYTvN+WCKjJ0yVujWrSumSrxq5XNEwrxYtrAa1HZncuXtXZs9fpAbnXfN3vVrVjZGbQdKasphnZJw8WVJjrGXWdIGlxhA+feaseWc1Uz5RwozfG/Cp7tZrgGzZvlMa1a0lBY0RvPa3jWpkFytaKNgAwp3jJ0/L7AWLZMu2nZIrR3apVO41LUsYjZ56NMrIBQa8pUcXLl2WL7p8reWLMDmyZpVpM+fK3Xv3JN/zeYwc7qkcoGPuRid0G4Yn5Avc9QcyjhM7jknXKWnZ/A0pmP9FSZ0yhRloPZERRodmzFso1SqXl/JlSukAabQZcLz0Ql5JaQx74K9ee9MZb9jRbRj0MOAPmoE3BkYIh8HQqAlTXOFimAFKipTJdTBX4KV8WvbZTH2OHiO6DnhSpkjhqk928gT8rXeEEEJIwGKMt380s+YvctRs1Nxx7MRJ5x3v935a+5ujacsPHFevXXPcv3/f0bFbL8fX/QY7Hj586AzhcOw/eMhRq3ELhzH29BphW7zX1jFr3g8OYyjpPbBo2UrHq+VrODZs2qrX23bsctR/s5V5/rBeA8SL+HsNGOowhpHDGK+Ozzp107QBK+7J388KFvfa3zY46jVtGSzt7ly7dt3Rqk07hzEAgz330y/rHI1bvOc4d/6C805wkKfqDd507N6zz3knKI39h4xSWUAmoN/gEY6KtRuHCBdaXgDurfl1veP6jRt6bUcmxuByvP5Wa02DezkgX8PHTHR07tHH8eDBA7136/ZtR5t2nR3TZszRazvxewNl16BZK8eZc+edd4Li/qRDV32nu0zdQVmXrlpPy8cCMuvSs69j0IixwdIP2dVt8rbDDIz0Gs8in8ivBXRt5+49+j5LDpY+WUC+kDNk603m3uJFOOiCGbA67wSlE2U8adpMvbar13Z1xhO7uo334H2e4Tx12Ze+eatPYeXJ33pHCCGEBDIB4UMP14WUyYNmHgGW2THTmiD+U/cPzPw9fvxEXUWuXL2mM59lSxVXFwWLzBkzyPN5csnadRv0Gsv9t+/c1ll991k7zACmeS6180pkx649ku/53LoSYIF4XylSUA4fPaazwp6cOXte3QWKmTDucb/4QpAbx9btu5x3gnP67Dm5d++eFH+lcLDnrJlFuH94Y9fuvZIze1bJ4pHGsq8Vl30HDmm8Fnly5lCZWiAc3CJ2/blXrt+4KdGjRZP48eOJMbz09BDIFD7NmAVNmCDIFSM8MoF83csB+cBsOdIFdxhw8tQZOXfhgrpOAH9k/vjxY3WdKVwgv85mW0BXypUuoZtOzYDEeTckqVImlzxu7lLQI2MASvnSJYOlP2OG9Cb+lDqrDODKc83Eu3rNr650wT3phby5g5VhRIBywIy+tbKBVQCcInPr1m25ePmy3rOr1+HRGXfCo9twdXmlcPBwWLVwmH9Ip13s5snfekcIIYQEMgFh0EeLZpL5tG8Ok1u3b0u0qNEkWbLgLgMxYsRQA+PR40d6jU2H0aNFNwZZcDcM+OHDFcAChhJ8lktVriPFK9R0fb7s0Ufu3Lkrjx6FPDHmpjGw4CqTNEnINMCw8HXKDJ47fPS41GvaMti7cA33C6TZG0hjKmPEwuBzJ368uOpyAGPXInWqFOp+4A78r584nujmRKTxg1Zv6SCp+f8+lgo1G0rb9l/J7j371B0HhEcm3jY1wiDFvggMIsDGTVvVjx+DNeCPzB88fKj+6jgZxd2YAygHa8Dni6hRogZ7Dnp06cpVadWmXbA0VKrdWAcOt24HGe/P584prd9prq4qFWs1lvpvtpIJU2doOiODPfsPaHmUq95AytdoKB981kmOmoGHRXj02q7OuBMe3U5o6lvSJImdV0FAr55LlUpOnDrtvBM2dvPkb70jhBBCApmAMOjDCwzIx08ey4MHwc+vhjH6xO3EkOhmoADjHpsM3dFwxri1gCFRo0oF+XXFAlm3cmGwz3fjh4cwWICvuMXYkzAsfYHnMqZPJwtnTArxLnyKFHzZGTI4SCM2g3oaYbC/MRvqzsVLlzWsO5iNBkkSB+UF/tMDvvlKVi+aJUP7f62GH45QxL4F4I9M3MGseeECL8nvf2yRK8Zo3rR1u65KWJua/Ykfxjh82u84DW13fBmnoQE9SpwwoUwcOShEGvCpX6uahsN7q1YsK4tnT5UfZk6Wt5o2kuU//ix9Bg4LWf7PCAZ1nbv3kUwZ08vUccNk7fIFsmD6RClZrIgzhG/d86bXdnXGnfDo9o2bt+TqtSDdssCqAk7vSes2sx4W9vPkX70jhBBCApl/pUGfInlySZEsmWzbEXx5He4W+w4clry5c+o1jFTM9GIDrTswms5fePpjODlzZNXnPN01sCnPm+sHwOZG4Bk3Ti3BRkv3zaDuaJqMQYI0uIPZXrzPmiH35MV8efUEEGzWdGf/wUMSP14812ZJAFeRa9euO6+CjCL8oBE2FcJ9BJslsaERbhyY2YS7z0fvvaPuSgePHNNn/JGJJ8WNEXry1Gn55bcNuoEWGzEt/Ikfm4bhToRNuO5hkL/tO3era0lYJ+S4g0EN5AEZugNjEW4u1mw/zlmHyxAMeww0KpcvIx+3bimHjKwwi48ZcJQr3HcskKaLfvzg0rnzFzU+HOeIU4+wedgykC3s6nV4dMad8Og2Vkw8XWsgB5R3yhTJnHfCxm6e/K13hBBCSCDzrzTo4TJQpWJZmTF3oc4Aw/CCXy2OHgSFCwTNcj+XOpWULlFMf81y/8HDGg4+4+Mmfy9R3VwvihUuqDN/g4aPVcMJxhjC4fSTaTPmejWyYYDgFBkrboTBszjWMFuWTOq77A0YJHiu/+CRaoRaaR82ZoJ0+OpruXHD+4/05M/3vCQwRhjyCCMKz8FIHz9lulSuUMbl+w7u3rsvU6bP1nAw3lesXiMLFi+XKhXKqrEIV5Mve/aVsZO/0xlcxLV77z7dl4DjEYE/MvEEBmn6dGll6OgJ6nOOU28s/I2/dKlX1S8fYZB2K39LVq6WahXL6QDFLpBZ7eqV9bQfnECDuBAn9Or9TzvKqTNnNByORfywXSfZs++ApgvlhaMgkZ9YsWKqexPKfPrs+fLr+o16Ks6k72bJqp/X6vO+wLOY3caqCAYNiBsuYxisbDZli3JBeuYuWCJb3HzD7ep1eHTGnfDoNgZZs+b9ECwdg4aPkUL5X9LjMQH2bMQ2erdpy3bdI/LQyy/D2s2T3bTBZarOG2/Lxs3b9JoQQggJZKKYDi9sy+tvZPaCxfLH5q3SvfPnLl9fdMJDRo5TVxDL9cLzHjr8xctXyfCxE/XcdfCSMWA6fPKhMZqfLvXDIBo1boosWLJMZwCTJk0i77dsLlO+ny1t3nvH5eKCGdk+A4erawjcdqJHj6YG8PutWqj7CGZJuxgjuHDB/C5XDMzkTp0xRz+IG+4gOHrzw/+9rccg+gLPTZs5T76fNU/TB2Dwdv78o2CbWT1BGr8ZMESPpATxzMCmVfMmUrNqRdemTpzNjiLHWd+QF9LlLdyuPfv03Hj48wNvYcKSCdx4PvysUzA5erJs1U/6WwL9enzp2hBrEVb8vjh4+Kj07DvQlXaUabs274XYaOyON50C0KOlK3/UYw+xYRhgDwL0COfoA5QRzoyfOXeByhN46hpWFnqYNKFskI9aVSubdCXWPQTQbeCpPxhATJk+x3xmyfO5c0nv7p1NvuPI0hWrZcjo8arXiKtB7RqathgxostnJp8gPHodls54w45uWzJtY+71NboEw9pXHYBxjuNGUWY9vvxCihpd8JSH3TzZSRsGVl9901/af/KBVChTSu8RQgghgco/3qB/VmAUYcYZM7OhGYEwyO8bgwGuBqEZMgh39+49dd2wO9uLGUds1osTJ3aIDYihYTftnmAGF++0k5fQ8gzVwGwzjOnQ4vJHJuHBn/ittDuMQZ4gQQJ1TXkWYNjfvHlToph4cLqSt4GBVc6YWfdVXg9NmeLJ0MrFE+gBKqn75k+7OmVXr+3qjCd202HpMn5YLLRwMNqxIdfXwAvYzZPdtBFCCCGBzr/eoCeEEEIIIeTfzL/Sh54QQgghhJD/CjToCSGEEEIICWBo0BNCCCGEEBLA0KAnhBBCCCEkgKFBTwghhBBCSABDg54QQgghhJAAhgY9IYQQQgghAQwNekIIIYQQQgIYGvSEEEIIIYQEMDToCSGEEEIICWBo0BNCCCGEEBLA0KAnhBBCCCEkgKFBTwghhBBCSABDg54QQgghhJAAhgY9IYQQQgghAQwNekIIIYQQQgIYGvSEEEIIIYQEMDToCSGEEEIICWCidTU4/45Qrly9JrPmL5IhI8fJ8lU/S9w4cSR9ujQSNar/Y4iVP/0ii5f/KBs3b3V9Dh0+KilSJJcE8eM5QxFfQH7bd/4p2bNmlmjRojnvBufhw4eyYPFyuXv3rqR5LrWcPnNO3v2ondy4cUtefvF5Z6i/jtt37siYidNkyvezJV3a5+TWrdvSa8AQKVLgZYkdO5YzFPGGZ1n+G7h565Z82qGrbNu5W14pXMCnHrvzd+vwP5kjx44bHVkhObJlkZgxYjjvkkBgy7Yd8vsfW7Q9v2PqeHjrBSHAjl3wb+efZvf4S6TM0F+4dFk+7dhVNmzaIo3q1ZJCxvgaZAz74WMnyaNHj5yhws/O3Xtk7W8bTByPnXdEftu4SZq1aiPrzf8kdCA/lMmjx0/l5wm+Q5gjx0/qdZw4sSVblsySJnUqvf6rQXkfOnJUKpcvIwOGjpIWrdtK7pw5JD4HcGHiWZb/BqJHjy6ZM2WUDOnT2p4c+Lt1+J/MxUtX5Mef18r9+w+cd0iggHpttef+1It79+9LrwFDZenK1c47JLLZvutP+cQMvK5fv+G88/djxy6IbP5uXYwIu+fYiVNatvj/7yJSDPplK1ZLvHjxpG+PzlKhTCl5q2kj6fVVB/l1PYyzY85Q/pElUwZp3bKZfPTeO/oZ8W0vadKornw/a77cun3HGYpEFEmTJJYenT+XSuVLO+/8tbxWopj06tpRqlYqJ5NHD5G1y+erPnEG6r9JnNix5dMP35WmjerZ1oG/W4cJiWz8qRcOh0OuXL0qt+/cdd4hkQ0GzucvXJTHT5447xDwT9NFf/qMR48eyrnzF/T/v4sId7l58sQhZ86ekzy5ckienDmcd4Nm1lau/kVeyve8pEvznPNu+Fi/cbPcNkZ76ZKvSgwTH4gSJYoZ3T2QX9b9LhXLvqYjK4yC+w4aIUUL5Xe5ZWAE2G/wSF2yz541i9578OCBGRH+JH0GDpOZc3+Qk6fPSM7s2bRxtLhjFGzqjLkycPhoTT8KeufuvTJ34RIpVOAlHdl5xgt8pWHhkhXSf8hIff7S5au6zBUrlnfXESvNN27clHv37kmPPgNl2sy5IdKJ0X7Hbr0kVaoUkjpVSr0HMNqdsyAonZC/JT8sr/f+dphMnDZTdpjROUaiiRIm0GewgvLz2t8krSmjvKYMvcWNMGt+XW/yN1wHUhiRZjYDLXe3p0uXr8jE72bIsNETZP6iZXLm3HkzGMsocePGcYawF08U8/nt9z9cYQ4cOiKZMqR3pdfirKlIcM3B+zDj6M3F6+SpMzrLP3bSdxoGZZkubRrVIV+EVWZWOefInkVGT5gqI8ZOkoOHj0re3DnlypVr+hzet3vvPq0P8eLF1ec8cS9ruEF803+IXLh4SQq8lE+/xyrFoBHjNK7fNmyS5MmTynOmPNzT7p4/lCsGv1u27XSVpUVkyAr1fp0pp94Dhmo54f05smWVhAniO0OELG9/ytJXPYZb38BhozXerTt2SaoUySVF8mSaXm86DP0cM2maDBk5Xpas+FGNIOhnaLObdvTVG5Al9GLkuMn6rps3b2udi+Hm4uKPbtopR88wUcy/TBnSuYw+LC3DdbFKhbLadgJPnfdWd4GnvmVIl1brgFU2dtslYCcv3gitXrjXKRhR3XoN0HwlTZJEl9WXmXSgHcQ91OcsmTL5lLedPsXKb7KkSWSDkSlcA1evWSfp06dVHdd+xOgo+hGk8bnUqVzvC0uHvbFn3wFTfme1P3zspR8KrX+D7nbq+o3s3X/QxLNfFi9bJVmzZNJyQl3+/Y/NpvxHydTpc3SVFOlPmyZ0fXTHXfaXLl/W9mzWvB/k2vWbkjtndle5g9D07a7p95D+86YtdG/DYABC1379faMUzP+iRDN6ElY9s/QOs669vx2q/d/lK1clb56ccuDwEZ0hnvz9LLVf8ubKKTFjxtTngGcaQ+sHEAfaFehj+vRptAzBWNPe4J0XLl2SNevWy6HDx1x1wN+2JbR2zG79s2MXPGtdCq1+R4Yu2rE/3IH8w7J7QqtPkGm/wSO0z4a3yIZNW11thT91218i3KBHAqEYWTNnct4JAkbKz7/+JtUqlVMl8AdvBj0KfPWatapoFcu9pn6gx0+elp9+WWdGV2VcndRDU2AQesoUKbTAUIAjTMVfveZXaVS3lrxStKDs3rNfC6xEsSISy1Rm+G937/2t/GmMsdfr15E8uXPI/MXLjHG23zQoTzQdwD1eC880IC5Ugi3bd+r7CprK9LOpwD8sXSHFihaSeHFDGnpWmo8eP6mdbrVK5eXll15QwwmV13oO/pOz5y+Sgi+/GGywtH3XHu3wLHlBfqg0m7fukDIli0vJ4kXlmIl70nczJf+LL2hH5KnYnnHje7hOTZ+zQOrVrKZx7D9wSCZMnS6F8r+khghcrj7/sodcvHhZGtWvLQXMs2t/22gasd9dsrUTj7cw2DPhnl4Aw7Bt+y6SJHEiqV+nummwU8so09ijUhd8OZ82GgjTrnN3yZUjm9SqVlkr6tBRE7RTzZwxg8bjiZ0yQznPW7RUDhw8ojLCBz6JqNBbt++SksWKyosv5NXVqU1btkvJV4t69VW2yhrPHT9xUurVqia5TGORKmUKbSA+79JT8uXNrWnH80NHj5fYpuFE54g6h/zBzQ2GAmSA72BAoPPIYzonSzcjQ1boXOf9sEQ72Lo1q6q+Xb5yRcvp1aKFtVN61rK8evWa0aN8arh4q8cz5i2UapXLS/kypYzRcENGm87jJSP3lKbh9NRh6OcXXb5WPcQ7cmTNqgNlGA/5ns/jtZENTV/d0+8J8vNJh69UVxrWq6llunDpcl2phK+zv7oZlpyseD3DjDPphRFjlbWnQe9N51F33dsb6/0h9W2OqQ+n1KD01nZYeLZLvvLirpPeCKteoMygKzv/3CvXTf9Qo2pFc++xMQxmq+7dvXtPdQY6NWHqDNPhZ5CMZrDjDTt9ipXfg8Y4hKFUpWJZNSTmLFhkDJWDRkcSS9nSJbRd/G7WPG0XkydLakuHveFu0ANv9cJX/xbPGFQpUiY3fcsJnTSoa3Q6W+aMxgCJrXV5wNDRGq565QpaT2Akp02T2qc+emLJBobhWSODalUqSKaM6TXfZ8+ed+l+WPqWOGFCNeZXrl4jr5V4xWVAw3AaPXGqVDV9YlaTbuhQWPUMevfT2nWy37TV5V4rIdmN8Y36vM/0iTuMQV6lYjmNa65pz8+euxBqGn31A3tNOecyulfmteJq8E2cNkP1H+WMdjBO7DhaR1o2f0MHIqlN+/7kyRO/2paw2rE7Rr8jyi6wytOfuhRW/Ua9jUhdtGN/eIL6EpbdE1p9gp4mSpRI89rY2IqlXi2icaFv9Kdu+415YaRz6/ZthxGww4yyHA8fPnTeDT9mBOSo88bbGs+gEWP182nHbo6Pv+jiOHX6rDOUw2GMIsfrb7V2mI7LecfhMAXk+KxTN8es+Yv0Gt8hDMJa4J4ZATpMhdDrRctWOpq2/MBhRqR6Da5eu+Zo8V5bjQtxesZr4ZkG00Dpc6Zx0mtw4+ZNx/ufdnRMmzHHeSc4VtwNmrVymI7BeTfkc97yApAmK50A8qtYu7Fj9559eg1QHl/3G+zoNWCowyhtmHLatmOXlsH+g4f0Gty/f9/RZ+Bwx/ez5um1aWwdZqSu6bQ4duKko1GL/zn+3Ltfr+3EYxpQR/UGb4ZIL8rfjJ41PD5devZVXXDXLTxTt8nbDtNQ6bWnLMDmrdsdh48ec16FxE6ZQS6lq9bTtFps+GOLo2y1+sHuId8oRzOwdd4JjiX3Tzp01fpice3adUerNu0cpnFxmIbfedfhMMaFo3GL9xznzl9QGUAenvUL70farLKMLFl56gzAvTW/rndcv3FDr8NTlp75MJ2to027zloHPN+Fa8jCNKR6DSx5TJo2U689ddizbgLo4c7de4LJ2B3oa/03W5lwh513QtYdb5jBuGPx8h81TRaQBd5vDB29Dq+87cjJkgHS5x4G+azVuIVLNz1lgTbPs72BPkIvh4+ZqPKx4g5L3+y0S1ZewtJJT+zUC0tXLP0C3u6h7Hr0HegYOGyMXnvDm85YcXnm15KT3rt8xfHGO+8Hu3fz1m3H+590cMz7YaleI56wdNgb7nL0lRZ32eOee//m+QyALNB+bdqy3XnHoelG+iEjX3ruiRW3Z3u26ue1Wo8s3bejb+g76jVt6di2c7czhMPxy7rfXeUM7Nazmo2aa3wW3u79tPY37ffR14Pw9AOQrwXavvfatg9Wht70yN+2xVtc7u2YNx0A7noDwmMXhLcu4b6d+h2RumjH/vDE8/2esvMmS9xzr09mIK86if8tEK8/ddtfQl/PjACM0GXc5O91RN20cb1gS23+gKWQzdu2y8ZNW/Vz7MQJHW0aRdbRkF1ixIiuGyuxVITlIDyLWWGMtjDDY5RPNm7eJq8UKRRsFJXYjMJKvVrUeWUPjFqxzILnUjqX30CC+PGlkBkB7jt4WN/nC4xaMZK3wHNIJ5b5MBoPD3D7wNKTBcoDfuq7nCPvsNhhRvdwp3IfHWNp8vOPW5uRaW29xlJSjSoVNJ2Qq6lYcu7cBfP/LTGdmYaxE8+u3XslZ/asksWM1i2Q3rKvFZd9Bw7J6bPn9DQlU1mlfOmSwXQrY4b0RmYpddQPsEyHZzAbYckaI3d3WbgTnjJLlTK5ZEz/dGYvWbIkqjPu7iYxY8aQaFGjabyhUbjgy65ZUIA8wt2q+CuFg80cWzPz0F3ULdQByMVdBnB5yWPCWUSWrKJHi6Z1yTRcuhJn2lxdhixV/BUjg6AlW7tliRk1z3xgtmlw3x46G+wJ3oOZJix/A9QHyAOnIV28fFnveYJl12s3buhsC2bfAGT1Qt7cXmfnAfQ13/O5dQbPAml8pUhBMYa3Kx5P4N5StWJZ1W3IBe0XZihNQy/GcNEw4ZW3HTkFhTE6USp4GNS35/PkkrXrNjjvPAW6iTalcIH8wdob6GO50iV005gxUmzrmx3s6qQnduqFBeRiuU9AX7DqhdlC6x7cFNDmP3rs/4EN7sCt1EpTHKNrKA+cxGbdixYtqs7yW5sQ/dHhsAirf/MFZFGkUH6dPQbQx4uXr+isInT3gVM/7YLVE/f2DPUB7QV0366+wUUmV45ssn7DJs0HnkNdQR2x+mY79QygTqVM/rQ/h5sY3od23QLuII8fP9F4wtMPYBbeKkOAtg8z1WGVob9tiz/tmC/s2gXhrUv+1m/gry7asT/Ci7/1KTLqdmhEqkEPYx5LSTC8v/yibbAK4S84QmjCiIHy/YQR+pk9Zax81uY9MSNAY9QfdoYKGxT2F23flxOnzkj9pi2lUp3XpcvX/dQPD6CxRYeBSupJXB9+0L6A4kEBx07+TopXqBnsg3t4T2g7zHF6gWcFTZ82jZwxDRaWusJD6lQpXD6gFqgATxxPTOW76rzjGyghDBB3/19PUO6Ll6+SJi0/kFKV60i1+m/KwOFj5P69+84Q9uJBGDQYqBTuxDfyx7IZGls01peuXJVWbdoFk2ul2o21s7A2SpcxlQruIL36D5Gy1Rto2hYtW6X+bd4IT5lFjRI13A2oLzzdC9AAHT56XOoZHXVPA66xdItNVvBvxGABcnHHMhwsIktWKMMPWr2lHWHz/30sFWo2lLbtv5Lde/ZpwwfsliXCe+YjLPbsP6DvK2fSWr5GQ/ngs05y1HQivng+d05p/U5zXVKuWKux1H+zlS4TY7+ML5B++EFCn91l92WPPvqc+8lb7qBs4JOKd5SsVEtqNm6urinuhFfeduSEMNAJDC7dQVmh3nkzXi2dx0kpnvoMN0nLyLGrb3awq5Oe2KkXFr5cdiILGCLhJbw6HBZh9W+hcfrMOQ1b0ZRB6ar1pKnRxx27/3R+Gz5C6yvt6ht0FgYhjuSEgX/x0mU1NEuXLOZ6zk49A9BR3Zhlk/D0A3BfsQzb8OBv2+JPO+YLu3ZBeOuSv/Xbwh9dtGN/hJdnqU8RXbdD4+mQKYJBh4NzPbHRo0/3zj5nm54VVGiM1DHS3mUMiFxmJG8XpGnCiG911AQfshlzFsrH7bvIwN7ddOQP5b3jReGehHOHOtKIuD7839vSsE4N5137wNfME8xQWQZSeGbp0Rii8XM3rDCKBkkSJ9b/QyN6tOhy607Q7Iqvjmv5jz/LyPFT5MN335JiRQrqTAXe8aFRZAs78fgKAxvRYf4B3If/2qDe3YPNjniC2YHmbzSUNxs3kPMXLwo214yaMEU3QLVq0SREh/KsZRZRRDcdEGb/h/Tr6dOXErMcj588Ngagx4yFERE6RYvIkhVA2gZ885XOomD2GJujcIQXTrrCjKXdsvSaj1CA8da5ex9dDfjcNLipUqQw5RZFN6/5AunHbF6VCmXk6rXr6kMOYwB7Fzq1+8hrp4z0Y9an3UetvebfG2gDJ0yZrnte2r7fSicjUO8wu92lZz9nqPDL246cfIVBmtB+eeuYLZ331uah3Cx8vt9D3+yAuOzopCd26kV42sW/E3902A6h9W/oL71x7fp1+bJnX/VRHj2or/72B/Rz9oLF8oepJxGJXX0DWN27b/qtI8dO6IwxZqezZQnap2e3nvmDlcbI7Af8aVsAwobWjoWHZ7ULfOFv/Qb+6qId+8Mf/KlPkVW3fREpUxeoYNg8ik0e33zVQTfJRiY4JggbQKwZIyyFoEG4bEaGFmgMLl8JUlAAwwO7qzELBiXG5g+MwOAagQ0xWEbJlDGDLre5L3khPM5ttUA4jGSPHjuu+ba4eOmS86+gMIgLz3nOumH5xlqy88Wfe/fr6QUWiGP7zt266QKjaqQfxj2WtiyQlosXn6bBAsbfNVP5LRAOP1CCjR++doC782K+vJoe90EG4sAMAzaDArgPlC5RTCqVK+1yucAoH8uDFnbi8RYGwL0qfrx4OuhCZ4504547kBGWtjDDg3hRoXGkFCoTlsDROL/ZuL42+mjIPHnWMosoUK6YTUXD4A5mYaDfyBtkADlvM7rqDjbEwgXGIrJkhRkRzKRgGRGzaXB7wJGycO04aIx7YKcsUyQ3n2TJQuQD8sbME9LoybnzF1X/cVwf0oo0o8HFSQy+wBIsZlbQIaKtwG8cfNy6pQ5EfM0Y5cyR1ej1YZ0hdAdl4GtJHLJCfatdo4p2LFZnefnyVZ25Av7I246cfIVB+pEPnMLkCXQeS++ebR7SiPYG7lLY2GdX3+y0S3Z00ht26kVEYqdP8Rd/dDgswurffIH6iVnnZq/X102sMKAgyxMnTztDRBx29Q2gfShaqICekLJu/UZ5zc2dz04985e/oh/wp20BYbVjduqfxbPaBb7wt34Df3XRjv0RXvytT5FRt0MjUgx6HDOEI4reatJIFQodlvVBZgAEg2MYsaxk3bMDlsDgQ2XFh2Ub7IJGZbA6qRTJkxoliivDx05URcUHRyqdPntWvwdnzp3XXfHzFy9XgwQfjHBxig6WpAHO0D9x6rRMmzFXGw18Zs1bpKMzC1Qm+ILjKDIsk2OHNZZ7PJf7MJLGDugxk75T4xyKjArTum17WWUaqdDATN0MMziy0jBj7kJt8CqVe03fD6MesxXTZ8+XX01jhzRM+m6W13jv3rsvU6bP1mVE5HnF6jW6kqKnXDgbwtDIn+95SWAMMOw0h1IiHyjvEeMmqWEGoLhoALFTHiAc9OHmzaeDEjvxWGHwLNJryWz8lOlSuUIZraz41K5eWU9YwS515MmS0fufdpRTZ4KWxCC/Dl2/MddBOoB3wiczWdKkXk+dAc9SZhEFBm04eaD/4JFa5kgD0jJszATp8NXXeroTZAB5IM/45UiEQf5GjZ8SrBOKLFmh08RMii5Bm/jwfhzTCYMUx3MBO2WJATlOBkF6rPQh7CijI3v3H5AEbnsSLFBX0eltNnEhTrx/7oIlsmV7cGPTHcyAf9iuk54Sgg4C8sRKItzrYsXyvmRerHBBnRUeNHysygPPwXjF6Q1oH3DtCWQFmW0wZYLOyXoGs+/uhFfeduTkHsbSCeQT8geFC7ys/3tSutSr2jZabZ7VRixZuVqqVSynAza7+manXbKrk57YqRcRiZ0+xV/80eGwsNO/wZcdJ4ng9C3LOIVrAdjwx1YtS6v8cZKcO6dOn9GjQr0NssODHX0D6OeKFoZB/6v61mNV3sJuPfOXiOwH0L5cvXZNT9WBQY60+tO2gLDasb/SLvCF3fr9LLroiR37I7zYqU8Y/N036dy8baerj4uMuh0aEe5yA+Mc535itq7Xt0Odd5/ykRlB1q9VTY9BgmEOYwDCscsWIyz4MFlAiFjSx5IOzjUF2Lj6fstm0s0MGJq2/FCFCl+zhw+fvgdLJFie6zdkpAwdNV7vJTWjSSx7YXkPYJNKt46f6Rm6MNCx9IZRMI5PwnmpFtj0sOvPfa5llFeLFtIldFRGC7wPqxU46xYdOEDa8aNYGDiERoPa1bWhqlCzkVGKJ5rOrzp8qgMJgMauYd2aepYuDIPo0aNJraqVtSLB19AdzGzgjFf4GMI3D+eiv/tWU93cYYdEiRJKzy7t5ZsBQ6Ruk3f0HuJ4v2ULnUEBtcx74Wv25rttNL2Q/3vvNNNZXAs78biHqVq/qd5DmFbNm0gNUwYWlcqV0fdA/jAsAXwCO3zyoWspDBttIcPX32qtYVGWOLoMeceyoDeepcwiCpRtiyYNtWP7rFN3bRAANj91/vwjlRGAPOACgQEywkBO77z5ut5zJzJkhfrW9oNWxrgaoX6CwConzJiB8JQl9LL3wGGu9GFTVMdP22jH4jn4R11t2ewNPQ8dR8xC9xvUrqE+t74oZ747efqstP6kvb4LoA2BDNw38Lljpb/PwOHqqwq54F3o8KAPKCdPICscT9ej70Cp1biF3sOMF2ZrcHwfwHP+6GZYcgJWmK69+mvHA5BP/GAKZs68Yel8T5Nma1IC7U37th/ohm0LO/pmt12yo5Oe2KkX4ZkoCgs7fYq/+KPDYQG5hdW/QXaQYbdeA7RP7fHlFzqziR+oQj5hEEMXsTmyvkmPe593+ux5NQyrVy7vvOMfdvUNwDjFUYiJTdm6Hy9qp549C1YaI6IfgN97vVrVpVvvAebvXNK7e2e/2hZgpx37q+yC0LBTv59FFz2xY3+EFzv1CZMMmMQeMnq8zPthqQzp2yNS6nZoRDEju4hdm/yHgYYem+58VQqd2TEjZZDAjCaxJOKJFSZ6jOhaUSwfru6mY3QfvWJgAmFaZ+T7AiM2jEAxE41lJF+gQ+piKkDhgvl1EITnHpkOxFc6AQZK+Ca0eAHixpJxWGkIjbDyYTefM+f9oD8m0a3TZz73WtiJyyqnKEY2GN17K3PkGxuJsXkvPDMPdvMSmUC/MABG4+fL8EQasWEQS9UI54vIkJU1S4RGNDQ52ZGlnby6Y+U7POVqPYPZLDvvsLDkEpaMLSy5OIzMQ6u7/uimHTmFV5bAbprd9Q2bA93bK3fstEt2dNIb/uTvWQirT/EXf3Q4LOz0b8AzT2HJ1Fcf6C929S00IiKOsIiofgDy9WYrhLdtAXbasb/SLvCF3fodXl30RWT02XbqE8Lgve6rvZFRt73xrzfoI4OIbsx8gcrlq4P8NwFlX/nTWln72+/GqG+nsx+EkMDiv9JeEdHZVrg2vNGwrvMOIeTvJlJ86AkJDzhudOHiZXoUZ1irG4QQQv4+sPEYrkaFfOzDIIT8PXCG3g8wE4VZ5fAsC/uDtYSIpabIXAn4u8EGKyyzZcmUKVKWSQkhkc9/pb0ihJB/IjToCSGEEEIICWDockMIIYQQQkgAQ4OeEEIIIYSQAIYGPSGEEEIIIQEMDXpCCCGEEEICGBr0hBBCCCGEBDA06AkhhBBCCAlgaNATQgghhBASwNCgj0SOHDsuE6fNlNt37uj1hKkzpPFb78npM+f02i5btu2Qlh9+JnMWLJZbt+/I0FHjZfmPPzu/jVjwg1lzFy7RdwYinjK3A8LiGTz7b8Yznz/+vFaq1msiu/bs0+v/Gn+Frvujj4QQQkh4oUEfiVy8dEWNpvv3H+h1mtSpJFuWzBInjv1fUbxy5aoMHztZyr5WQk6dOSvV6hsD7M+9kv+lfM4QEcujx49lw6YtcuT4SeedwMJT5nZAWDyDZ//NeOYzebKkkjN7Nv3F4/8i3nR9+64/5ZMOXeX69RvOO8+GP/pICCGEhBca9H8hlcqXlh6dP5ekSRI774RNwoQJZFCfbtKgdg35uHVLWbN0nowZ2l9SJk/mDEGIf7yU73n5tldXyZQhnfMOgeF9/sJFefzkifMOIYQQ8s8nWleD8+9/PE+eOOT3PzZL/yGjZOr0ObL2tw2SyBi8adOkkShRojhDBQczbR279ZIUKZLJgUNHpHvvb3WZ/dr1m5I7Z3aJHj26hsPMXN9BIyRzpvQybMxE+X7WfHkhbx5JnCihnD1/QcZMnCbDRk/Q2ba4ceJI+nRpJGrUp+OhBw8eyNKVP0mfgcNk4ZIVEi1aNIkdK6Zs2rJdqlQoq7PyS1euljkLlkihAi+53ht23FFk646dMmBo6Hn2jCeK+QdDDekIjZOnzmjcYyd9Jzt275EsmTLIlm07TfzPSd5cOZyhwh//vfv3pd/gkXLjxk01kLr1GqBySZokiaR5LrUsM7Lo/W2QrGLFimXemync+bEjc/Do0SNZ8+t6U77DtVyPnThlyjmDJIgfT7+/e++eSc9PUqRQfkln8g08n4HuZMqQXmUfFoeOHJVBI8apTH/bsEmSJ08qz6VK6VNHwaXLV2TidzM0v/MXLZMz584bmWSUuHHj6CpNx269JWGCBKobFkh334HD5fSZs0ZXc6s8lq/6WQYOG61p3rpjl6RKkVxSmMEf3u2ZT0vni5rr2LFjaZxhycoXKG+UQf8hI7V+uaffF1Z9wAAXurBi9RpXWuzUOXfdRRjEky5tUL2w6n2qVCkktZG9hXsdBD+v/c2l62MnTVP3mAuXLsmadevl0OFjrroaWvlY+KuP4dEtQgghxBsBY9A7HA6Z98MS04GPlhLFikj1yhUkVsyYMnLcZNMhp5bMGTM4Qwbnzt27Mnv+IjlnDAS4qjSoU0PdXhYtXSlbt++UYkUKSswYMeT4ydMye8EiNWZz5cgulcq9ph39ydNnpG37LpIkcSKpX6e6pEmdWkZNmKodfMGX86mBgQ56hEnHHGPINKxTUw0mGN6bt+6Qe/fuuzrz7bv2qLFXuuSrEsMYCejIvcV99eo1KWDihmFiJ8/e4hk3dbpcNoaglUZv4LlPO3ZVYxPPxTaG9dQZc9WgyZMrp8ug9yf+h0YmMJ52GplfN0Z9jaoVjZwem0HJbGMoHZW7d+9Jtcrl5fHjx7q3AAOJjM6ZYjvvsytzhBs+dpJMn7NA6tWsJiWLF5X9Bw6Zd06X/C++IMmSJglh6Hp7Bmme9N1M1zO+WL9xk3zepafkMwZ2rWqVVbeGjh6vssUA0ptRf+HSZfn8yx5y8eJlaVS/tin7F01eNhqj8nct90QJE8qf+w7I7j37pMQrhV2DmsNHjsm0mXPldfMMZAV5zJi3UOVavkwpM2i9IaONUfzSC3klpTHsPfMJnf/pl3VSqXwZ27LyBvzDMWDbYupTo7q1pKAxgpH+JSt+lGJFC0m8uHGdIYOD+gAjfsMfW6SMqRMImzbtc3L02Ikw6xx0pF3n7qauZlM5w3AfOmqCPJc6ldYLq94XNLK0BmnAvQ4Cd4Meg5Y4seMYuZySls3fkIL5X5TUKVPIJaN3oZUP6uSz6KNd3SKEEEJ8YgzlgMB0hA7T8Ts2bdnuvONwPHnyxDF8zERHj74D9XtvGCPQ8fpbrR3vf9rRcePmTeddh+PMufOORi3+5/hl3e96vWHTVkfpqvUcphPWa3D//n1Hl559HYNGjHU8fPjQedfhMIaVo26Ttx179x/Ua2PIOGo1buHYf/CQXgM827FbL3030gBmzV/k+KxTN4cxNlxx9x8yKljcO3b96WjTrrOmz06erfd83W9wsHiQFqQJafOG9Zzn+xEeckBagb/xI4/IK55FHL7uIQ/Iy8BhY/Ta7vvsynzbjl2O+m+2MuEO6zVAvIi/14Ch+n5LR6ADAHFXb/CmlrMFnoGs3NPuybVr1x2t2rRzGENSy8nCGM2Oxi3ec5hBpfNOcC5cvORYuGRFMP08duKk6uefe/frNdLUoFkrx8lTp/UaTJsxR3Xl1u3bKlu8xxi6zm+fymPStJl67ZlP/B9eWXlj0bKVmjborAXS9EmHrqqr7rJwBzpWpV6TEGVop8651yWLzVu3Ow4fPaZ/e+bVwv05Sx8tXQeeMgF2y8eOPvqrW4QQQkhoeJ+6/QeCWUnMemHWDJhOUC5evqKzkFhef2CuQwMzae6b/zDz9nK+5+WPLducd0RSpUwuedzcTK5cvSam45bypUu6XGRAxgzpzfMp5ejxE3q9cfM2eT5PrmCrBDFjxpRy5jlfIO5DR45J2deKB4s73/N5ZHDfHjprbifPQfEclbKlgseDtCBNa9dtcN4JjjFSgp7zeH+ObFklT87szisrneGP3wL5gSxAnNixjYxT6MyrdS/ILSGWPHr8SK/tvs+uzHfs2mPSkFuyZs7ovCMa7ytFCoox/ryePrJr917JmT2rZPF4BrLad+CQnD7r/ZQi3L93754Uf6VwsJl4a2YebiTegEtMjSoVVD9NnRRjOMq5cxfM/7fk5q3bGiZblkzqcgM3GYB0/7FluxQ3eo0ZcMgWs87Zs2bW7zEbjzK+ZZ6/ePmy3gsLf2SFFRakqXCB/FqnLJCmcqVL6KbT6zd8bzDNafQtfdq0ziv7dQ7uKSiL9Rs3a70AmDmHG0xEY6d87Oqjv7pFCCGEhEbAGPTg9Jlz0uXrflKxdmMpXbWeNG35gezYHWTghAV8VN2BgQUjAf7dMH5A1ChRgxlit27f1uX2Vm3aSfEKNV2fSub9MGJwhCS4bcLBwIgRI4ZeW8Dv1xeIG8ZB/Hje3REswsoz4okWNZokSxZ8qR5pQZosQ9kT+DzjOc/3R4sW1eXrC/yN38KXu48v7L7PrsxhzMKvvFTlOsHK8MsefeTOnbsCNyBP8AwGHjCS3YGs4F4BI9YbMO4OHz0u9Zq2DPYuXMONw9dJJ48ePZLFy1dJE1O2SGe1+m/KwOFj5P69+84Qosb8a8Vfkd//2KK+2sdPnBK4RhV2+oKDPfsPSNv2X0m56g2kfI2G8sFnneSoMY7t4o+sMKjE4DJD+rTi6U6E/RKPHz/RvS++gL6J22N26xxcdOrWrCq9+g+Rsia/kN2iZatUNhGNnfIJjz76o1uEEEJIaASMQX/t+nX5smdfNYJHD+ora5bOlRXzp0u9WtWdIULnytWrzr+ecvLUaZ19wwyxNzB7nDhhQpk4cpCsW7kwxKd+rWoaLnq06Goge3bGoXXOiPvxk8fGAPG9smAnz77iwTNPQjmpw+f7je0FI8zC3/j9xe777Moc4TC7+uuKBSHK77vxw72eOOQrbpMEIx7fxml0Y5xmTJ9OFs6YFOJd+BQp+LIzZHDwmwIjx0+RJg3ryuLZU2Tt8vkyYmBvNfzcwQz0seMndaYfGy2xFwRHoQIMGDp37yOZMqaXqeOGmTgWyILpE6VksSL6vR38kRWMeAza7jgNbXdC039foPxt1bno0aX5Gw1l5cKZMnPyaN1fMmrCFN3UCl2JSOyUT3j00R/dIoQQQkIjYAx6bIiDO0Oz1+ur0YIOHR33iZOnnSFCZ9uO3TrTZgFjec++g5I5U8YQM4sWyZIm0VMs9h885LwTBGYB4c5gzTzmzJFV/ty7X9NogbRt37nbeRWSFMmTS4pkyUy6djnvBAFjDZtEEb+dPPuKB24O+w4clry5czrvBAd5w6yv53OY9XX/gSV/4/cXu++zK3OEw3Oebh+Xr1z1+WM/L+bLGyJuAD2IHy+ebjD1Bgw8rCDAuHYHs9t4ny9DE64WpUsUk0rlSmuZAAxAr3mkGRuHoQer1/wqm7btULcUa0b43PmLOuvbtFE9ddeKGjXoVBusQNnFH1lhMJwnZw49Ucc9jFUWcC0J64Qcd+zUOcQN1xxsdEc+kd+GdWrIm43rq7sWDGbLvQvuOxZ47qKJI7zYKR+7+uivbhFCCCGhETAGveX/vuGPrdq5wzjHCRmr16zV+2Gxa89eWbz8R33u5q1beiTe7Tu31d/ZF+i8a1evLKMnTNXTMPAsjIUZcxfK+592lFNnzmi4wgVeNgZEHI0T7gdW2n79faN+7w0ssVepWFbjsuLGs6PGTZa9+w9IggTxbeXZPR64Y8DgsfIHkDZvIG+VK5QJ9hyMv1Hjp+i7LPyN31/svs+uzIsVLqgz54OGj9X8wcjCgAWnqEybMVevPcmf73lJYIwrK26kAb8mOn7KdJWZZdR5gtNSypQsLv0Hj1RDzkr7sDETpMNXX+sRnt6AQbpz9x6dfQdIJ9598+YtvbaAT/YrhQvo8aU4yhK+2BZw94BBvdmkE++Fns5dsES2bA8+MAoNf2QFSpd6VY9xRBi81yqLJStXS7WK5UK4oYSG3To3Y84C6dD1G/2xNYD0rt+wyQwIkurJQjj6EvsOps+eL7+u36gnCU36bpas+jn09iJWrJhy9do12bHrT/WVR57tlI9dfbSjW3gnjuJ87+MvdDBFCCGEhEXAGPSYbfv0w3dl1oJFUqZaff1gQ1z92jWcIUKnZbM31Nh5rUpdqVznDZ0l6/lle+2sQ6NSuTLy7ltN9XxtPAv/5B+WrpD2bd+XDOmCNvNhVrF7p8/0iMuq9ZtqOCzTN2lQV7/3BeJu2byJ9B44TJ/Bs9eNEdHuo9auGUY7ebbi6dqrv5SsVEvzd+LUGf0RK6TNFzUqV5A3GtZVH2k89+a7bfTovNw5n24MBv7G7y923mdX5okSJZSeXdobw/q21H+zlZSoWEveat1WNzA2aVTX6+qM9czlq1c1bqShY/fe6nIBmfkCcbVo0lA3Qn7Wqbsr7Zj1bv/phxqvN2oZAxYyh/zhL470lXy1qKRP+/TMeQscQZkkSWJ1v3GfzYVxDx3Huex4L3zOYZBiFt8u/sgKoB5881UHPbIT9QNlgSMc27f9QAr7cDMKjbDqHNLRuH5t3YD6+lutVWZIL3QCz8FtB2Ea1q2pKxow/Bu82VINaAwWQuP53DnVpa1b7wHSsWsvM0i6a6t8wquPoekWXMuwgoi9BNb+HkIIISQ0ojh8Tbv9Q8HMFzbOYdbP1/nW7mBp/sPPOkmb994RbCDEjCnA7LcvA8UbOttqDKQoUaP4fBai9Cd+zMJ9/EUXPekCZ4pbJ8BY2M1zeGVjgVNCYMTBNSK02VR/4/cXO+8Lj8xhHOH8+7Dy6Q5mvSEfuEO4n7oSFv7Iyt93uWOVJTY2e268DA/+yMoqC4epKwkSJFB3mGfBTp2z0hlafvGbCHgyvOWHhhG/F2Fhp3zCo48RUd6EEEIICDiDPry4G/S+NiX+3aAIsIzfvc9AebtpI519JYQQQgghxA4B43LzbwY+wvipePjuJk4c8iQRQgghhBBCfPGvn6G3lu1xcoZd14G/GmxC3bv/kGTJnEGX6QkhhBBCCLHLv96gJ4QQQggh5N8MXW4IIYQQQggJYGjQE0IIIYQQEsDQoCeEEEIIISSAoUFPCCGEEEJIAEODnhBCCCGEkACGBj0hhBBCCCEBDA16QgghhBBCAhga9IQQQgghhAQwNOgJIYQQQggJYGjQE0IIIYQQEsDQoCeEEEIIISSAoUFPCCGEEEJIAEODnhBCCCGEkACGBj0hhBBCCCEBDA16QgghhBBCAhga9IQQQgghhAQwNOgJIYQQQggJYGjQE0IIIYQQEsDQoCeEEEIIISSAoUFPCCGEEEJIAEODnhBCCCGEkACGBj0hhBBCCCEBDA16QgghhBBCAhga9IQQQgghhAQwNOgJIYQQQggJYGjQE0IIIYQQEsDQoCeEEEIIISSAoUFPCCGEEEJIAEODnhBCCCGEkACGBj0hhBBCCCEBDA16QgghhBBCAhaR/wOZ/B5pHzxrugAAAABJRU5ErkJggg==)"
      ],
      "metadata": {
        "id": "EMFLtOLH0gyr"
      }
    },
    {
      "cell_type": "code",
      "source": [
        "comentarios = pd.Series(['O filme é simplesmente ruim, o que o senhor Cage tinha na cabeça ao aceitar este papel?', \n",
        "               'Uma obra de arte do começo ao fim. Em Pig vemos o melhor que Nicolas Cage pode fazer. Um ermitão solitário que nos ensina lições sobre como lidar com perdas e frustações em uma trama emocionante.',\n",
        "               'ConAir é um dos clássicos dos filmes de ação com Nicolas Cage, John Cusack e Danny Trejo temos provavelmente o melhor filme de ação do ano.',\n",
        "               'Wow. Simplesmente \"wow\". \"Leaving Las Vegas\" provavelmente é o melhor drama do ano. Atuação impecável por parte do senhor Cage. Elisabeth Shue sendo IMPLACÁVEL em frente as cameras.',\n",
        "               '\"Jiu-Jitsu\" é medíocre. Sequer lutam jiu jitsu no filme. A ideia de \"cair na porrada\" com um alienigena já é ridícula por si só, ainda fazem questão de entregar um papel extremamente importante ao decadente Nicolas Cage. A verdadeira receita do fracasso.'])\n",
        "\n",
        "y_pred_comentarios=pd.Series(['neg',\n",
        "                    'pos',\n",
        "                    'pos',\n",
        "                    'pos',\n",
        "                    'neg'])"
      ],
      "metadata": {
        "id": "w_O8kMei0hrq"
      },
      "execution_count": null,
      "outputs": []
    },
    {
      "cell_type": "code",
      "source": [
        "cometarios2 = ['O filme é bom, mas poderia ser melhor porque eu senti falta do espinossauro. A t rex poderia ter matado o espinossauro em vez do gigantossauro.',\n",
        "               'Dira Paes, sempre espetacular, entregando a alma a este personagem pouco conhecido. Achei que o filme acelera um pouco nos momentos finais mas nada que comprometa a grandiosidade da obra.',\n",
        "               'Canja de galinha e Sonic 2 não fazem mal a ninguém. Filme divertido e interessante para quem gosta do game. Piadas descontraida, personagens caricatos e um FBI para lá de diferente. Sessão da tarde para crianças e adultos.',\n",
        "               'Nada de novo nessa sequencia, o diferente é só pelo fato de entrar outros personagens clássicos do vídeo game do mesmo nome, é uma boa diversão, mas somente isso.',\n",
        "               'Filme arrastado, monotono , cansativo. Desde a metade do filme ficava orando pra acabar logo. Atores sem expressão, roteiro pessimo, o filme não consegue envolver o telespetador, me admira muito alguns críticos terem elogiado esse filme ridiculo. A unica coisa boa é a fotografia.',\n",
        "               'Uma experiência incrível que só Robert Eggers poderia nos proporcionar. Um dos melhores filmes do ano até agora!',\n",
        "               'Simplesmente horrível. Para quem tinha uma expectativa de ver um filme estilo Vikings ou Valhalla foi uma grande decepção.',\n",
        "               '...O principal “defeito” de “Memórias de uma Gueixa” é recorrer ao idioma estadunidense para retratar uma história ambientada exclusivamente no Japão e enraizada nos seus mais profundos costumes e valores culturais.',\n",
        "               'Eu Amo esse filme super fã,choro toda vez que vejo muito Romantico eu não sabia o que significava ser uma gueixa e ele me mostrou!! Quem não viu tem que ver!!! prepare os lenços rsrsrs']\n",
        "\n",
        "y_pred_comentarios2=pd.Series(['neg', \n",
        "                              'pos', \n",
        "                              'pos', \n",
        "                              'neg', \n",
        "                              'neg',\n",
        "                              'pos',\n",
        "                              'neg',\n",
        "                              'neg',\n",
        "                              'pos'])"
      ],
      "metadata": {
        "id": "PPtN3I5a9STK"
      },
      "execution_count": null,
      "outputs": []
    },
    {
      "cell_type": "code",
      "source": [
        "y_pred = pipe.predict(comentarios)\n",
        "\n",
        "print(round(accuracy_score(y_pred_comentarios, y_pred), 3))\n",
        "print(round(precision_score(y_pred_comentarios, y_pred, average='macro'), 3))\n",
        "print(round(recall_score(y_pred_comentarios, y_pred, average='macro'), 3))"
      ],
      "metadata": {
        "colab": {
          "base_uri": "https://localhost:8080/"
        },
        "id": "jtT6C0_-Cr7z",
        "outputId": "94319d9f-ee08-4f34-8f24-e0a845032388"
      },
      "execution_count": null,
      "outputs": [
        {
          "output_type": "stream",
          "name": "stdout",
          "text": [
            "1.0\n",
            "1.0\n",
            "1.0\n"
          ]
        }
      ]
    },
    {
      "cell_type": "code",
      "source": [
        "y_pred = pipe.predict(cometarios2)\n",
        "\n",
        "print(round(accuracy_score(y_pred_comentarios2, y_pred), 3))\n",
        "print(round(precision_score(y_pred_comentarios2, y_pred, average='macro'), 3))\n",
        "print(round(recall_score(y_pred_comentarios2, y_pred, average='macro'), 3))"
      ],
      "metadata": {
        "colab": {
          "base_uri": "https://localhost:8080/"
        },
        "id": "ipaphqvIHVqx",
        "outputId": "3f982327-6962-4c6c-f56e-e1fa4e746fbc"
      },
      "execution_count": null,
      "outputs": [
        {
          "output_type": "stream",
          "name": "stdout",
          "text": [
            "0.778\n",
            "0.833\n",
            "0.8\n"
          ]
        }
      ]
    }
  ]
}