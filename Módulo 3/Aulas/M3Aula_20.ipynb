{
  "nbformat": 4,
  "nbformat_minor": 0,
  "metadata": {
    "colab": {
      "name": "M3Aula_20.ipynb",
      "provenance": []
    },
    "kernelspec": {
      "name": "python3",
      "display_name": "Python 3"
    },
    "language_info": {
      "name": "python"
    }
  },
  "cells": [
    {
      "cell_type": "code",
      "execution_count": null,
      "metadata": {
        "colab": {
          "base_uri": "https://localhost:8080/"
        },
        "id": "saRl83nYftxs",
        "outputId": "7b7cac43-7b4f-4730-961f-26393fd8d750"
      },
      "outputs": [
        {
          "output_type": "stream",
          "name": "stdout",
          "text": [
            "Loading CIFAR10 images ...\n",
            "\tOriginal training set shape:  (50000, 32, 32, 3)\n",
            "\tOriginal testing set shape:  (10000, 32, 32, 3)\n"
          ]
        }
      ],
      "source": [
        "import numpy as np\n",
        "from PIL import Image\n",
        "\n",
        "from keras.datasets import cifar10\n",
        "from tensorflow.keras.models import Model\n",
        "from tensorflow.keras.applications import resnet50\n",
        "\n",
        "from sklearn.metrics import accuracy_score\n",
        "from sklearn.neighbors import KNeighborsClassifier\n",
        "\n",
        "print(\"Loading CIFAR10 images ...\")\n",
        "(Xtrain, Ytrain), (Xtest, Ytest) = cifar10.load_data()\n",
        "\n",
        "print('\\tOriginal training set shape: ', Xtrain.shape)\n",
        "print('\\tOriginal testing set shape: ', Xtest.shape)"
      ]
    },
    {
      "cell_type": "code",
      "source": [
        "def lowSampleDataset(X, Y):\n",
        "    perm = np.random.permutation(X.shape[0])\n",
        "    X = X[perm[0 : (int)(X.shape[0] * (5/100))]]\n",
        "    Y = Y[perm[0 : (int)(Y.shape[0] * (5/100))]]\n",
        "    return X, Y\n",
        "\n",
        "Xtrain, Ytrain = lowSampleDataset(Xtrain, Ytrain)\n",
        "Xtest, Ytest = lowSampleDataset(Xtest, Ytest)\n",
        "\n",
        "print('\\tOriginal training set shape: ', Xtrain.shape)\n",
        "print('\\tOriginal testing set shape: ', Xtest.shape)"
      ],
      "metadata": {
        "colab": {
          "base_uri": "https://localhost:8080/"
        },
        "id": "_f-cuXjffy2-",
        "outputId": "3fe45d88-da0b-4b6a-e2a3-7cf9d999bed1"
      },
      "execution_count": null,
      "outputs": [
        {
          "output_type": "stream",
          "name": "stdout",
          "text": [
            "\tOriginal training set shape:  (2500, 32, 32, 3)\n",
            "\tOriginal testing set shape:  (500, 32, 32, 3)\n"
          ]
        }
      ]
    },
    {
      "cell_type": "code",
      "source": [
        "X = []\n",
        "for i in range(0, Xtrain.shape[0]):\n",
        "    X.append(np.array(Image.fromarray(Xtrain[i]).resize(size=(224,224))))\n",
        "Xtrain = np.array(X)\n",
        "\n",
        "X = []\n",
        "for i in range(0, Xtest.shape[0]):\n",
        "    X.append(np.array(Image.fromarray(Xtest[i]).resize(size=(224,224))))\n",
        "Xtest = np.array(X)\n",
        "\n",
        "print('\\tTraining set shape: ', Xtrain.shape)\n",
        "print('\\tTesting set shape: ', Xtest.shape)"
      ],
      "metadata": {
        "colab": {
          "base_uri": "https://localhost:8080/"
        },
        "id": "9AH0hiSifz8m",
        "outputId": "845c63ac-417a-4702-ef9d-09dd6212a59f"
      },
      "execution_count": null,
      "outputs": [
        {
          "output_type": "stream",
          "name": "stdout",
          "text": [
            "\tTraining set shape:  (2500, 224, 224, 3)\n",
            "\tTesting set shape:  (500, 224, 224, 3)\n"
          ]
        }
      ]
    },
    {
      "cell_type": "code",
      "source": [
        "print(\"Loading the ResNet50-ImageNet model ...\")\n",
        "model = resnet50.ResNet50(include_top=True, weights='imagenet', input_shape=(224, 224, 3), classes=1000)\n",
        "model = Model(inputs=model.input, outputs=model.get_layer(index=-2).output)\n",
        "#model.summary()\n",
        "\n",
        "prediction = np.array(model.predict(Xtrain))\n",
        "Xtrain = np.reshape(prediction, (prediction.shape[0], prediction.shape[1]))\n",
        "\n",
        "prediction = np.array(model.predict(Xtest))\n",
        "Xtest = np.reshape(prediction, (prediction.shape[0], prediction.shape[1]))\n",
        "\n",
        "print('\\tFeatures training shape: ', Xtrain.shape)\n",
        "print('\\tFeatures testing shape: ', Xtest.shape)"
      ],
      "metadata": {
        "id": "XH5nx6aQf2HU"
      },
      "execution_count": null,
      "outputs": []
    },
    {
      "cell_type": "code",
      "source": [
        "print(\"Classification with KNN ...\")\n",
        "knn = KNeighborsClassifier(n_neighbors=3)\n",
        "knn.fit(Xtrain, np.ravel(Ytrain, order='C'))\n",
        "result = knn.predict(Xtest)\n",
        "\n",
        "acc = accuracy_score(result, Ytest)\n",
        "print(\"\\tAccuracy Linear KNN: %0.4f\" % acc)"
      ],
      "metadata": {
        "colab": {
          "base_uri": "https://localhost:8080/"
        },
        "id": "7HgP926If3dX",
        "outputId": "d496a608-f76d-4b00-9145-588f51a5d3cc"
      },
      "execution_count": null,
      "outputs": [
        {
          "output_type": "stream",
          "name": "stdout",
          "text": [
            "Classification with KNN ...\n",
            "\tAccuracy Linear KNN: 0.6220\n"
          ]
        }
      ]
    },
    {
      "cell_type": "markdown",
      "source": [
        "# Exercícios:\n",
        "1. Considerando o dataset CIFAR10, faça extração de características com a antepenúltima camada.  \n",
        "* Indique a quantidade de atributos obtidos nesta camada.\n",
        "* Utilize o espaço de características com o classificador KNN com 3 vizinhos. Compare o resultado obtido com a versão de exemplo. Qual a melhor performance?\n",
        "* Repita este mesmo experimento executando PCA como etapa complementar entre a extração e classificação. Compare novamente os resultados."
      ],
      "metadata": {
        "id": "4D6PKpPxf73W"
      }
    },
    {
      "cell_type": "code",
      "source": [
        "# Para extração de caracteristicas na penultima camada, precisamos que a saída da rede seja no indice -3\n",
        "\n",
        "print(\"Loading the ResNet50-ImageNet model ...\")\n",
        "model = resnet50.ResNet50(include_top=True, weights='imagenet', input_shape=(224, 224, 3), classes=1000)\n",
        "model = Model(inputs=model.input, outputs=model.get_layer(index=-3).output)"
      ],
      "metadata": {
        "colab": {
          "base_uri": "https://localhost:8080/"
        },
        "id": "L9DGdUUkkYej",
        "outputId": "804f26cc-7d9f-4411-9b81-bab721053d28"
      },
      "execution_count": null,
      "outputs": [
        {
          "output_type": "stream",
          "name": "stdout",
          "text": [
            "Loading the ResNet50-ImageNet model ...\n"
          ]
        }
      ]
    },
    {
      "cell_type": "code",
      "source": [
        "print(\"Loading CIFAR10 images ...\")\n",
        "(Xtrain, Ytrain), (Xtest, Ytest) = cifar10.load_data()\n",
        "\n",
        "print('\\tOriginal training set shape: ', Xtrain.shape)\n",
        "print('\\tOriginal testing set shape: ', Xtest.shape)\n",
        "\n",
        "Xtrain, Ytrain = lowSampleDataset(Xtrain, Ytrain)\n",
        "Xtest, Ytest = lowSampleDataset(Xtest, Ytest)\n",
        "\n",
        "print('\\tSampled training set shape: ', Xtrain.shape)\n",
        "print('\\tSampled testing set shape: ', Xtest.shape)\n",
        "\n",
        "X = []\n",
        "for i in range(0, Xtrain.shape[0]):\n",
        "    X.append(np.array(Image.fromarray(Xtrain[i]).resize(size=(224,224))))\n",
        "Xtrain = np.array(X)\n",
        "\n",
        "X = []\n",
        "for i in range(0, Xtest.shape[0]):\n",
        "    X.append(np.array(Image.fromarray(Xtest[i]).resize(size=(224,224))))\n",
        "Xtest = np.array(X)\n",
        "\n",
        "print('\\tFinal Training set shape: ', Xtrain.shape)\n",
        "print('\\tFinal Testing set shape: ', Xtest.shape)"
      ],
      "metadata": {
        "colab": {
          "base_uri": "https://localhost:8080/"
        },
        "id": "TorUBMl4nZ8s",
        "outputId": "f8dd9501-6eeb-462e-ac10-04312d1744bc"
      },
      "execution_count": null,
      "outputs": [
        {
          "output_type": "stream",
          "name": "stdout",
          "text": [
            "Loading CIFAR10 images ...\n",
            "\tOriginal training set shape:  (50000, 32, 32, 3)\n",
            "\tOriginal testing set shape:  (10000, 32, 32, 3)\n",
            "\tSampled training set shape:  (2500, 32, 32, 3)\n",
            "\tSampled testing set shape:  (500, 32, 32, 3)\n",
            "\tFinal Training set shape:  (2500, 224, 224, 3)\n",
            "\tFinal Testing set shape:  (500, 224, 224, 3)\n"
          ]
        }
      ]
    },
    {
      "cell_type": "code",
      "source": [
        "prediction = np.array(model.predict(Xtrain))\n",
        "Xtrain = np.reshape(prediction, (prediction.shape[0], 100352))\n",
        "\n",
        "prediction = np.array(model.predict(Xtest))\n",
        "Xtest = np.reshape(prediction, (prediction.shape[0], 100352))\n",
        "\n",
        "print('\\tFeatures training shape: ', Xtrain.shape)\n",
        "print('\\tFeatures testing shape: ', Xtest.shape)"
      ],
      "metadata": {
        "colab": {
          "base_uri": "https://localhost:8080/"
        },
        "id": "FikC_S00mn5t",
        "outputId": "4bd16b45-d397-4caf-b76f-39537b0cfaa3"
      },
      "execution_count": null,
      "outputs": [
        {
          "output_type": "stream",
          "name": "stdout",
          "text": [
            "\tFeatures training shape:  (2500, 100352)\n",
            "\tFeatures testing shape:  (500, 100352)\n"
          ]
        }
      ]
    },
    {
      "cell_type": "code",
      "source": [
        "print(\"Classification with KNN ...\")\n",
        "knn = KNeighborsClassifier(n_neighbors=3)\n",
        "knn.fit(Xtrain, np.ravel(Ytrain, order='C'))\n",
        "result = knn.predict(Xtest)\n",
        "\n",
        "acc = accuracy_score(result, Ytest)\n",
        "print(\"\\tAccuracy Linear KNN: %0.4f\" % acc)"
      ],
      "metadata": {
        "colab": {
          "base_uri": "https://localhost:8080/"
        },
        "id": "dfVBejTBq7mP",
        "outputId": "9b480d5d-4f2e-4f7c-f19a-d62476f1a30e"
      },
      "execution_count": null,
      "outputs": [
        {
          "output_type": "stream",
          "name": "stdout",
          "text": [
            "Classification with KNN ...\n",
            "\tAccuracy Linear KNN: 0.4680\n"
          ]
        }
      ]
    },
    {
      "cell_type": "markdown",
      "source": [
        "A melhor performance foi obtida na versão de exemplo"
      ],
      "metadata": {
        "id": "NAleuaL5xODC"
      }
    },
    {
      "cell_type": "code",
      "source": [
        "# Aplicando PCA\n",
        "from sklearn.decomposition import PCA\n",
        "\n",
        "pca = PCA(n_components=.95, svd_solver='full')\n",
        "Xtrain_pca = pca.fit_transform(Xtrain)\n",
        "Xtest_pca = pca.transform(Xtest)\n",
        "\n",
        "print(\"Classification with KNN ...\")\n",
        "knn = KNeighborsClassifier(n_neighbors=3)\n",
        "knn.fit(Xtrain_pca, np.ravel(Ytrain, order='C'))\n",
        "result = knn.predict(Xtest_pca)\n",
        "\n",
        "acc = accuracy_score(result, Ytest)\n",
        "print(\"\\tAccuracy Linear KNN: %0.4f\" % acc)"
      ],
      "metadata": {
        "colab": {
          "base_uri": "https://localhost:8080/"
        },
        "id": "x3MYZtQ2wdLN",
        "outputId": "2741a825-5b96-44ea-e1b0-b136c8957c22"
      },
      "execution_count": null,
      "outputs": [
        {
          "output_type": "stream",
          "name": "stdout",
          "text": [
            "Classification with KNN ...\n",
            "\tAccuracy Linear KNN: 0.4180\n"
          ]
        }
      ]
    },
    {
      "cell_type": "markdown",
      "source": [
        "Os resultados com PCA foram ainda piores que os outros dois exemplos."
      ],
      "metadata": {
        "id": "gQXvk2AC3pN3"
      }
    }
  ]
}