{
  "nbformat": 4,
  "nbformat_minor": 0,
  "metadata": {
    "colab": {
      "name": "M3Codelab_20b.ipynb",
      "provenance": []
    },
    "kernelspec": {
      "name": "python3",
      "display_name": "Python 3"
    },
    "language_info": {
      "name": "python"
    },
    "accelerator": "GPU",
    "gpuClass": "standard"
  },
  "cells": [
    {
      "cell_type": "markdown",
      "source": [
        "# Exercícios\n",
        "Analise o dataset Diabetic Retinopathy e estabeleça um protocolo de execução.  \n",
        "* Quantas classes existem neste dataset?  \n",
        "* Como podemos carregar as imagens para a execução?  \n",
        "* Adicionalmente, após a formação do conjunto, compare a performance dos vetores obtidos na VGG com a ResNet em 3 classificadores diferentes.  "
      ],
      "metadata": {
        "id": "6mEAUiRd-8Tf"
      }
    },
    {
      "cell_type": "markdown",
      "source": [
        "As classes do dataset estão divididas em pastas, as 5 classes são:  \n",
        "Healthy  \n",
        "Mild DR  \n",
        "Moderate DR  \n",
        "Proliferate DR  \n",
        "Severe DR"
      ],
      "metadata": {
        "id": "cFH2tr5C7p_A"
      }
    },
    {
      "cell_type": "markdown",
      "source": [
        "As imagens foram hospedadas num repositorio github e então carregados no google colab"
      ],
      "metadata": {
        "id": "Q8JZJsDMbaEC"
      }
    },
    {
      "cell_type": "code",
      "source": [
        "!git clone https://github.com/aaasatoou/BlueEdTech_M3.git"
      ],
      "metadata": {
        "colab": {
          "base_uri": "https://localhost:8080/"
        },
        "id": "ndb4r5qvBPAV",
        "outputId": "baef8731-ac1c-4645-cb3c-f8399453ee99"
      },
      "execution_count": null,
      "outputs": [
        {
          "output_type": "stream",
          "name": "stdout",
          "text": [
            "Cloning into 'BlueEdTech_M3'...\n",
            "remote: Enumerating objects: 2657, done.\u001b[K\n",
            "remote: Counting objects: 100% (3/3), done.\u001b[K\n",
            "remote: Total 2657 (delta 0), reused 3 (delta 0), pack-reused 2654\u001b[K\n",
            "Receiving objects: 100% (2657/2657), 336.23 MiB | 16.81 MiB/s, done.\n"
          ]
        }
      ]
    },
    {
      "cell_type": "markdown",
      "source": [
        "A biblioteca 'os' pode ser utilizada para acessar os arquivos carregados para que sejam transformados da forma mais adequada."
      ],
      "metadata": {
        "id": "c_iw6Nb5bnbk"
      }
    },
    {
      "cell_type": "code",
      "source": [
        "import os\n",
        "import numpy as np\n",
        "\n",
        "from PIL import Image"
      ],
      "metadata": {
        "id": "e7LaeBOmx6a5"
      },
      "execution_count": null,
      "outputs": []
    },
    {
      "cell_type": "code",
      "source": [
        "Healthy_path = '/content/BlueEdTech_M3/Datasets/Diabetic Retinopathy Dataset/Healthy/'\n",
        "Mild_path = '/content/BlueEdTech_M3/Datasets/Diabetic Retinopathy Dataset/Mild DR/'\n",
        "Moderate_path = '/content/BlueEdTech_M3/Datasets/Diabetic Retinopathy Dataset/Moderate DR/'\n",
        "Proliferate_path = '/content/BlueEdTech_M3/Datasets/Diabetic Retinopathy Dataset/Proliferate DR/'\n",
        "Severe_path = '/content/BlueEdTech_M3/Datasets/Diabetic Retinopathy Dataset/Severe DR/'\n",
        "\n",
        "Healthy = os.listdir(Healthy_path)\n",
        "Mild = os.listdir(Mild_path)\n",
        "Moderate = os.listdir(Moderate_path)\n",
        "Proliferate = os.listdir(Proliferate_path)\n",
        "Severe = os.listdir(Severe_path)\n",
        "\n",
        "paths = [Healthy_path, Mild_path, Moderate_path, Proliferate_path, Severe_path]\n",
        "files = [Healthy, Mild, Moderate, Proliferate, Severe]"
      ],
      "metadata": {
        "id": "r9ecGj0gBXWQ"
      },
      "execution_count": null,
      "outputs": []
    },
    {
      "cell_type": "code",
      "source": [
        "X = np.empty(shape=(2750, 224, 224, 3)) # 2750 imagens. 224 x 224 será o tamanho da imagem, em 3 canais (RGB)\n",
        "y = []\n",
        "contagem = 0\n",
        "\n",
        "for i in range(0, len(paths)):\n",
        "  for j in files[i]:\n",
        "    a = Image.open(paths[i] + j).convert('RGB').resize(size=(224,224))\n",
        "    X[contagem] = np.array(a)\n",
        "    y.append(paths[i][61:-1])\n",
        "    contagem += 1\n",
        "\n",
        "X = X/255"
      ],
      "metadata": {
        "id": "5G2heyi4QsEz"
      },
      "execution_count": null,
      "outputs": []
    },
    {
      "cell_type": "markdown",
      "source": [
        "Com o conjunto adequado, basta obter as características utilizando as redes neurais já treinadas e então classificá-los."
      ],
      "metadata": {
        "id": "ds6uxfzGeM7v"
      }
    },
    {
      "cell_type": "code",
      "source": [
        "from tensorflow.keras.models import Model\n",
        "from tensorflow.keras.applications import resnet50, VGG19\n",
        "\n",
        "from sklearn.model_selection import train_test_split\n",
        "\n",
        "from sklearn.metrics import accuracy_score\n",
        "from sklearn.neighbors import KNeighborsClassifier\n",
        "from sklearn.svm import SVC\n",
        "\n",
        "import lightgbm as lgb"
      ],
      "metadata": {
        "id": "yNIhgFlD9hZ_"
      },
      "execution_count": null,
      "outputs": []
    },
    {
      "cell_type": "code",
      "source": [
        "X_train, X_test, y_train, y_test = train_test_split(X, y, test_size = 0.2, random_state= 95)\n",
        "\n",
        "print(\"Loading the ResNet50-ImageNet model ...\")\n",
        "model = resnet50.ResNet50(include_top=True, weights='imagenet', input_shape=(224, 224, 3), classes=1000)\n",
        "model = Model(inputs=model.input, outputs=model.get_layer(index=-2).output)\n",
        "#model.summary()\n",
        "\n",
        "print('\\tFeatures training shape: ', X_train.shape)\n",
        "print('\\tFeatures testing shape: ', X_test.shape)\n",
        "print('\\nFeature extraction...\\n')\n",
        "prediction = np.array(model.predict(X_train))\n",
        "X_train = np.reshape(prediction, (prediction.shape[0], prediction.shape[1]))\n",
        "\n",
        "prediction = np.array(model.predict(X_test))\n",
        "X_test = np.reshape(prediction, (prediction.shape[0], prediction.shape[1]))\n",
        "\n",
        "print('\\tFeatures training shape: ', X_train.shape)\n",
        "print('\\tFeatures testing shape: ', X_test.shape)"
      ],
      "metadata": {
        "colab": {
          "base_uri": "https://localhost:8080/"
        },
        "id": "dV7lbRu--a8u",
        "outputId": "85d03d8e-7b30-4efb-82c3-66ea9405d0dc"
      },
      "execution_count": null,
      "outputs": [
        {
          "output_type": "stream",
          "name": "stdout",
          "text": [
            "Loading the ResNet50-ImageNet model ...\n",
            "Downloading data from https://storage.googleapis.com/tensorflow/keras-applications/resnet/resnet50_weights_tf_dim_ordering_tf_kernels.h5\n",
            "102973440/102967424 [==============================] - 1s 0us/step\n",
            "102981632/102967424 [==============================] - 1s 0us/step\n",
            "\tFeatures training shape:  (2200, 224, 224, 3)\n",
            "\tFeatures testing shape:  (550, 224, 224, 3)\n",
            "\n",
            "Feature extraction...\n",
            "\n",
            "\tFeatures training shape:  (2200, 2048)\n",
            "\tFeatures testing shape:  (550, 2048)\n"
          ]
        }
      ]
    },
    {
      "cell_type": "code",
      "source": [
        "knn = KNeighborsClassifier(n_neighbors=3)\n",
        "svc = SVC()\n",
        "lgbm = lgb.LGBMClassifier()\n",
        "\n",
        "knn.fit(X_train, np.ravel(y_train, order='C'))\n",
        "svc.fit(X_train, np.ravel(y_train, order='C'))\n",
        "lgbm.fit(X_train, np.ravel(y_train, order='C'))\n",
        "\n",
        "result_knn = knn.predict(X_test)\n",
        "result_svc = svc.predict(X_test)\n",
        "result_lgbm = lgbm.predict(X_test)\n",
        "\n",
        "acc_knn = accuracy_score(result_knn, y_test)\n",
        "acc_svc = accuracy_score(result_svc, y_test)\n",
        "acc_lgbm = accuracy_score(result_lgbm, y_test)\n",
        "\n",
        "print(\"\\tAccuracy Linear KNN: %0.4f\" % acc_knn)\n",
        "print(\"\\tAccuracy SVM: %0.4f\" % acc_svc)\n",
        "print(\"\\tAccuracy LGBM: %0.4f\" % acc_lgbm)"
      ],
      "metadata": {
        "colab": {
          "base_uri": "https://localhost:8080/"
        },
        "id": "Ts5UlRNlC7Ry",
        "outputId": "e9036499-3398-46ce-b886-61c960a1669b"
      },
      "execution_count": null,
      "outputs": [
        {
          "output_type": "stream",
          "name": "stdout",
          "text": [
            "\tAccuracy Linear KNN: 0.6382\n",
            "\tAccuracy SVM: 0.5982\n",
            "\tAccuracy LGBM: 0.6818\n"
          ]
        }
      ]
    },
    {
      "cell_type": "code",
      "source": [
        "from keras.backend import clear_session\n",
        "\n",
        "clear_session() # Limpa o modelo anterior"
      ],
      "metadata": {
        "id": "-fLhkYenhC4y"
      },
      "execution_count": null,
      "outputs": []
    },
    {
      "cell_type": "code",
      "source": [
        "X_train, X_test, y_train, y_test = train_test_split(X, y, test_size = 0.2, random_state= 95)\n",
        "\n",
        "# Limpar essas variáveis libera espaço na memória, como não serão mais utilizadas, devem ser deletadas para que seja possível a execução no google colab.\n",
        "del X \n",
        "del y\n",
        "\n",
        "model = VGG19(include_top=True, weights='imagenet', input_shape=(224, 224, 3), classes=1000)\n",
        "model = Model(inputs=model.input, outputs=model.get_layer(index=-2).output)\n",
        "# model.summary()\n",
        "\n",
        "print('\\tFeatures training shape: ', X_train.shape)\n",
        "print('\\tFeatures testing shape: ', X_test.shape)\n",
        "print('\\nFeature extraction...\\n')\n",
        "prediction = np.array(model.predict(X_train))\n",
        "X_train = np.reshape(prediction, (prediction.shape[0], prediction.shape[1]))\n",
        "\n",
        "prediction = np.array(model.predict(X_test))\n",
        "X_test = np.reshape(prediction, (prediction.shape[0], prediction.shape[1]))\n",
        "\n",
        "print('\\tFeatures training shape: ', X_train.shape)\n",
        "print('\\tFeatures testing shape: ', X_test.shape)"
      ],
      "metadata": {
        "colab": {
          "base_uri": "https://localhost:8080/"
        },
        "id": "Z0Tbu0QwhN4R",
        "outputId": "79d96d6c-a3f0-4095-d23c-508298c8ab95"
      },
      "execution_count": null,
      "outputs": [
        {
          "output_type": "stream",
          "name": "stdout",
          "text": [
            "Downloading data from https://storage.googleapis.com/tensorflow/keras-applications/vgg19/vgg19_weights_tf_dim_ordering_tf_kernels.h5\n",
            "574717952/574710816 [==============================] - 16s 0us/step\n",
            "574726144/574710816 [==============================] - 16s 0us/step\n",
            "\tFeatures training shape:  (2200, 224, 224, 3)\n",
            "\tFeatures testing shape:  (550, 224, 224, 3)\n",
            "\n",
            "Feature extraction...\n",
            "\n",
            "\tFeatures training shape:  (2200, 4096)\n",
            "\tFeatures testing shape:  (550, 4096)\n"
          ]
        }
      ]
    },
    {
      "cell_type": "code",
      "source": [
        "knn.fit(X_train, np.ravel(y_train, order='C'))\n",
        "svc.fit(X_train, np.ravel(y_train, order='C'))\n",
        "lgbm.fit(X_train, np.ravel(y_train, order='C'))\n",
        "\n",
        "result_knn = knn.predict(X_test)\n",
        "result_svc = svc.predict(X_test)\n",
        "result_lgbm = lgbm.predict(X_test)\n",
        "\n",
        "acc_knn = accuracy_score(result_knn, y_test)\n",
        "acc_svc = accuracy_score(result_svc, y_test)\n",
        "acc_lgbm = accuracy_score(result_lgbm, y_test)\n",
        "\n",
        "print(\"\\tAccuracy Linear KNN: %0.4f\" % acc_knn)\n",
        "print(\"\\tAccuracy SVM: %0.4f\" % acc_svc)\n",
        "print(\"\\tAccuracy LGBM: %0.4f\" % acc_lgbm)"
      ],
      "metadata": {
        "colab": {
          "base_uri": "https://localhost:8080/"
        },
        "id": "ASKNiOK2lSlc",
        "outputId": "62a6e196-1821-448d-e713-39f61cfd85bf"
      },
      "execution_count": null,
      "outputs": [
        {
          "output_type": "stream",
          "name": "stdout",
          "text": [
            "\tAccuracy Linear KNN: 0.6345\n",
            "\tAccuracy SVM: 0.6273\n",
            "\tAccuracy LGBM: 0.6818\n"
          ]
        }
      ]
    },
    {
      "cell_type": "markdown",
      "source": [
        "As performances são bem semelhantes, as métricas obtidas pelos vetores extraídos da VGG19 são levemente melhores."
      ],
      "metadata": {
        "id": "UpFSttZKn5lQ"
      }
    }
  ]
}